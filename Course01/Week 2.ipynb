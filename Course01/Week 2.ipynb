{
 "cells": [
  {
   "cell_type": "markdown",
   "metadata": {
    "nbpresent": {
     "id": "59915182-74d8-4750-a808-b1173dba07cb"
    }
   },
   "source": [
    "---\n",
    "\n",
    "_You are currently looking at **version 1.0** of this notebook. To download notebooks and datafiles, as well as get help on Jupyter notebooks in the Coursera platform, visit the [Jupyter Notebook FAQ](https://www.coursera.org/learn/python-data-analysis/resources/0dhYG) course resource._\n",
    "\n",
    "---"
   ]
  },
  {
   "cell_type": "markdown",
   "metadata": {
    "nbpresent": {
     "id": "aa546045-dbc1-4bfa-a971-e3ca201a2bd9"
    }
   },
   "source": [
    "# The Series Data Structure"
   ]
  },
  {
   "cell_type": "code",
   "execution_count": 1,
   "metadata": {
    "collapsed": false,
    "nbpresent": {
     "id": "f192d444-ec57-4e1c-a6bc-fa490816e699"
    }
   },
   "outputs": [],
   "source": [
    "import pandas as pd\n",
    "pd.Series?"
   ]
  },
  {
   "cell_type": "code",
   "execution_count": 2,
   "metadata": {
    "collapsed": false,
    "nbpresent": {
     "id": "0c7710bb-3f01-4d51-b700-533abc0ed129"
    }
   },
   "outputs": [
    {
     "data": {
      "text/plain": [
       "0    Tiger\n",
       "1     Bear\n",
       "2    Moose\n",
       "dtype: object"
      ]
     },
     "execution_count": 2,
     "metadata": {},
     "output_type": "execute_result"
    }
   ],
   "source": [
    "animals = ['Tiger', 'Bear', 'Moose']\n",
    "pd.Series(animals)"
   ]
  },
  {
   "cell_type": "code",
   "execution_count": 3,
   "metadata": {
    "collapsed": false,
    "nbpresent": {
     "id": "568e0f76-16e9-44d7-a245-e7ef0aa409b1"
    }
   },
   "outputs": [
    {
     "data": {
      "text/plain": [
       "0    1\n",
       "1    2\n",
       "2    3\n",
       "dtype: int64"
      ]
     },
     "execution_count": 3,
     "metadata": {},
     "output_type": "execute_result"
    }
   ],
   "source": [
    "numbers = [1, 2, 3]\n",
    "pd.Series(numbers)"
   ]
  },
  {
   "cell_type": "code",
   "execution_count": 4,
   "metadata": {
    "collapsed": false,
    "nbpresent": {
     "id": "4b98924f-a03d-4750-9eea-21f25db02a37"
    }
   },
   "outputs": [
    {
     "data": {
      "text/plain": [
       "0    Tiger\n",
       "1     Bear\n",
       "2     None\n",
       "dtype: object"
      ]
     },
     "execution_count": 4,
     "metadata": {},
     "output_type": "execute_result"
    }
   ],
   "source": [
    "animals = ['Tiger', 'Bear', None]\n",
    "pd.Series(animals)"
   ]
  },
  {
   "cell_type": "code",
   "execution_count": 5,
   "metadata": {
    "collapsed": false,
    "nbpresent": {
     "id": "038a4b6b-3a8f-4d09-8c10-0f086fcd35f2"
    }
   },
   "outputs": [
    {
     "data": {
      "text/plain": [
       "0    1.0\n",
       "1    2.0\n",
       "2    NaN\n",
       "dtype: float64"
      ]
     },
     "execution_count": 5,
     "metadata": {},
     "output_type": "execute_result"
    }
   ],
   "source": [
    "numbers = [1, 2, None]\n",
    "pd.Series(numbers)"
   ]
  },
  {
   "cell_type": "code",
   "execution_count": 6,
   "metadata": {
    "collapsed": false,
    "nbpresent": {
     "id": "70f9b141-1c28-4016-afa1-9b4205bebe8f"
    }
   },
   "outputs": [
    {
     "data": {
      "text/plain": [
       "False"
      ]
     },
     "execution_count": 6,
     "metadata": {},
     "output_type": "execute_result"
    }
   ],
   "source": [
    "import numpy as np\n",
    "np.nan == None"
   ]
  },
  {
   "cell_type": "code",
   "execution_count": 7,
   "metadata": {
    "collapsed": false,
    "nbpresent": {
     "id": "86bfbe47-19c4-4eb2-9a93-8a7388f0c8f2"
    }
   },
   "outputs": [
    {
     "data": {
      "text/plain": [
       "False"
      ]
     },
     "execution_count": 7,
     "metadata": {},
     "output_type": "execute_result"
    }
   ],
   "source": [
    "np.nan == np.nan"
   ]
  },
  {
   "cell_type": "code",
   "execution_count": 8,
   "metadata": {
    "collapsed": false,
    "nbpresent": {
     "id": "8ef35f5d-ae7b-45ef-a5f8-755d5535d8b2"
    }
   },
   "outputs": [
    {
     "data": {
      "text/plain": [
       "True"
      ]
     },
     "execution_count": 8,
     "metadata": {},
     "output_type": "execute_result"
    }
   ],
   "source": [
    "np.isnan(np.nan)"
   ]
  },
  {
   "cell_type": "code",
   "execution_count": 9,
   "metadata": {
    "collapsed": false,
    "nbpresent": {
     "id": "45d3f0b0-282e-46d1-b710-fcac901f07c0"
    }
   },
   "outputs": [
    {
     "data": {
      "text/plain": [
       "Archery           Bhutan\n",
       "Golf            Scotland\n",
       "Sumo               Japan\n",
       "Taekwondo    South Korea\n",
       "dtype: object"
      ]
     },
     "execution_count": 9,
     "metadata": {},
     "output_type": "execute_result"
    }
   ],
   "source": [
    "sports = {'Archery': 'Bhutan',\n",
    "          'Golf': 'Scotland',\n",
    "          'Sumo': 'Japan',\n",
    "          'Taekwondo': 'South Korea'}\n",
    "s = pd.Series(sports)\n",
    "s"
   ]
  },
  {
   "cell_type": "code",
   "execution_count": 10,
   "metadata": {
    "collapsed": false,
    "nbpresent": {
     "id": "c307523f-8ab6-4a9c-a2f8-81b5f65d8bb0"
    }
   },
   "outputs": [
    {
     "data": {
      "text/plain": [
       "Index(['Archery', 'Golf', 'Sumo', 'Taekwondo'], dtype='object')"
      ]
     },
     "execution_count": 10,
     "metadata": {},
     "output_type": "execute_result"
    }
   ],
   "source": [
    "s.index"
   ]
  },
  {
   "cell_type": "code",
   "execution_count": 11,
   "metadata": {
    "collapsed": false,
    "nbpresent": {
     "id": "8dd13f86-a9d4-4336-9c2c-ea22a4ad4ea9"
    }
   },
   "outputs": [
    {
     "data": {
      "text/plain": [
       "India      Tiger\n",
       "America     Bear\n",
       "Canada     Moose\n",
       "dtype: object"
      ]
     },
     "execution_count": 11,
     "metadata": {},
     "output_type": "execute_result"
    }
   ],
   "source": [
    "s = pd.Series(['Tiger', 'Bear', 'Moose'], index=['India', 'America', 'Canada'])\n",
    "s"
   ]
  },
  {
   "cell_type": "code",
   "execution_count": 12,
   "metadata": {
    "collapsed": false,
    "nbpresent": {
     "id": "9d6f1e70-31ed-4f11-a2b8-7d7951e281a2"
    }
   },
   "outputs": [
    {
     "data": {
      "text/plain": [
       "Golf      Scotland\n",
       "Sumo         Japan\n",
       "Hockey         NaN\n",
       "dtype: object"
      ]
     },
     "execution_count": 12,
     "metadata": {},
     "output_type": "execute_result"
    }
   ],
   "source": [
    "sports = {'Archery': 'Bhutan',\n",
    "          'Golf': 'Scotland',\n",
    "          'Sumo': 'Japan',\n",
    "          'Taekwondo': 'South Korea'}\n",
    "s = pd.Series(sports, index=['Golf', 'Sumo', 'Hockey'])\n",
    "s"
   ]
  },
  {
   "cell_type": "markdown",
   "metadata": {
    "nbpresent": {
     "id": "1bfbf5bf-a54d-430f-8310-3d0afdce2c3a"
    }
   },
   "source": [
    "# Querying a Series"
   ]
  },
  {
   "cell_type": "code",
   "execution_count": 13,
   "metadata": {
    "collapsed": false,
    "nbpresent": {
     "id": "4dbe1d1a-bc62-41ec-9dc5-786424645276"
    }
   },
   "outputs": [
    {
     "data": {
      "text/plain": [
       "Archery           Bhutan\n",
       "Golf            Scotland\n",
       "Sumo               Japan\n",
       "Taekwondo    South Korea\n",
       "dtype: object"
      ]
     },
     "execution_count": 13,
     "metadata": {},
     "output_type": "execute_result"
    }
   ],
   "source": [
    "sports = {'Archery': 'Bhutan',\n",
    "          'Golf': 'Scotland',\n",
    "          'Sumo': 'Japan',\n",
    "          'Taekwondo': 'South Korea'}\n",
    "s = pd.Series(sports)\n",
    "s"
   ]
  },
  {
   "cell_type": "code",
   "execution_count": 14,
   "metadata": {
    "collapsed": false,
    "nbpresent": {
     "id": "31f68893-1a23-43d3-abf7-2220d0a192d5"
    }
   },
   "outputs": [
    {
     "data": {
      "text/plain": [
       "'South Korea'"
      ]
     },
     "execution_count": 14,
     "metadata": {},
     "output_type": "execute_result"
    }
   ],
   "source": [
    "s.iloc[3]"
   ]
  },
  {
   "cell_type": "code",
   "execution_count": 15,
   "metadata": {
    "collapsed": false,
    "nbpresent": {
     "id": "ff7fcf80-e272-49e8-a8ee-e93ff8794a85"
    }
   },
   "outputs": [
    {
     "data": {
      "text/plain": [
       "'Scotland'"
      ]
     },
     "execution_count": 15,
     "metadata": {},
     "output_type": "execute_result"
    }
   ],
   "source": [
    "s.loc['Golf']"
   ]
  },
  {
   "cell_type": "code",
   "execution_count": 16,
   "metadata": {
    "collapsed": false,
    "nbpresent": {
     "id": "a864f1ba-9521-48cb-bad6-7e37df80e86b"
    }
   },
   "outputs": [
    {
     "data": {
      "text/plain": [
       "'South Korea'"
      ]
     },
     "execution_count": 16,
     "metadata": {},
     "output_type": "execute_result"
    }
   ],
   "source": [
    "s[3]"
   ]
  },
  {
   "cell_type": "code",
   "execution_count": 17,
   "metadata": {
    "collapsed": false,
    "nbpresent": {
     "id": "449e49cd-1aae-4c0c-a82f-5feca25ce642"
    }
   },
   "outputs": [
    {
     "data": {
      "text/plain": [
       "'Scotland'"
      ]
     },
     "execution_count": 17,
     "metadata": {},
     "output_type": "execute_result"
    }
   ],
   "source": [
    "s['Golf']"
   ]
  },
  {
   "cell_type": "code",
   "execution_count": 19,
   "metadata": {
    "collapsed": false,
    "nbpresent": {
     "id": "7c439645-a833-4f40-819c-1bdb7516d7d7"
    }
   },
   "outputs": [],
   "source": [
    "sports = {99: 'Bhutan',\n",
    "          100: 'Scotland',\n",
    "          101: 'Japan',\n",
    "          102: 'South Korea'}\n",
    "s = pd.Series(sports)"
   ]
  },
  {
   "cell_type": "code",
   "execution_count": 21,
   "metadata": {
    "collapsed": false,
    "nbpresent": {
     "id": "0222b618-c33a-46dd-a486-cd32b9d9ac61"
    },
    "scrolled": true
   },
   "outputs": [
    {
     "data": {
      "text/plain": [
       "'Bhutan'"
      ]
     },
     "execution_count": 21,
     "metadata": {},
     "output_type": "execute_result"
    }
   ],
   "source": [
    "s.iloc[0] #This won't call s.iloc[0] as one might expect, it generates an error instead"
   ]
  },
  {
   "cell_type": "code",
   "execution_count": 22,
   "metadata": {
    "collapsed": false,
    "nbpresent": {
     "id": "fb59546d-81c5-4ef1-8aed-c629494b75ee"
    }
   },
   "outputs": [
    {
     "data": {
      "text/plain": [
       "0    100.0\n",
       "1    120.0\n",
       "2    101.0\n",
       "3      3.0\n",
       "dtype: float64"
      ]
     },
     "execution_count": 22,
     "metadata": {},
     "output_type": "execute_result"
    }
   ],
   "source": [
    "s = pd.Series([100.00, 120.00, 101.00, 3.00])\n",
    "s"
   ]
  },
  {
   "cell_type": "code",
   "execution_count": 23,
   "metadata": {
    "collapsed": false,
    "nbpresent": {
     "id": "5ec5ab6a-169a-4e9f-917f-73c0bc1a52ac"
    }
   },
   "outputs": [
    {
     "name": "stdout",
     "output_type": "stream",
     "text": [
      "324.0\n"
     ]
    }
   ],
   "source": [
    "total = 0\n",
    "for item in s:\n",
    "    total+=item\n",
    "print(total)"
   ]
  },
  {
   "cell_type": "code",
   "execution_count": 24,
   "metadata": {
    "collapsed": false,
    "nbpresent": {
     "id": "e6874064-554d-40a3-8b8d-45c4ec52ab3d"
    }
   },
   "outputs": [
    {
     "name": "stdout",
     "output_type": "stream",
     "text": [
      "324.0\n"
     ]
    }
   ],
   "source": [
    "import numpy as np\n",
    "\n",
    "total = np.sum(s)\n",
    "print(total)"
   ]
  },
  {
   "cell_type": "code",
   "execution_count": 25,
   "metadata": {
    "collapsed": false,
    "nbpresent": {
     "id": "4a9ff944-cb31-4e46-a1cb-69e6be87753a"
    }
   },
   "outputs": [
    {
     "data": {
      "text/plain": [
       "0    811\n",
       "1    837\n",
       "2    883\n",
       "3    788\n",
       "4    221\n",
       "dtype: int64"
      ]
     },
     "execution_count": 25,
     "metadata": {},
     "output_type": "execute_result"
    }
   ],
   "source": [
    "#this creates a big series of random numbers\n",
    "s = pd.Series(np.random.randint(0,1000,10000))\n",
    "s.head()"
   ]
  },
  {
   "cell_type": "code",
   "execution_count": 26,
   "metadata": {
    "collapsed": false,
    "nbpresent": {
     "id": "4f77c7eb-82d0-4cc1-b892-397cc7d31044"
    }
   },
   "outputs": [
    {
     "data": {
      "text/plain": [
       "10000"
      ]
     },
     "execution_count": 26,
     "metadata": {},
     "output_type": "execute_result"
    }
   ],
   "source": [
    "len(s)"
   ]
  },
  {
   "cell_type": "code",
   "execution_count": 27,
   "metadata": {
    "collapsed": false,
    "nbpresent": {
     "id": "a50fec2e-22be-41cc-9a12-04ae1a586db3"
    }
   },
   "outputs": [
    {
     "name": "stdout",
     "output_type": "stream",
     "text": [
      "100 loops, best of 3: 1.05 ms per loop\n"
     ]
    }
   ],
   "source": [
    "%%timeit -n 100\n",
    "summary = 0\n",
    "for item in s:\n",
    "    summary+=item"
   ]
  },
  {
   "cell_type": "code",
   "execution_count": 28,
   "metadata": {
    "collapsed": false,
    "nbpresent": {
     "id": "ef19eab5-8894-4c98-a9e7-a8595f2a97f5"
    }
   },
   "outputs": [
    {
     "name": "stdout",
     "output_type": "stream",
     "text": [
      "100 loops, best of 3: 63.2 µs per loop\n"
     ]
    }
   ],
   "source": [
    "%%timeit -n 100\n",
    "summary = np.sum(s)"
   ]
  },
  {
   "cell_type": "code",
   "execution_count": 29,
   "metadata": {
    "collapsed": false,
    "nbpresent": {
     "id": "e084a0bf-1af1-489c-b8b7-925131bdc9b2"
    }
   },
   "outputs": [
    {
     "data": {
      "text/plain": [
       "0    813\n",
       "1    839\n",
       "2    885\n",
       "3    790\n",
       "4    223\n",
       "dtype: int64"
      ]
     },
     "execution_count": 29,
     "metadata": {},
     "output_type": "execute_result"
    }
   ],
   "source": [
    "s+=2 #adds two to each item in s using broadcasting\n",
    "s.head()"
   ]
  },
  {
   "cell_type": "code",
   "execution_count": 30,
   "metadata": {
    "collapsed": false,
    "nbpresent": {
     "id": "65e3551a-5eae-4a51-8bc8-fa17a625e92f"
    }
   },
   "outputs": [
    {
     "data": {
      "text/plain": [
       "0    815\n",
       "1    841\n",
       "2    887\n",
       "3    792\n",
       "4    225\n",
       "dtype: int64"
      ]
     },
     "execution_count": 30,
     "metadata": {},
     "output_type": "execute_result"
    }
   ],
   "source": [
    "for label, value in s.iteritems():\n",
    "    s.set_value(label, value+2)\n",
    "s.head()"
   ]
  },
  {
   "cell_type": "code",
   "execution_count": 32,
   "metadata": {
    "collapsed": false,
    "nbpresent": {
     "id": "97379bb8-4ca7-4492-b1e6-a4a831b697a6"
    }
   },
   "outputs": [
    {
     "name": "stdout",
     "output_type": "stream",
     "text": [
      "10 loops, best of 3: 662 ms per loop\n"
     ]
    }
   ],
   "source": [
    "%%timeit -n 10\n",
    "s = pd.Series(np.random.randint(0,1000,10000))\n",
    "for label, value in s.iteritems():\n",
    "    s.loc[label]= value+2"
   ]
  },
  {
   "cell_type": "code",
   "execution_count": 33,
   "metadata": {
    "collapsed": false,
    "nbpresent": {
     "id": "2a18a505-26e8-4598-b50c-d475826acd87"
    }
   },
   "outputs": [
    {
     "name": "stdout",
     "output_type": "stream",
     "text": [
      "10 loops, best of 3: 323 µs per loop\n"
     ]
    }
   ],
   "source": [
    "%%timeit -n 10\n",
    "s = pd.Series(np.random.randint(0,1000,10000))\n",
    "s+=2\n"
   ]
  },
  {
   "cell_type": "code",
   "execution_count": 34,
   "metadata": {
    "collapsed": false,
    "nbpresent": {
     "id": "a1f28801-eec0-404f-b999-c02fa6ce0090"
    }
   },
   "outputs": [
    {
     "data": {
      "text/plain": [
       "0             1\n",
       "1             2\n",
       "2             3\n",
       "Animal    Bears\n",
       "dtype: object"
      ]
     },
     "execution_count": 34,
     "metadata": {},
     "output_type": "execute_result"
    }
   ],
   "source": [
    "s = pd.Series([1, 2, 3])\n",
    "s.loc['Animal'] = 'Bears'\n",
    "s"
   ]
  },
  {
   "cell_type": "code",
   "execution_count": 35,
   "metadata": {
    "collapsed": true,
    "nbpresent": {
     "id": "d21245e6-f3de-46f6-944c-b8acbe050a13"
    }
   },
   "outputs": [],
   "source": [
    "original_sports = pd.Series({'Archery': 'Bhutan',\n",
    "                             'Golf': 'Scotland',\n",
    "                             'Sumo': 'Japan',\n",
    "                             'Taekwondo': 'South Korea'})\n",
    "cricket_loving_countries = pd.Series(['Australia',\n",
    "                                      'Barbados',\n",
    "                                      'Pakistan',\n",
    "                                      'England'], \n",
    "                                   index=['Cricket',\n",
    "                                          'Cricket',\n",
    "                                          'Cricket',\n",
    "                                          'Cricket'])\n",
    "all_countries = original_sports.append(cricket_loving_countries)"
   ]
  },
  {
   "cell_type": "code",
   "execution_count": 36,
   "metadata": {
    "collapsed": false,
    "nbpresent": {
     "id": "861f4509-70c4-40cf-a000-7690cff6c6e7"
    }
   },
   "outputs": [
    {
     "data": {
      "text/plain": [
       "Archery           Bhutan\n",
       "Golf            Scotland\n",
       "Sumo               Japan\n",
       "Taekwondo    South Korea\n",
       "dtype: object"
      ]
     },
     "execution_count": 36,
     "metadata": {},
     "output_type": "execute_result"
    }
   ],
   "source": [
    "original_sports"
   ]
  },
  {
   "cell_type": "code",
   "execution_count": 37,
   "metadata": {
    "collapsed": false,
    "nbpresent": {
     "id": "4210568a-022b-473f-82e0-64817e27ef14"
    }
   },
   "outputs": [
    {
     "data": {
      "text/plain": [
       "Cricket    Australia\n",
       "Cricket     Barbados\n",
       "Cricket     Pakistan\n",
       "Cricket      England\n",
       "dtype: object"
      ]
     },
     "execution_count": 37,
     "metadata": {},
     "output_type": "execute_result"
    }
   ],
   "source": [
    "cricket_loving_countries"
   ]
  },
  {
   "cell_type": "code",
   "execution_count": 38,
   "metadata": {
    "collapsed": false,
    "nbpresent": {
     "id": "c0770968-1205-463c-9f9c-828466bd1549"
    }
   },
   "outputs": [
    {
     "data": {
      "text/plain": [
       "Archery           Bhutan\n",
       "Golf            Scotland\n",
       "Sumo               Japan\n",
       "Taekwondo    South Korea\n",
       "Cricket        Australia\n",
       "Cricket         Barbados\n",
       "Cricket         Pakistan\n",
       "Cricket          England\n",
       "dtype: object"
      ]
     },
     "execution_count": 38,
     "metadata": {},
     "output_type": "execute_result"
    }
   ],
   "source": [
    "all_countries"
   ]
  },
  {
   "cell_type": "code",
   "execution_count": 39,
   "metadata": {
    "collapsed": false,
    "nbpresent": {
     "id": "b132fe49-bac2-4500-870f-ee587c2ec1e2"
    }
   },
   "outputs": [
    {
     "data": {
      "text/plain": [
       "Cricket    Australia\n",
       "Cricket     Barbados\n",
       "Cricket     Pakistan\n",
       "Cricket      England\n",
       "dtype: object"
      ]
     },
     "execution_count": 39,
     "metadata": {},
     "output_type": "execute_result"
    }
   ],
   "source": [
    "all_countries.loc['Cricket']"
   ]
  },
  {
   "cell_type": "markdown",
   "metadata": {
    "collapsed": true,
    "nbpresent": {
     "id": "0b29f9d3-b3b9-4472-bce3-c9e8b227bbed"
    }
   },
   "source": [
    "# The DataFrame Data Structure"
   ]
  },
  {
   "cell_type": "code",
   "execution_count": 2,
   "metadata": {
    "collapsed": false,
    "nbpresent": {
     "id": "8af7035d-75a9-4217-bf97-ab1c13ef9546"
    }
   },
   "outputs": [
    {
     "data": {
      "text/html": [
       "<div>\n",
       "<table border=\"1\" class=\"dataframe\">\n",
       "  <thead>\n",
       "    <tr style=\"text-align: right;\">\n",
       "      <th></th>\n",
       "      <th>Cost</th>\n",
       "      <th>Item Purchased</th>\n",
       "      <th>Name</th>\n",
       "    </tr>\n",
       "  </thead>\n",
       "  <tbody>\n",
       "    <tr>\n",
       "      <th>Store 1</th>\n",
       "      <td>22.5</td>\n",
       "      <td>Dog Food</td>\n",
       "      <td>Chris</td>\n",
       "    </tr>\n",
       "    <tr>\n",
       "      <th>Store 1</th>\n",
       "      <td>2.5</td>\n",
       "      <td>Kitty Litter</td>\n",
       "      <td>Kevyn</td>\n",
       "    </tr>\n",
       "    <tr>\n",
       "      <th>Store 2</th>\n",
       "      <td>5.0</td>\n",
       "      <td>Bird Seed</td>\n",
       "      <td>Vinod</td>\n",
       "    </tr>\n",
       "  </tbody>\n",
       "</table>\n",
       "</div>"
      ],
      "text/plain": [
       "         Cost Item Purchased   Name\n",
       "Store 1  22.5       Dog Food  Chris\n",
       "Store 1   2.5   Kitty Litter  Kevyn\n",
       "Store 2   5.0      Bird Seed  Vinod"
      ]
     },
     "execution_count": 2,
     "metadata": {},
     "output_type": "execute_result"
    }
   ],
   "source": [
    "import pandas as pd\n",
    "purchase_1 = pd.Series({'Name': 'Chris',\n",
    "                        'Item Purchased': 'Dog Food',\n",
    "                        'Cost': 22.50})\n",
    "purchase_2 = pd.Series({'Name': 'Kevyn',\n",
    "                        'Item Purchased': 'Kitty Litter',\n",
    "                        'Cost': 2.50})\n",
    "purchase_3 = pd.Series({'Name': 'Vinod',\n",
    "                        'Item Purchased': 'Bird Seed',\n",
    "                        'Cost': 5.00})\n",
    "df = pd.DataFrame([purchase_1, purchase_2, purchase_3], index=['Store 1', 'Store 1', 'Store 2'])\n",
    "df.head()"
   ]
  },
  {
   "cell_type": "code",
   "execution_count": 8,
   "metadata": {
    "collapsed": false,
    "nbpresent": {
     "id": "5ee29fc1-8f28-4810-9e25-fe47d1587177"
    }
   },
   "outputs": [
    {
     "data": {
      "text/plain": [
       "Cost                      5\n",
       "Item Purchased    Bird Seed\n",
       "Name                  Vinod\n",
       "Name: Store 2, dtype: object"
      ]
     },
     "execution_count": 8,
     "metadata": {},
     "output_type": "execute_result"
    }
   ],
   "source": [
    "df.loc['Store 2']"
   ]
  },
  {
   "cell_type": "code",
   "execution_count": 4,
   "metadata": {
    "collapsed": false,
    "nbpresent": {
     "id": "3d763745-78bd-4dba-9322-310cc462a27e"
    }
   },
   "outputs": [
    {
     "data": {
      "text/plain": [
       "pandas.core.series.Series"
      ]
     },
     "execution_count": 4,
     "metadata": {},
     "output_type": "execute_result"
    }
   ],
   "source": [
    "type(df.loc['Store 2'])"
   ]
  },
  {
   "cell_type": "code",
   "execution_count": 5,
   "metadata": {
    "collapsed": false,
    "nbpresent": {
     "id": "d8cd49c9-8f2b-4bab-ac4a-fbaf4c7fab37"
    }
   },
   "outputs": [
    {
     "data": {
      "text/html": [
       "<div>\n",
       "<table border=\"1\" class=\"dataframe\">\n",
       "  <thead>\n",
       "    <tr style=\"text-align: right;\">\n",
       "      <th></th>\n",
       "      <th>Cost</th>\n",
       "      <th>Item Purchased</th>\n",
       "      <th>Name</th>\n",
       "    </tr>\n",
       "  </thead>\n",
       "  <tbody>\n",
       "    <tr>\n",
       "      <th>Store 1</th>\n",
       "      <td>22.5</td>\n",
       "      <td>Dog Food</td>\n",
       "      <td>Chris</td>\n",
       "    </tr>\n",
       "    <tr>\n",
       "      <th>Store 1</th>\n",
       "      <td>2.5</td>\n",
       "      <td>Kitty Litter</td>\n",
       "      <td>Kevyn</td>\n",
       "    </tr>\n",
       "  </tbody>\n",
       "</table>\n",
       "</div>"
      ],
      "text/plain": [
       "         Cost Item Purchased   Name\n",
       "Store 1  22.5       Dog Food  Chris\n",
       "Store 1   2.5   Kitty Litter  Kevyn"
      ]
     },
     "execution_count": 5,
     "metadata": {},
     "output_type": "execute_result"
    }
   ],
   "source": [
    "df.loc['Store 1']"
   ]
  },
  {
   "cell_type": "code",
   "execution_count": 6,
   "metadata": {
    "collapsed": false,
    "nbpresent": {
     "id": "8556fdcd-842c-4669-9226-2da120dfdc9d"
    }
   },
   "outputs": [
    {
     "data": {
      "text/plain": [
       "Store 1    22.5\n",
       "Store 1     2.5\n",
       "Name: Cost, dtype: float64"
      ]
     },
     "execution_count": 6,
     "metadata": {},
     "output_type": "execute_result"
    }
   ],
   "source": [
    "df.loc['Store 1', 'Cost']"
   ]
  },
  {
   "cell_type": "code",
   "execution_count": 12,
   "metadata": {
    "collapsed": false,
    "nbpresent": {
     "id": "ed37d275-910e-47fb-90c5-32cf33a34eb6"
    }
   },
   "outputs": [
    {
     "data": {
      "text/plain": [
       "Store 1        Dog Food\n",
       "Store 1    Kitty Litter\n",
       "Store 2       Bird Seed\n",
       "Name: Item Purchased, dtype: object"
      ]
     },
     "execution_count": 12,
     "metadata": {},
     "output_type": "execute_result"
    }
   ],
   "source": [
    "# get a list of items purchased regardless of where they have been purchased or by whom\n",
    "#df.loc[:,'Item Purchased']\n",
    "# or \n",
    "df['Item Purchased']"
   ]
  },
  {
   "cell_type": "code",
   "execution_count": 7,
   "metadata": {
    "collapsed": false,
    "nbpresent": {
     "id": "dc90eec4-b933-4bb0-8267-b621bef16458"
    }
   },
   "outputs": [
    {
     "data": {
      "text/html": [
       "<div>\n",
       "<table border=\"1\" class=\"dataframe\">\n",
       "  <thead>\n",
       "    <tr style=\"text-align: right;\">\n",
       "      <th></th>\n",
       "      <th>Store 1</th>\n",
       "      <th>Store 1</th>\n",
       "      <th>Store 2</th>\n",
       "    </tr>\n",
       "  </thead>\n",
       "  <tbody>\n",
       "    <tr>\n",
       "      <th>Cost</th>\n",
       "      <td>22.5</td>\n",
       "      <td>2.5</td>\n",
       "      <td>5</td>\n",
       "    </tr>\n",
       "    <tr>\n",
       "      <th>Item Purchased</th>\n",
       "      <td>Dog Food</td>\n",
       "      <td>Kitty Litter</td>\n",
       "      <td>Bird Seed</td>\n",
       "    </tr>\n",
       "    <tr>\n",
       "      <th>Name</th>\n",
       "      <td>Chris</td>\n",
       "      <td>Kevyn</td>\n",
       "      <td>Vinod</td>\n",
       "    </tr>\n",
       "  </tbody>\n",
       "</table>\n",
       "</div>"
      ],
      "text/plain": [
       "                 Store 1       Store 1    Store 2\n",
       "Cost                22.5           2.5          5\n",
       "Item Purchased  Dog Food  Kitty Litter  Bird Seed\n",
       "Name               Chris         Kevyn      Vinod"
      ]
     },
     "execution_count": 7,
     "metadata": {},
     "output_type": "execute_result"
    }
   ],
   "source": [
    "df.T"
   ]
  },
  {
   "cell_type": "code",
   "execution_count": 13,
   "metadata": {
    "collapsed": false,
    "nbpresent": {
     "id": "f6cf7f63-b083-44bc-abee-69db33f56d12"
    }
   },
   "outputs": [
    {
     "data": {
      "text/plain": [
       "Store 1    22.5\n",
       "Store 1     2.5\n",
       "Store 2       5\n",
       "Name: Cost, dtype: object"
      ]
     },
     "execution_count": 13,
     "metadata": {},
     "output_type": "execute_result"
    }
   ],
   "source": [
    "df.T.loc['Cost']"
   ]
  },
  {
   "cell_type": "code",
   "execution_count": 15,
   "metadata": {
    "collapsed": false,
    "nbpresent": {
     "id": "f1dd0b54-089b-4548-919f-116770056a2d"
    }
   },
   "outputs": [
    {
     "data": {
      "text/plain": [
       "Store 1    22.5\n",
       "Store 1     2.5\n",
       "Store 2     5.0\n",
       "Name: Cost, dtype: float64"
      ]
     },
     "execution_count": 15,
     "metadata": {},
     "output_type": "execute_result"
    }
   ],
   "source": [
    "df['Cost']"
   ]
  },
  {
   "cell_type": "code",
   "execution_count": 16,
   "metadata": {
    "collapsed": false,
    "nbpresent": {
     "id": "80d1f974-4af6-464d-93da-d43fe77b23d8"
    }
   },
   "outputs": [
    {
     "data": {
      "text/plain": [
       "Store 1    22.5\n",
       "Store 1     2.5\n",
       "Name: Cost, dtype: float64"
      ]
     },
     "execution_count": 16,
     "metadata": {},
     "output_type": "execute_result"
    }
   ],
   "source": [
    "df.loc['Store 1']['Cost']"
   ]
  },
  {
   "cell_type": "code",
   "execution_count": 17,
   "metadata": {
    "collapsed": false,
    "nbpresent": {
     "id": "84aa8be5-d163-42b6-ba7b-1f42f9f67c98"
    }
   },
   "outputs": [
    {
     "data": {
      "text/html": [
       "<div>\n",
       "<table border=\"1\" class=\"dataframe\">\n",
       "  <thead>\n",
       "    <tr style=\"text-align: right;\">\n",
       "      <th></th>\n",
       "      <th>Name</th>\n",
       "      <th>Cost</th>\n",
       "    </tr>\n",
       "  </thead>\n",
       "  <tbody>\n",
       "    <tr>\n",
       "      <th>Store 1</th>\n",
       "      <td>Chris</td>\n",
       "      <td>22.5</td>\n",
       "    </tr>\n",
       "    <tr>\n",
       "      <th>Store 1</th>\n",
       "      <td>Kevyn</td>\n",
       "      <td>2.5</td>\n",
       "    </tr>\n",
       "    <tr>\n",
       "      <th>Store 2</th>\n",
       "      <td>Vinod</td>\n",
       "      <td>5.0</td>\n",
       "    </tr>\n",
       "  </tbody>\n",
       "</table>\n",
       "</div>"
      ],
      "text/plain": [
       "          Name  Cost\n",
       "Store 1  Chris  22.5\n",
       "Store 1  Kevyn   2.5\n",
       "Store 2  Vinod   5.0"
      ]
     },
     "execution_count": 17,
     "metadata": {},
     "output_type": "execute_result"
    }
   ],
   "source": [
    "df.loc[:,['Name', 'Cost']]"
   ]
  },
  {
   "cell_type": "code",
   "execution_count": 18,
   "metadata": {
    "collapsed": false,
    "nbpresent": {
     "id": "a760311e-d666-4345-bd66-6d0a724531ba"
    }
   },
   "outputs": [
    {
     "data": {
      "text/html": [
       "<div>\n",
       "<table border=\"1\" class=\"dataframe\">\n",
       "  <thead>\n",
       "    <tr style=\"text-align: right;\">\n",
       "      <th></th>\n",
       "      <th>Cost</th>\n",
       "      <th>Item Purchased</th>\n",
       "      <th>Name</th>\n",
       "    </tr>\n",
       "  </thead>\n",
       "  <tbody>\n",
       "    <tr>\n",
       "      <th>Store 2</th>\n",
       "      <td>5.0</td>\n",
       "      <td>Bird Seed</td>\n",
       "      <td>Vinod</td>\n",
       "    </tr>\n",
       "  </tbody>\n",
       "</table>\n",
       "</div>"
      ],
      "text/plain": [
       "         Cost Item Purchased   Name\n",
       "Store 2   5.0      Bird Seed  Vinod"
      ]
     },
     "execution_count": 18,
     "metadata": {},
     "output_type": "execute_result"
    }
   ],
   "source": [
    "df.drop('Store 1')"
   ]
  },
  {
   "cell_type": "code",
   "execution_count": 19,
   "metadata": {
    "collapsed": false,
    "nbpresent": {
     "id": "3d39fc16-b07c-4945-923a-b6a3b815e29a"
    }
   },
   "outputs": [
    {
     "data": {
      "text/html": [
       "<div>\n",
       "<table border=\"1\" class=\"dataframe\">\n",
       "  <thead>\n",
       "    <tr style=\"text-align: right;\">\n",
       "      <th></th>\n",
       "      <th>Cost</th>\n",
       "      <th>Item Purchased</th>\n",
       "      <th>Name</th>\n",
       "    </tr>\n",
       "  </thead>\n",
       "  <tbody>\n",
       "    <tr>\n",
       "      <th>Store 1</th>\n",
       "      <td>22.5</td>\n",
       "      <td>Dog Food</td>\n",
       "      <td>Chris</td>\n",
       "    </tr>\n",
       "    <tr>\n",
       "      <th>Store 1</th>\n",
       "      <td>2.5</td>\n",
       "      <td>Kitty Litter</td>\n",
       "      <td>Kevyn</td>\n",
       "    </tr>\n",
       "    <tr>\n",
       "      <th>Store 2</th>\n",
       "      <td>5.0</td>\n",
       "      <td>Bird Seed</td>\n",
       "      <td>Vinod</td>\n",
       "    </tr>\n",
       "  </tbody>\n",
       "</table>\n",
       "</div>"
      ],
      "text/plain": [
       "         Cost Item Purchased   Name\n",
       "Store 1  22.5       Dog Food  Chris\n",
       "Store 1   2.5   Kitty Litter  Kevyn\n",
       "Store 2   5.0      Bird Seed  Vinod"
      ]
     },
     "execution_count": 19,
     "metadata": {},
     "output_type": "execute_result"
    }
   ],
   "source": [
    "df"
   ]
  },
  {
   "cell_type": "code",
   "execution_count": 20,
   "metadata": {
    "collapsed": false,
    "nbpresent": {
     "id": "cb78448f-5b0a-4016-b885-273c1fe45db0"
    }
   },
   "outputs": [
    {
     "data": {
      "text/html": [
       "<div>\n",
       "<table border=\"1\" class=\"dataframe\">\n",
       "  <thead>\n",
       "    <tr style=\"text-align: right;\">\n",
       "      <th></th>\n",
       "      <th>Cost</th>\n",
       "      <th>Item Purchased</th>\n",
       "      <th>Name</th>\n",
       "    </tr>\n",
       "  </thead>\n",
       "  <tbody>\n",
       "    <tr>\n",
       "      <th>Store 2</th>\n",
       "      <td>5.0</td>\n",
       "      <td>Bird Seed</td>\n",
       "      <td>Vinod</td>\n",
       "    </tr>\n",
       "  </tbody>\n",
       "</table>\n",
       "</div>"
      ],
      "text/plain": [
       "         Cost Item Purchased   Name\n",
       "Store 2   5.0      Bird Seed  Vinod"
      ]
     },
     "execution_count": 20,
     "metadata": {},
     "output_type": "execute_result"
    }
   ],
   "source": [
    "copy_df = df.copy()\n",
    "copy_df = copy_df.drop('Store 1')\n",
    "copy_df"
   ]
  },
  {
   "cell_type": "code",
   "execution_count": 21,
   "metadata": {
    "collapsed": false,
    "nbpresent": {
     "id": "24049594-4a8d-49d1-a2ad-94e38d348654"
    }
   },
   "outputs": [],
   "source": [
    "copy_df.drop?"
   ]
  },
  {
   "cell_type": "code",
   "execution_count": 22,
   "metadata": {
    "collapsed": false,
    "nbpresent": {
     "id": "4c60af36-89be-4eca-950e-66e419b70737"
    }
   },
   "outputs": [
    {
     "data": {
      "text/html": [
       "<div>\n",
       "<table border=\"1\" class=\"dataframe\">\n",
       "  <thead>\n",
       "    <tr style=\"text-align: right;\">\n",
       "      <th></th>\n",
       "      <th>Cost</th>\n",
       "      <th>Item Purchased</th>\n",
       "    </tr>\n",
       "  </thead>\n",
       "  <tbody>\n",
       "    <tr>\n",
       "      <th>Store 2</th>\n",
       "      <td>5.0</td>\n",
       "      <td>Bird Seed</td>\n",
       "    </tr>\n",
       "  </tbody>\n",
       "</table>\n",
       "</div>"
      ],
      "text/plain": [
       "         Cost Item Purchased\n",
       "Store 2   5.0      Bird Seed"
      ]
     },
     "execution_count": 22,
     "metadata": {},
     "output_type": "execute_result"
    }
   ],
   "source": [
    "del copy_df['Name']\n",
    "copy_df"
   ]
  },
  {
   "cell_type": "code",
   "execution_count": 25,
   "metadata": {
    "collapsed": false,
    "nbpresent": {
     "id": "4b36dd92-944a-42ea-8472-0c22a86988e5"
    }
   },
   "outputs": [
    {
     "data": {
      "text/html": [
       "<div>\n",
       "<table border=\"1\" class=\"dataframe\">\n",
       "  <thead>\n",
       "    <tr style=\"text-align: right;\">\n",
       "      <th></th>\n",
       "      <th>Cost</th>\n",
       "      <th>Item Purchased</th>\n",
       "      <th>Name</th>\n",
       "      <th>Location</th>\n",
       "    </tr>\n",
       "  </thead>\n",
       "  <tbody>\n",
       "    <tr>\n",
       "      <th>Store 1</th>\n",
       "      <td>18.0</td>\n",
       "      <td>Dog Food</td>\n",
       "      <td>Chris</td>\n",
       "      <td>None</td>\n",
       "    </tr>\n",
       "    <tr>\n",
       "      <th>Store 1</th>\n",
       "      <td>2.0</td>\n",
       "      <td>Kitty Litter</td>\n",
       "      <td>Kevyn</td>\n",
       "      <td>None</td>\n",
       "    </tr>\n",
       "    <tr>\n",
       "      <th>Store 2</th>\n",
       "      <td>4.0</td>\n",
       "      <td>Bird Seed</td>\n",
       "      <td>Vinod</td>\n",
       "      <td>None</td>\n",
       "    </tr>\n",
       "  </tbody>\n",
       "</table>\n",
       "</div>"
      ],
      "text/plain": [
       "         Cost Item Purchased   Name Location\n",
       "Store 1  18.0       Dog Food  Chris     None\n",
       "Store 1   2.0   Kitty Litter  Kevyn     None\n",
       "Store 2   4.0      Bird Seed  Vinod     None"
      ]
     },
     "execution_count": 25,
     "metadata": {},
     "output_type": "execute_result"
    }
   ],
   "source": [
    "df['Location'] = None\n",
    "df['Cost'] = df['Cost'] * 0.8 #or df['Cost'] *= 0.8\n",
    "df"
   ]
  },
  {
   "cell_type": "markdown",
   "metadata": {
    "collapsed": true,
    "nbpresent": {
     "id": "537b9e70-09c1-48b9-a2b0-b0186f4ae174"
    }
   },
   "source": [
    "# Dataframe Indexing and Loading"
   ]
  },
  {
   "cell_type": "code",
   "execution_count": 26,
   "metadata": {
    "collapsed": false,
    "nbpresent": {
     "id": "8d0eb6db-8b36-4836-bef4-7f7ccfce8b74"
    }
   },
   "outputs": [
    {
     "data": {
      "text/plain": [
       "Store 1    18.0\n",
       "Store 1     2.0\n",
       "Store 2     4.0\n",
       "Name: Cost, dtype: float64"
      ]
     },
     "execution_count": 26,
     "metadata": {},
     "output_type": "execute_result"
    }
   ],
   "source": [
    "costs = df['Cost']\n",
    "costs"
   ]
  },
  {
   "cell_type": "code",
   "execution_count": 27,
   "metadata": {
    "collapsed": false,
    "nbpresent": {
     "id": "ddd612f9-657f-4493-be99-e792539eeab3"
    }
   },
   "outputs": [
    {
     "data": {
      "text/plain": [
       "Store 1    20.0\n",
       "Store 1     4.0\n",
       "Store 2     6.0\n",
       "Name: Cost, dtype: float64"
      ]
     },
     "execution_count": 27,
     "metadata": {},
     "output_type": "execute_result"
    }
   ],
   "source": [
    "costs+=2\n",
    "costs"
   ]
  },
  {
   "cell_type": "code",
   "execution_count": 28,
   "metadata": {
    "collapsed": false,
    "nbpresent": {
     "id": "aa1c1e23-0d1b-4832-874a-ccfcf269569b"
    }
   },
   "outputs": [
    {
     "data": {
      "text/html": [
       "<div>\n",
       "<table border=\"1\" class=\"dataframe\">\n",
       "  <thead>\n",
       "    <tr style=\"text-align: right;\">\n",
       "      <th></th>\n",
       "      <th>Cost</th>\n",
       "      <th>Item Purchased</th>\n",
       "      <th>Name</th>\n",
       "      <th>Location</th>\n",
       "    </tr>\n",
       "  </thead>\n",
       "  <tbody>\n",
       "    <tr>\n",
       "      <th>Store 1</th>\n",
       "      <td>20.0</td>\n",
       "      <td>Dog Food</td>\n",
       "      <td>Chris</td>\n",
       "      <td>None</td>\n",
       "    </tr>\n",
       "    <tr>\n",
       "      <th>Store 1</th>\n",
       "      <td>4.0</td>\n",
       "      <td>Kitty Litter</td>\n",
       "      <td>Kevyn</td>\n",
       "      <td>None</td>\n",
       "    </tr>\n",
       "    <tr>\n",
       "      <th>Store 2</th>\n",
       "      <td>6.0</td>\n",
       "      <td>Bird Seed</td>\n",
       "      <td>Vinod</td>\n",
       "      <td>None</td>\n",
       "    </tr>\n",
       "  </tbody>\n",
       "</table>\n",
       "</div>"
      ],
      "text/plain": [
       "         Cost Item Purchased   Name Location\n",
       "Store 1  20.0       Dog Food  Chris     None\n",
       "Store 1   4.0   Kitty Litter  Kevyn     None\n",
       "Store 2   6.0      Bird Seed  Vinod     None"
      ]
     },
     "execution_count": 28,
     "metadata": {},
     "output_type": "execute_result"
    }
   ],
   "source": [
    "df"
   ]
  },
  {
   "cell_type": "code",
   "execution_count": 29,
   "metadata": {
    "collapsed": false,
    "nbpresent": {
     "id": "e8f8b52f-b90d-4d4e-ad44-2eaefbb3d46a"
    }
   },
   "outputs": [
    {
     "name": "stdout",
     "output_type": "stream",
     "text": [
      "0,1,2,3,4,5,6,7,8,9,10,11,12,13,14,15\r\n",
      ",№ Summer,01 !,02 !,03 !,Total,№ Winter,01 !,02 !,03 !,Total,№ Games,01 !,02 !,03 !,Combined total\r\n",
      "Afghanistan (AFG),13,0,0,2,2,0,0,0,0,0,13,0,0,2,2\r\n",
      "Algeria (ALG),12,5,2,8,15,3,0,0,0,0,15,5,2,8,15\r\n",
      "Argentina (ARG),23,18,24,28,70,18,0,0,0,0,41,18,24,28,70\r\n",
      "Armenia (ARM),5,1,2,9,12,6,0,0,0,0,11,1,2,9,12\r\n",
      "Australasia (ANZ) [ANZ],2,3,4,5,12,0,0,0,0,0,2,3,4,5,12\r\n",
      "Australia (AUS) [AUS] [Z],25,139,152,177,468,18,5,3,4,12,43,144,155,181,480\r\n",
      "Austria (AUT),26,18,33,35,86,22,59,78,81,218,48,77,111,116,304\r\n",
      "Azerbaijan (AZE),5,6,5,15,26,5,0,0,0,0,10,6,5,15,26\r\n",
      "Bahamas (BAH),15,5,2,5,12,0,0,0,0,0,15,5,2,5,12\r\n",
      "Bahrain (BRN),8,0,0,1,1,0,0,0,0,0,8,0,0,1,1\r\n",
      "Barbados (BAR) [BAR],11,0,0,1,1,0,0,0,0,0,11,0,0,1,1\r\n",
      "Belarus (BLR),5,12,24,39,75,6,6,4,5,15,11,18,28,44,90\r\n",
      "Belgium (BEL),25,37,52,53,142,20,1,1,3,5,45,38,53,56,147\r\n",
      "Bermuda (BER),17,0,0,1,1,7,0,0,0,0,24,0,0,1,1\r\n",
      "Bohemia (BOH) [BOH] [Z],3,0,1,3,4,0,0,0,0,0,3,0,1,3,4\r\n",
      "Botswana (BOT),9,0,1,0,1,0,0,0,0,0,9,0,1,0,1\r\n",
      "Brazil (BRA),21,23,30,55,108,7,0,0,0,0,28,23,30,55,108\r\n",
      "British West Indies (BWI) [BWI],1,0,0,2,2,0,0,0,0,0,1,0,0,2,2\r\n",
      "Bulgaria (BUL) [H],19,51,85,78,214,19,1,2,3,6,38,52,87,81,220\r\n",
      "Burundi (BDI),5,1,0,0,1,0,0,0,0,0,5,1,0,0,1\r\n",
      "Cameroon (CMR),13,3,1,1,5,1,0,0,0,0,14,3,1,1,5\r\n",
      "Canada (CAN),25,59,99,121,279,22,62,56,52,170,47,121,155,173,449\r\n",
      "Chile (CHI) [I],22,2,7,4,13,16,0,0,0,0,38,2,7,4,13\r\n",
      "China (CHN) [CHN],9,201,146,126,473,10,12,22,19,53,19,213,168,145,526\r\n",
      "Colombia (COL),18,2,6,11,19,1,0,0,0,0,19,2,6,11,19\r\n",
      "Costa Rica (CRC),14,1,1,2,4,6,0,0,0,0,20,1,1,2,4\r\n",
      "Ivory Coast (CIV) [CIV],12,0,1,0,1,0,0,0,0,0,12,0,1,0,1\r\n",
      "Croatia (CRO),6,6,7,10,23,7,4,6,1,11,13,10,13,11,34\r\n",
      "Cuba (CUB) [Z],19,72,67,70,209,0,0,0,0,0,19,72,67,70,209\r\n",
      "Cyprus (CYP),9,0,1,0,1,10,0,0,0,0,19,0,1,0,1\r\n",
      "Czech Republic (CZE) [CZE],5,14,15,15,44,6,7,9,8,24,11,21,24,23,68\r\n",
      "Czechoslovakia (TCH) [TCH],16,49,49,45,143,16,2,8,15,25,32,51,57,60,168\r\n",
      "Denmark (DEN) [Z],26,43,68,68,179,13,0,1,0,1,39,43,69,68,180\r\n",
      "Djibouti (DJI) [B],7,0,0,1,1,0,0,0,0,0,7,0,0,1,1\r\n",
      "Dominican Republic (DOM),13,3,2,1,6,0,0,0,0,0,13,3,2,1,6\r\n",
      "Ecuador (ECU),13,1,1,0,2,0,0,0,0,0,13,1,1,0,2\r\n",
      "Egypt (EGY) [EGY] [Z],21,7,9,10,26,1,0,0,0,0,22,7,9,10,26\r\n",
      "Eritrea (ERI),4,0,0,1,1,0,0,0,0,0,4,0,0,1,1\r\n",
      "Estonia (EST),11,9,9,15,33,9,4,2,1,7,20,13,11,16,40\r\n",
      "Ethiopia (ETH),12,21,7,17,45,2,0,0,0,0,14,21,7,17,45\r\n",
      "Finland (FIN),24,101,84,117,302,22,42,62,57,161,46,143,146,174,463\r\n",
      "France (FRA) [O] [P] [Z],27,202,223,246,671,22,31,31,47,109,49,233,254,293,780\r\n",
      "Gabon (GAB),9,0,1,0,1,0,0,0,0,0,9,0,1,0,1\r\n",
      "Georgia (GEO),5,6,5,14,25,6,0,0,0,0,11,6,5,14,25\r\n",
      "Germany (GER) [GER] [Z],15,174,182,217,573,11,78,78,53,209,26,252,260,270,782\r\n",
      "United Team of Germany (EUA) [EUA],3,28,54,36,118,3,8,6,5,19,6,36,60,41,137\r\n",
      "East Germany (GDR) [GDR],5,153,129,127,409,6,39,36,35,110,11,192,165,162,519\r\n",
      "West Germany (FRG) [FRG],5,56,67,81,204,6,11,15,13,39,11,67,82,94,243\r\n",
      "Ghana (GHA) [GHA],13,0,1,3,4,1,0,0,0,0,14,0,1,3,4\r\n",
      "Great Britain (GBR) [GBR] [Z],27,236,272,272,780,22,10,4,12,26,49,246,276,284,806\r\n",
      "Greece (GRE) [Z],27,30,42,39,111,18,0,0,0,0,45,30,42,39,111\r\n",
      "Grenada (GRN),8,1,0,0,1,0,0,0,0,0,8,1,0,0,1\r\n",
      "Guatemala (GUA),13,0,1,0,1,1,0,0,0,0,14,0,1,0,1\r\n",
      "Guyana (GUY) [GUY],16,0,0,1,1,0,0,0,0,0,16,0,0,1,1\r\n",
      "Haiti (HAI) [J],14,0,1,1,2,0,0,0,0,0,14,0,1,1,2\r\n",
      "Hong Kong (HKG) [HKG],15,1,1,1,3,4,0,0,0,0,19,1,1,1,3\r\n",
      "Hungary (HUN),25,167,144,165,476,22,0,2,4,6,47,167,146,169,482\r\n",
      "Iceland (ISL),19,0,2,2,4,17,0,0,0,0,36,0,2,2,4\r\n",
      "India (IND) [F],23,9,6,11,26,9,0,0,0,0,32,9,6,11,26\r\n",
      "Indonesia (INA),14,6,10,11,27,0,0,0,0,0,14,6,10,11,27\r\n",
      "Iran (IRI) [K],15,15,20,25,60,10,0,0,0,0,25,15,20,25,60\r\n",
      "Iraq (IRQ),13,0,0,1,1,0,0,0,0,0,13,0,0,1,1\r\n",
      "Ireland (IRL),20,9,8,12,29,6,0,0,0,0,26,9,8,12,29\r\n",
      "Israel (ISR),15,1,1,5,7,6,0,0,0,0,21,1,1,5,7\r\n",
      "Italy (ITA) [M] [S],26,198,166,185,549,22,37,34,43,114,48,235,200,228,663\r\n",
      "Jamaica (JAM) [JAM],16,17,30,20,67,7,0,0,0,0,23,17,30,20,67\r\n",
      "Japan (JPN),21,130,126,142,398,20,10,17,18,45,41,140,143,160,443\r\n",
      "Kazakhstan (KAZ),5,16,17,19,52,6,1,3,3,7,11,17,20,22,59\r\n",
      "Kenya (KEN),13,25,32,29,86,3,0,0,0,0,16,25,32,29,86\r\n",
      "North Korea (PRK),9,14,12,21,47,8,0,1,1,2,17,14,13,22,49\r\n",
      "South Korea (KOR),16,81,82,80,243,17,26,17,10,53,33,107,99,90,296\r\n",
      "Kuwait (KUW),12,0,0,2,2,0,0,0,0,0,12,0,0,2,2\r\n",
      "Kyrgyzstan (KGZ),5,0,1,2,3,6,0,0,0,0,11,0,1,2,3\r\n",
      "Latvia (LAT),10,3,11,5,19,10,0,4,3,7,20,3,15,8,26\r\n",
      "Lebanon (LIB),16,0,2,2,4,16,0,0,0,0,32,0,2,2,4\r\n",
      "Liechtenstein (LIE),16,0,0,0,0,18,2,2,5,9,34,2,2,5,9\r\n",
      "Lithuania (LTU),8,6,5,10,21,8,0,0,0,0,16,6,5,10,21\r\n",
      "Luxembourg (LUX) [O],22,1,1,0,2,8,0,2,0,2,30,1,3,0,4\r\n",
      "Macedonia (MKD),5,0,0,1,1,5,0,0,0,0,10,0,0,1,1\r\n",
      "Malaysia (MAS) [MAS],12,0,3,3,6,0,0,0,0,0,12,0,3,3,6\r\n",
      "Mauritius (MRI),8,0,0,1,1,0,0,0,0,0,8,0,0,1,1\r\n",
      "Mexico (MEX),22,13,21,28,62,8,0,0,0,0,30,13,21,28,62\r\n",
      "Moldova (MDA),5,0,2,5,7,6,0,0,0,0,11,0,2,5,7\r\n",
      "Mongolia (MGL),12,2,9,13,24,13,0,0,0,0,25,2,9,13,24\r\n",
      "Montenegro (MNE),2,0,1,0,1,2,0,0,0,0,4,0,1,0,1\r\n",
      "Morocco (MAR),13,6,5,11,22,6,0,0,0,0,19,6,5,11,22\r\n",
      "Mozambique (MOZ),9,1,0,1,2,0,0,0,0,0,9,1,0,1,2\r\n",
      "Namibia (NAM),6,0,4,0,4,0,0,0,0,0,6,0,4,0,4\r\n",
      "Netherlands (NED) [Z],25,77,85,104,266,20,37,38,35,110,45,114,123,139,376\r\n",
      "Netherlands Antilles (AHO) [AHO] [I],13,0,1,0,1,2,0,0,0,0,15,0,1,0,1\r\n",
      "New Zealand (NZL) [NZL],22,42,18,39,99,15,0,1,0,1,37,42,19,39,100\r\n",
      "Niger (NIG),11,0,0,1,1,0,0,0,0,0,11,0,0,1,1\r\n",
      "Nigeria (NGR),15,3,8,12,23,0,0,0,0,0,15,3,8,12,23\r\n",
      "Norway (NOR) [Q],24,56,49,43,148,22,118,111,100,329,46,174,160,143,477\r\n",
      "Pakistan (PAK),16,3,3,4,10,2,0,0,0,0,18,3,3,4,10\r\n",
      "Panama (PAN),16,1,0,2,3,0,0,0,0,0,16,1,0,2,3\r\n",
      "Paraguay (PAR),11,0,1,0,1,1,0,0,0,0,12,0,1,0,1\r\n",
      "Peru (PER) [L],17,1,3,0,4,2,0,0,0,0,19,1,3,0,4\r\n",
      "Philippines (PHI),20,0,2,7,9,4,0,0,0,0,24,0,2,7,9\r\n",
      "Poland (POL),20,64,82,125,271,22,6,7,7,20,42,70,89,132,291\r\n",
      "Portugal (POR),23,4,8,11,23,7,0,0,0,0,30,4,8,11,23\r\n",
      "Puerto Rico (PUR),17,0,2,6,8,6,0,0,0,0,23,0,2,6,8\r\n",
      "Qatar (QAT),8,0,0,4,4,0,0,0,0,0,8,0,0,4,4\r\n",
      "Romania (ROU),20,88,94,119,301,20,0,0,1,1,40,88,94,120,302\r\n",
      "Russia (RUS) [RUS],5,132,121,142,395,6,49,40,35,124,11,181,161,177,519\r\n",
      "Russian Empire (RU1) [RU1],3,1,4,3,8,0,0,0,0,0,3,1,4,3,8\r\n",
      "Soviet Union (URS) [URS],9,395,319,296,1010,9,78,57,59,194,18,473,376,355,1204\r\n",
      "Unified Team (EUN) [EUN],1,45,38,29,112,1,9,6,8,23,2,54,44,37,135\r\n",
      "Saudi Arabia (KSA),10,0,1,2,3,0,0,0,0,0,10,0,1,2,3\r\n",
      "Senegal (SEN),13,0,1,0,1,5,0,0,0,0,18,0,1,0,1\r\n",
      "Serbia (SRB) [SRB],3,1,2,4,7,2,0,0,0,0,5,1,2,4,7\r\n",
      "Serbia and Montenegro (SCG) [SCG],3,2,4,3,9,3,0,0,0,0,6,2,4,3,9\r\n",
      "Singapore (SIN),15,0,2,2,4,0,0,0,0,0,15,0,2,2,4\r\n",
      "Slovakia (SVK) [SVK],5,7,9,8,24,6,2,2,1,5,11,9,11,9,29\r\n",
      "Slovenia (SLO),6,4,6,9,19,7,2,4,9,15,13,6,10,18,34\r\n",
      "South Africa (RSA),18,23,26,27,76,6,0,0,0,0,24,23,26,27,76\r\n",
      "Spain (ESP) [Z],22,37,59,35,131,19,1,0,1,2,41,38,59,36,133\r\n",
      "Sri Lanka (SRI) [SRI],16,0,2,0,2,0,0,0,0,0,16,0,2,0,2\r\n",
      "Sudan (SUD),11,0,1,0,1,0,0,0,0,0,11,0,1,0,1\r\n",
      "Suriname (SUR) [E],11,1,0,1,2,0,0,0,0,0,11,1,0,1,2\r\n",
      "Sweden (SWE) [Z],26,143,164,176,483,22,50,40,54,144,48,193,204,230,627\r\n",
      "Switzerland (SUI),27,47,73,65,185,22,50,40,48,138,49,97,113,113,323\r\n",
      "Syria (SYR),12,1,1,1,3,0,0,0,0,0,12,1,1,1,3\r\n",
      "Chinese Taipei (TPE) [TPE] [TPE2],13,2,7,12,21,11,0,0,0,0,24,2,7,12,21\r\n",
      "Tajikistan (TJK),5,0,1,2,3,4,0,0,0,0,9,0,1,2,3\r\n",
      "Tanzania (TAN) [TAN],12,0,2,0,2,0,0,0,0,0,12,0,2,0,2\r\n",
      "Thailand (THA),15,7,6,11,24,3,0,0,0,0,18,7,6,11,24\r\n",
      "Togo (TOG),9,0,0,1,1,1,0,0,0,0,10,0,0,1,1\r\n",
      "Tonga (TGA),8,0,1,0,1,1,0,0,0,0,9,0,1,0,1\r\n",
      "Trinidad and Tobago (TRI) [TRI],16,2,5,11,18,3,0,0,0,0,19,2,5,11,18\r\n",
      "Tunisia (TUN),13,3,3,4,10,0,0,0,0,0,13,3,3,4,10\r\n",
      "Turkey (TUR),21,39,25,24,88,16,0,0,0,0,37,39,25,24,88\r\n",
      "Uganda (UGA),14,2,3,2,7,0,0,0,0,0,14,2,3,2,7\r\n",
      "Ukraine (UKR),5,33,27,55,115,6,2,1,4,7,11,35,28,59,122\r\n",
      "United Arab Emirates (UAE),8,1,0,0,1,0,0,0,0,0,8,1,0,0,1\r\n",
      "United States (USA) [P] [Q] [R] [Z],26,976,757,666,2399,22,96,102,84,282,48,1072,859,750,2681\r\n",
      "Uruguay (URU),20,2,2,6,10,1,0,0,0,0,21,2,2,6,10\r\n",
      "Uzbekistan (UZB),5,5,5,10,20,6,1,0,0,1,11,6,5,10,21\r\n",
      "Venezuela (VEN),17,2,2,8,12,4,0,0,0,0,21,2,2,8,12\r\n",
      "Vietnam (VIE),14,0,2,0,2,0,0,0,0,0,14,0,2,0,2\r\n",
      "Virgin Islands (ISV),11,0,1,0,1,7,0,0,0,0,18,0,1,0,1\r\n",
      "Yugoslavia (YUG) [YUG],16,26,29,28,83,14,0,3,1,4,30,26,32,29,87\r\n",
      "Independent Olympic Participants (IOP) [IOP],1,0,1,2,3,0,0,0,0,0,1,0,1,2,3\r\n",
      "Zambia (ZAM) [ZAM],12,0,1,1,2,0,0,0,0,0,12,0,1,1,2\r\n",
      "Zimbabwe (ZIM) [ZIM],12,3,4,1,8,1,0,0,0,0,13,3,4,1,8\r\n",
      "Mixed team (ZZX) [ZZX],3,8,5,4,17,0,0,0,0,0,3,8,5,4,17\r\n",
      "Totals,27,4809,4775,5130,14714,22,959,958,948,2865,49,5768,5733,6078,17579\r\n"
     ]
    }
   ],
   "source": [
    "!cat olympics.csv"
   ]
  },
  {
   "cell_type": "code",
   "execution_count": 69,
   "metadata": {
    "collapsed": false,
    "nbpresent": {
     "id": "f002003c-9000-426f-9e01-73870ac5f524"
    }
   },
   "outputs": [
    {
     "data": {
      "text/html": [
       "<div>\n",
       "<table border=\"1\" class=\"dataframe\">\n",
       "  <thead>\n",
       "    <tr style=\"text-align: right;\">\n",
       "      <th></th>\n",
       "      <th>0</th>\n",
       "      <th>1</th>\n",
       "      <th>2</th>\n",
       "      <th>3</th>\n",
       "      <th>4</th>\n",
       "      <th>5</th>\n",
       "      <th>6</th>\n",
       "      <th>7</th>\n",
       "      <th>8</th>\n",
       "      <th>9</th>\n",
       "      <th>10</th>\n",
       "      <th>11</th>\n",
       "      <th>12</th>\n",
       "      <th>13</th>\n",
       "      <th>14</th>\n",
       "      <th>15</th>\n",
       "    </tr>\n",
       "  </thead>\n",
       "  <tbody>\n",
       "    <tr>\n",
       "      <th>0</th>\n",
       "      <td>NaN</td>\n",
       "      <td>№ Summer</td>\n",
       "      <td>01 !</td>\n",
       "      <td>02 !</td>\n",
       "      <td>03 !</td>\n",
       "      <td>Total</td>\n",
       "      <td>№ Winter</td>\n",
       "      <td>01 !</td>\n",
       "      <td>02 !</td>\n",
       "      <td>03 !</td>\n",
       "      <td>Total</td>\n",
       "      <td>№ Games</td>\n",
       "      <td>01 !</td>\n",
       "      <td>02 !</td>\n",
       "      <td>03 !</td>\n",
       "      <td>Combined total</td>\n",
       "    </tr>\n",
       "    <tr>\n",
       "      <th>1</th>\n",
       "      <td>Afghanistan (AFG)</td>\n",
       "      <td>13</td>\n",
       "      <td>0</td>\n",
       "      <td>0</td>\n",
       "      <td>2</td>\n",
       "      <td>2</td>\n",
       "      <td>0</td>\n",
       "      <td>0</td>\n",
       "      <td>0</td>\n",
       "      <td>0</td>\n",
       "      <td>0</td>\n",
       "      <td>13</td>\n",
       "      <td>0</td>\n",
       "      <td>0</td>\n",
       "      <td>2</td>\n",
       "      <td>2</td>\n",
       "    </tr>\n",
       "    <tr>\n",
       "      <th>2</th>\n",
       "      <td>Algeria (ALG)</td>\n",
       "      <td>12</td>\n",
       "      <td>5</td>\n",
       "      <td>2</td>\n",
       "      <td>8</td>\n",
       "      <td>15</td>\n",
       "      <td>3</td>\n",
       "      <td>0</td>\n",
       "      <td>0</td>\n",
       "      <td>0</td>\n",
       "      <td>0</td>\n",
       "      <td>15</td>\n",
       "      <td>5</td>\n",
       "      <td>2</td>\n",
       "      <td>8</td>\n",
       "      <td>15</td>\n",
       "    </tr>\n",
       "    <tr>\n",
       "      <th>3</th>\n",
       "      <td>Argentina (ARG)</td>\n",
       "      <td>23</td>\n",
       "      <td>18</td>\n",
       "      <td>24</td>\n",
       "      <td>28</td>\n",
       "      <td>70</td>\n",
       "      <td>18</td>\n",
       "      <td>0</td>\n",
       "      <td>0</td>\n",
       "      <td>0</td>\n",
       "      <td>0</td>\n",
       "      <td>41</td>\n",
       "      <td>18</td>\n",
       "      <td>24</td>\n",
       "      <td>28</td>\n",
       "      <td>70</td>\n",
       "    </tr>\n",
       "    <tr>\n",
       "      <th>4</th>\n",
       "      <td>Armenia (ARM)</td>\n",
       "      <td>5</td>\n",
       "      <td>1</td>\n",
       "      <td>2</td>\n",
       "      <td>9</td>\n",
       "      <td>12</td>\n",
       "      <td>6</td>\n",
       "      <td>0</td>\n",
       "      <td>0</td>\n",
       "      <td>0</td>\n",
       "      <td>0</td>\n",
       "      <td>11</td>\n",
       "      <td>1</td>\n",
       "      <td>2</td>\n",
       "      <td>9</td>\n",
       "      <td>12</td>\n",
       "    </tr>\n",
       "  </tbody>\n",
       "</table>\n",
       "</div>"
      ],
      "text/plain": [
       "                   0         1     2     3     4      5         6     7     8  \\\n",
       "0                NaN  № Summer  01 !  02 !  03 !  Total  № Winter  01 !  02 !   \n",
       "1  Afghanistan (AFG)        13     0     0     2      2         0     0     0   \n",
       "2      Algeria (ALG)        12     5     2     8     15         3     0     0   \n",
       "3    Argentina (ARG)        23    18    24    28     70        18     0     0   \n",
       "4      Armenia (ARM)         5     1     2     9     12         6     0     0   \n",
       "\n",
       "      9     10       11    12    13    14              15  \n",
       "0  03 !  Total  № Games  01 !  02 !  03 !  Combined total  \n",
       "1     0      0       13     0     0     2               2  \n",
       "2     0      0       15     5     2     8              15  \n",
       "3     0      0       41    18    24    28              70  \n",
       "4     0      0       11     1     2     9              12  "
      ]
     },
     "execution_count": 69,
     "metadata": {},
     "output_type": "execute_result"
    }
   ],
   "source": [
    "df = pd.read_csv('olympics.csv')\n",
    "df.head()"
   ]
  },
  {
   "cell_type": "code",
   "execution_count": 70,
   "metadata": {
    "collapsed": false,
    "nbpresent": {
     "id": "4222cc4b-324c-4504-8537-7b955b7a321a"
    }
   },
   "outputs": [
    {
     "data": {
      "text/html": [
       "<div>\n",
       "<table border=\"1\" class=\"dataframe\">\n",
       "  <thead>\n",
       "    <tr style=\"text-align: right;\">\n",
       "      <th></th>\n",
       "      <th>№ Summer</th>\n",
       "      <th>01 !</th>\n",
       "      <th>02 !</th>\n",
       "      <th>03 !</th>\n",
       "      <th>Total</th>\n",
       "      <th>№ Winter</th>\n",
       "      <th>01 !.1</th>\n",
       "      <th>02 !.1</th>\n",
       "      <th>03 !.1</th>\n",
       "      <th>Total.1</th>\n",
       "      <th>№ Games</th>\n",
       "      <th>01 !.2</th>\n",
       "      <th>02 !.2</th>\n",
       "      <th>03 !.2</th>\n",
       "      <th>Combined total</th>\n",
       "    </tr>\n",
       "  </thead>\n",
       "  <tbody>\n",
       "    <tr>\n",
       "      <th>Afghanistan (AFG)</th>\n",
       "      <td>13</td>\n",
       "      <td>0</td>\n",
       "      <td>0</td>\n",
       "      <td>2</td>\n",
       "      <td>2</td>\n",
       "      <td>0</td>\n",
       "      <td>0</td>\n",
       "      <td>0</td>\n",
       "      <td>0</td>\n",
       "      <td>0</td>\n",
       "      <td>13</td>\n",
       "      <td>0</td>\n",
       "      <td>0</td>\n",
       "      <td>2</td>\n",
       "      <td>2</td>\n",
       "    </tr>\n",
       "    <tr>\n",
       "      <th>Algeria (ALG)</th>\n",
       "      <td>12</td>\n",
       "      <td>5</td>\n",
       "      <td>2</td>\n",
       "      <td>8</td>\n",
       "      <td>15</td>\n",
       "      <td>3</td>\n",
       "      <td>0</td>\n",
       "      <td>0</td>\n",
       "      <td>0</td>\n",
       "      <td>0</td>\n",
       "      <td>15</td>\n",
       "      <td>5</td>\n",
       "      <td>2</td>\n",
       "      <td>8</td>\n",
       "      <td>15</td>\n",
       "    </tr>\n",
       "    <tr>\n",
       "      <th>Argentina (ARG)</th>\n",
       "      <td>23</td>\n",
       "      <td>18</td>\n",
       "      <td>24</td>\n",
       "      <td>28</td>\n",
       "      <td>70</td>\n",
       "      <td>18</td>\n",
       "      <td>0</td>\n",
       "      <td>0</td>\n",
       "      <td>0</td>\n",
       "      <td>0</td>\n",
       "      <td>41</td>\n",
       "      <td>18</td>\n",
       "      <td>24</td>\n",
       "      <td>28</td>\n",
       "      <td>70</td>\n",
       "    </tr>\n",
       "    <tr>\n",
       "      <th>Armenia (ARM)</th>\n",
       "      <td>5</td>\n",
       "      <td>1</td>\n",
       "      <td>2</td>\n",
       "      <td>9</td>\n",
       "      <td>12</td>\n",
       "      <td>6</td>\n",
       "      <td>0</td>\n",
       "      <td>0</td>\n",
       "      <td>0</td>\n",
       "      <td>0</td>\n",
       "      <td>11</td>\n",
       "      <td>1</td>\n",
       "      <td>2</td>\n",
       "      <td>9</td>\n",
       "      <td>12</td>\n",
       "    </tr>\n",
       "    <tr>\n",
       "      <th>Australasia (ANZ) [ANZ]</th>\n",
       "      <td>2</td>\n",
       "      <td>3</td>\n",
       "      <td>4</td>\n",
       "      <td>5</td>\n",
       "      <td>12</td>\n",
       "      <td>0</td>\n",
       "      <td>0</td>\n",
       "      <td>0</td>\n",
       "      <td>0</td>\n",
       "      <td>0</td>\n",
       "      <td>2</td>\n",
       "      <td>3</td>\n",
       "      <td>4</td>\n",
       "      <td>5</td>\n",
       "      <td>12</td>\n",
       "    </tr>\n",
       "  </tbody>\n",
       "</table>\n",
       "</div>"
      ],
      "text/plain": [
       "                         № Summer  01 !  02 !  03 !  Total  № Winter  01 !.1  \\\n",
       "Afghanistan (AFG)              13     0     0     2      2         0       0   \n",
       "Algeria (ALG)                  12     5     2     8     15         3       0   \n",
       "Argentina (ARG)                23    18    24    28     70        18       0   \n",
       "Armenia (ARM)                   5     1     2     9     12         6       0   \n",
       "Australasia (ANZ) [ANZ]         2     3     4     5     12         0       0   \n",
       "\n",
       "                         02 !.1  03 !.1  Total.1  № Games  01 !.2  02 !.2  \\\n",
       "Afghanistan (AFG)             0       0        0       13       0       0   \n",
       "Algeria (ALG)                 0       0        0       15       5       2   \n",
       "Argentina (ARG)               0       0        0       41      18      24   \n",
       "Armenia (ARM)                 0       0        0       11       1       2   \n",
       "Australasia (ANZ) [ANZ]       0       0        0        2       3       4   \n",
       "\n",
       "                         03 !.2  Combined total  \n",
       "Afghanistan (AFG)             2               2  \n",
       "Algeria (ALG)                 8              15  \n",
       "Argentina (ARG)              28              70  \n",
       "Armenia (ARM)                 9              12  \n",
       "Australasia (ANZ) [ANZ]       5              12  "
      ]
     },
     "execution_count": 70,
     "metadata": {},
     "output_type": "execute_result"
    }
   ],
   "source": [
    "df = pd.read_csv('olympics.csv', index_col = 0, skiprows=1)\n",
    "df.head()"
   ]
  },
  {
   "cell_type": "code",
   "execution_count": 32,
   "metadata": {
    "collapsed": false,
    "nbpresent": {
     "id": "d7d38e16-9f66-44fe-8ece-b8993d67491f"
    }
   },
   "outputs": [
    {
     "data": {
      "text/plain": [
       "Index(['№ Summer', '01 !', '02 !', '03 !', 'Total', '№ Winter', '01 !.1',\n",
       "       '02 !.1', '03 !.1', 'Total.1', '№ Games', '01 !.2', '02 !.2', '03 !.2',\n",
       "       'Combined total'],\n",
       "      dtype='object')"
      ]
     },
     "execution_count": 32,
     "metadata": {},
     "output_type": "execute_result"
    }
   ],
   "source": [
    "df.columns"
   ]
  },
  {
   "cell_type": "code",
   "execution_count": 71,
   "metadata": {
    "collapsed": false,
    "nbpresent": {
     "id": "dfbe7456-545c-4f39-b915-ef16150f4195"
    }
   },
   "outputs": [
    {
     "data": {
      "text/html": [
       "<div>\n",
       "<table border=\"1\" class=\"dataframe\">\n",
       "  <thead>\n",
       "    <tr style=\"text-align: right;\">\n",
       "      <th></th>\n",
       "      <th># Summer</th>\n",
       "      <th>Gold</th>\n",
       "      <th>Silver</th>\n",
       "      <th>Bronze</th>\n",
       "      <th>Total</th>\n",
       "      <th># Winter</th>\n",
       "      <th>Gold.1</th>\n",
       "      <th>Silver.1</th>\n",
       "      <th>Bronze.1</th>\n",
       "      <th>Total.1</th>\n",
       "      <th># Games</th>\n",
       "      <th>Gold.2</th>\n",
       "      <th>Silver.2</th>\n",
       "      <th>Bronze.2</th>\n",
       "      <th>Combined total</th>\n",
       "    </tr>\n",
       "  </thead>\n",
       "  <tbody>\n",
       "    <tr>\n",
       "      <th>Afghanistan (AFG)</th>\n",
       "      <td>13</td>\n",
       "      <td>0</td>\n",
       "      <td>0</td>\n",
       "      <td>2</td>\n",
       "      <td>2</td>\n",
       "      <td>0</td>\n",
       "      <td>0</td>\n",
       "      <td>0</td>\n",
       "      <td>0</td>\n",
       "      <td>0</td>\n",
       "      <td>13</td>\n",
       "      <td>0</td>\n",
       "      <td>0</td>\n",
       "      <td>2</td>\n",
       "      <td>2</td>\n",
       "    </tr>\n",
       "    <tr>\n",
       "      <th>Algeria (ALG)</th>\n",
       "      <td>12</td>\n",
       "      <td>5</td>\n",
       "      <td>2</td>\n",
       "      <td>8</td>\n",
       "      <td>15</td>\n",
       "      <td>3</td>\n",
       "      <td>0</td>\n",
       "      <td>0</td>\n",
       "      <td>0</td>\n",
       "      <td>0</td>\n",
       "      <td>15</td>\n",
       "      <td>5</td>\n",
       "      <td>2</td>\n",
       "      <td>8</td>\n",
       "      <td>15</td>\n",
       "    </tr>\n",
       "    <tr>\n",
       "      <th>Argentina (ARG)</th>\n",
       "      <td>23</td>\n",
       "      <td>18</td>\n",
       "      <td>24</td>\n",
       "      <td>28</td>\n",
       "      <td>70</td>\n",
       "      <td>18</td>\n",
       "      <td>0</td>\n",
       "      <td>0</td>\n",
       "      <td>0</td>\n",
       "      <td>0</td>\n",
       "      <td>41</td>\n",
       "      <td>18</td>\n",
       "      <td>24</td>\n",
       "      <td>28</td>\n",
       "      <td>70</td>\n",
       "    </tr>\n",
       "    <tr>\n",
       "      <th>Armenia (ARM)</th>\n",
       "      <td>5</td>\n",
       "      <td>1</td>\n",
       "      <td>2</td>\n",
       "      <td>9</td>\n",
       "      <td>12</td>\n",
       "      <td>6</td>\n",
       "      <td>0</td>\n",
       "      <td>0</td>\n",
       "      <td>0</td>\n",
       "      <td>0</td>\n",
       "      <td>11</td>\n",
       "      <td>1</td>\n",
       "      <td>2</td>\n",
       "      <td>9</td>\n",
       "      <td>12</td>\n",
       "    </tr>\n",
       "    <tr>\n",
       "      <th>Australasia (ANZ) [ANZ]</th>\n",
       "      <td>2</td>\n",
       "      <td>3</td>\n",
       "      <td>4</td>\n",
       "      <td>5</td>\n",
       "      <td>12</td>\n",
       "      <td>0</td>\n",
       "      <td>0</td>\n",
       "      <td>0</td>\n",
       "      <td>0</td>\n",
       "      <td>0</td>\n",
       "      <td>2</td>\n",
       "      <td>3</td>\n",
       "      <td>4</td>\n",
       "      <td>5</td>\n",
       "      <td>12</td>\n",
       "    </tr>\n",
       "  </tbody>\n",
       "</table>\n",
       "</div>"
      ],
      "text/plain": [
       "                         # Summer  Gold  Silver  Bronze  Total  # Winter  \\\n",
       "Afghanistan (AFG)              13     0       0       2      2         0   \n",
       "Algeria (ALG)                  12     5       2       8     15         3   \n",
       "Argentina (ARG)                23    18      24      28     70        18   \n",
       "Armenia (ARM)                   5     1       2       9     12         6   \n",
       "Australasia (ANZ) [ANZ]         2     3       4       5     12         0   \n",
       "\n",
       "                         Gold.1  Silver.1  Bronze.1  Total.1  # Games  Gold.2  \\\n",
       "Afghanistan (AFG)             0         0         0        0       13       0   \n",
       "Algeria (ALG)                 0         0         0        0       15       5   \n",
       "Argentina (ARG)               0         0         0        0       41      18   \n",
       "Armenia (ARM)                 0         0         0        0       11       1   \n",
       "Australasia (ANZ) [ANZ]       0         0         0        0        2       3   \n",
       "\n",
       "                         Silver.2  Bronze.2  Combined total  \n",
       "Afghanistan (AFG)               0         2               2  \n",
       "Algeria (ALG)                   2         8              15  \n",
       "Argentina (ARG)                24        28              70  \n",
       "Armenia (ARM)                   2         9              12  \n",
       "Australasia (ANZ) [ANZ]         4         5              12  "
      ]
     },
     "execution_count": 71,
     "metadata": {},
     "output_type": "execute_result"
    }
   ],
   "source": [
    "for col in df.columns:\n",
    "    if col[:2]=='01':\n",
    "        df.rename(columns={col:'Gold' + col[4:]}, inplace=True)\n",
    "    if col[:2]=='02':\n",
    "        df.rename(columns={col:'Silver' + col[4:]}, inplace=True)\n",
    "    if col[:2]=='03':\n",
    "        df.rename(columns={col:'Bronze' + col[4:]}, inplace=True)\n",
    "    if col[:1]=='№':\n",
    "        df.rename(columns={col:'#' + col[1:]}, inplace=True) \n",
    "\n",
    "df.head()"
   ]
  },
  {
   "cell_type": "markdown",
   "metadata": {
    "nbpresent": {
     "id": "1e726cbf-9e01-456f-b2c9-9c643d4de995"
    }
   },
   "source": [
    "# Querying a DataFrame - Boolean masking"
   ]
  },
  {
   "cell_type": "code",
   "execution_count": 34,
   "metadata": {
    "collapsed": false,
    "nbpresent": {
     "id": "78daba39-4ae1-4440-bdf8-e666082c391d"
    }
   },
   "outputs": [
    {
     "data": {
      "text/plain": [
       "Afghanistan (AFG)                               False\n",
       "Algeria (ALG)                                    True\n",
       "Argentina (ARG)                                  True\n",
       "Armenia (ARM)                                    True\n",
       "Australasia (ANZ) [ANZ]                          True\n",
       "Australia (AUS) [AUS] [Z]                        True\n",
       "Austria (AUT)                                    True\n",
       "Azerbaijan (AZE)                                 True\n",
       "Bahamas (BAH)                                    True\n",
       "Bahrain (BRN)                                   False\n",
       "Barbados (BAR) [BAR]                            False\n",
       "Belarus (BLR)                                    True\n",
       "Belgium (BEL)                                    True\n",
       "Bermuda (BER)                                   False\n",
       "Bohemia (BOH) [BOH] [Z]                         False\n",
       "Botswana (BOT)                                  False\n",
       "Brazil (BRA)                                     True\n",
       "British West Indies (BWI) [BWI]                 False\n",
       "Bulgaria (BUL) [H]                               True\n",
       "Burundi (BDI)                                    True\n",
       "Cameroon (CMR)                                   True\n",
       "Canada (CAN)                                     True\n",
       "Chile (CHI) [I]                                  True\n",
       "China (CHN) [CHN]                                True\n",
       "Colombia (COL)                                   True\n",
       "Costa Rica (CRC)                                 True\n",
       "Ivory Coast (CIV) [CIV]                         False\n",
       "Croatia (CRO)                                    True\n",
       "Cuba (CUB) [Z]                                   True\n",
       "Cyprus (CYP)                                    False\n",
       "                                                ...  \n",
       "Sri Lanka (SRI) [SRI]                           False\n",
       "Sudan (SUD)                                     False\n",
       "Suriname (SUR) [E]                               True\n",
       "Sweden (SWE) [Z]                                 True\n",
       "Switzerland (SUI)                                True\n",
       "Syria (SYR)                                      True\n",
       "Chinese Taipei (TPE) [TPE] [TPE2]                True\n",
       "Tajikistan (TJK)                                False\n",
       "Tanzania (TAN) [TAN]                            False\n",
       "Thailand (THA)                                   True\n",
       "Togo (TOG)                                      False\n",
       "Tonga (TGA)                                     False\n",
       "Trinidad and Tobago (TRI) [TRI]                  True\n",
       "Tunisia (TUN)                                    True\n",
       "Turkey (TUR)                                     True\n",
       "Uganda (UGA)                                     True\n",
       "Ukraine (UKR)                                    True\n",
       "United Arab Emirates (UAE)                       True\n",
       "United States (USA) [P] [Q] [R] [Z]              True\n",
       "Uruguay (URU)                                    True\n",
       "Uzbekistan (UZB)                                 True\n",
       "Venezuela (VEN)                                  True\n",
       "Vietnam (VIE)                                   False\n",
       "Virgin Islands (ISV)                            False\n",
       "Yugoslavia (YUG) [YUG]                           True\n",
       "Independent Olympic Participants (IOP) [IOP]    False\n",
       "Zambia (ZAM) [ZAM]                              False\n",
       "Zimbabwe (ZIM) [ZIM]                             True\n",
       "Mixed team (ZZX) [ZZX]                           True\n",
       "Totals                                           True\n",
       "Name: Gold, dtype: bool"
      ]
     },
     "execution_count": 34,
     "metadata": {},
     "output_type": "execute_result"
    }
   ],
   "source": [
    "df['Gold'] > 0"
   ]
  },
  {
   "cell_type": "code",
   "execution_count": 35,
   "metadata": {
    "collapsed": false,
    "nbpresent": {
     "id": "43c77e91-9cb2-450a-b6cd-292a9d610136"
    }
   },
   "outputs": [
    {
     "data": {
      "text/html": [
       "<div>\n",
       "<table border=\"1\" class=\"dataframe\">\n",
       "  <thead>\n",
       "    <tr style=\"text-align: right;\">\n",
       "      <th></th>\n",
       "      <th># Summer</th>\n",
       "      <th>Gold</th>\n",
       "      <th>Silver</th>\n",
       "      <th>Bronze</th>\n",
       "      <th>Total</th>\n",
       "      <th># Winter</th>\n",
       "      <th>Gold.1</th>\n",
       "      <th>Silver.1</th>\n",
       "      <th>Bronze.1</th>\n",
       "      <th>Total.1</th>\n",
       "      <th># Games</th>\n",
       "      <th>Gold.2</th>\n",
       "      <th>Silver.2</th>\n",
       "      <th>Bronze.2</th>\n",
       "      <th>Combined total</th>\n",
       "    </tr>\n",
       "  </thead>\n",
       "  <tbody>\n",
       "    <tr>\n",
       "      <th>Afghanistan (AFG)</th>\n",
       "      <td>NaN</td>\n",
       "      <td>NaN</td>\n",
       "      <td>NaN</td>\n",
       "      <td>NaN</td>\n",
       "      <td>NaN</td>\n",
       "      <td>NaN</td>\n",
       "      <td>NaN</td>\n",
       "      <td>NaN</td>\n",
       "      <td>NaN</td>\n",
       "      <td>NaN</td>\n",
       "      <td>NaN</td>\n",
       "      <td>NaN</td>\n",
       "      <td>NaN</td>\n",
       "      <td>NaN</td>\n",
       "      <td>NaN</td>\n",
       "    </tr>\n",
       "    <tr>\n",
       "      <th>Algeria (ALG)</th>\n",
       "      <td>12.0</td>\n",
       "      <td>5.0</td>\n",
       "      <td>2.0</td>\n",
       "      <td>8.0</td>\n",
       "      <td>15.0</td>\n",
       "      <td>3.0</td>\n",
       "      <td>0.0</td>\n",
       "      <td>0.0</td>\n",
       "      <td>0.0</td>\n",
       "      <td>0.0</td>\n",
       "      <td>15.0</td>\n",
       "      <td>5.0</td>\n",
       "      <td>2.0</td>\n",
       "      <td>8.0</td>\n",
       "      <td>15.0</td>\n",
       "    </tr>\n",
       "    <tr>\n",
       "      <th>Argentina (ARG)</th>\n",
       "      <td>23.0</td>\n",
       "      <td>18.0</td>\n",
       "      <td>24.0</td>\n",
       "      <td>28.0</td>\n",
       "      <td>70.0</td>\n",
       "      <td>18.0</td>\n",
       "      <td>0.0</td>\n",
       "      <td>0.0</td>\n",
       "      <td>0.0</td>\n",
       "      <td>0.0</td>\n",
       "      <td>41.0</td>\n",
       "      <td>18.0</td>\n",
       "      <td>24.0</td>\n",
       "      <td>28.0</td>\n",
       "      <td>70.0</td>\n",
       "    </tr>\n",
       "    <tr>\n",
       "      <th>Armenia (ARM)</th>\n",
       "      <td>5.0</td>\n",
       "      <td>1.0</td>\n",
       "      <td>2.0</td>\n",
       "      <td>9.0</td>\n",
       "      <td>12.0</td>\n",
       "      <td>6.0</td>\n",
       "      <td>0.0</td>\n",
       "      <td>0.0</td>\n",
       "      <td>0.0</td>\n",
       "      <td>0.0</td>\n",
       "      <td>11.0</td>\n",
       "      <td>1.0</td>\n",
       "      <td>2.0</td>\n",
       "      <td>9.0</td>\n",
       "      <td>12.0</td>\n",
       "    </tr>\n",
       "    <tr>\n",
       "      <th>Australasia (ANZ) [ANZ]</th>\n",
       "      <td>2.0</td>\n",
       "      <td>3.0</td>\n",
       "      <td>4.0</td>\n",
       "      <td>5.0</td>\n",
       "      <td>12.0</td>\n",
       "      <td>0.0</td>\n",
       "      <td>0.0</td>\n",
       "      <td>0.0</td>\n",
       "      <td>0.0</td>\n",
       "      <td>0.0</td>\n",
       "      <td>2.0</td>\n",
       "      <td>3.0</td>\n",
       "      <td>4.0</td>\n",
       "      <td>5.0</td>\n",
       "      <td>12.0</td>\n",
       "    </tr>\n",
       "  </tbody>\n",
       "</table>\n",
       "</div>"
      ],
      "text/plain": [
       "                         # Summer  Gold  Silver  Bronze  Total  # Winter  \\\n",
       "Afghanistan (AFG)             NaN   NaN     NaN     NaN    NaN       NaN   \n",
       "Algeria (ALG)                12.0   5.0     2.0     8.0   15.0       3.0   \n",
       "Argentina (ARG)              23.0  18.0    24.0    28.0   70.0      18.0   \n",
       "Armenia (ARM)                 5.0   1.0     2.0     9.0   12.0       6.0   \n",
       "Australasia (ANZ) [ANZ]       2.0   3.0     4.0     5.0   12.0       0.0   \n",
       "\n",
       "                         Gold.1  Silver.1  Bronze.1  Total.1  # Games  Gold.2  \\\n",
       "Afghanistan (AFG)           NaN       NaN       NaN      NaN      NaN     NaN   \n",
       "Algeria (ALG)               0.0       0.0       0.0      0.0     15.0     5.0   \n",
       "Argentina (ARG)             0.0       0.0       0.0      0.0     41.0    18.0   \n",
       "Armenia (ARM)               0.0       0.0       0.0      0.0     11.0     1.0   \n",
       "Australasia (ANZ) [ANZ]     0.0       0.0       0.0      0.0      2.0     3.0   \n",
       "\n",
       "                         Silver.2  Bronze.2  Combined total  \n",
       "Afghanistan (AFG)             NaN       NaN             NaN  \n",
       "Algeria (ALG)                 2.0       8.0            15.0  \n",
       "Argentina (ARG)              24.0      28.0            70.0  \n",
       "Armenia (ARM)                 2.0       9.0            12.0  \n",
       "Australasia (ANZ) [ANZ]       4.0       5.0            12.0  "
      ]
     },
     "execution_count": 35,
     "metadata": {},
     "output_type": "execute_result"
    }
   ],
   "source": [
    "only_gold = df.where(df['Gold'] > 0)\n",
    "only_gold.head()"
   ]
  },
  {
   "cell_type": "code",
   "execution_count": 36,
   "metadata": {
    "collapsed": false,
    "nbpresent": {
     "id": "ba5e0988-0b6c-4663-8ca8-e6273ce908d6"
    }
   },
   "outputs": [
    {
     "data": {
      "text/plain": [
       "100"
      ]
     },
     "execution_count": 36,
     "metadata": {},
     "output_type": "execute_result"
    }
   ],
   "source": [
    "only_gold['Gold'].count()"
   ]
  },
  {
   "cell_type": "code",
   "execution_count": 37,
   "metadata": {
    "collapsed": false,
    "nbpresent": {
     "id": "659c71e7-eccf-444a-8a27-ea93d6cb7e7b"
    }
   },
   "outputs": [
    {
     "data": {
      "text/plain": [
       "147"
      ]
     },
     "execution_count": 37,
     "metadata": {},
     "output_type": "execute_result"
    }
   ],
   "source": [
    "df['Gold'].count()"
   ]
  },
  {
   "cell_type": "code",
   "execution_count": 38,
   "metadata": {
    "collapsed": false,
    "nbpresent": {
     "id": "48fa2aaf-9206-4976-800c-50570e242945"
    }
   },
   "outputs": [
    {
     "data": {
      "text/html": [
       "<div>\n",
       "<table border=\"1\" class=\"dataframe\">\n",
       "  <thead>\n",
       "    <tr style=\"text-align: right;\">\n",
       "      <th></th>\n",
       "      <th># Summer</th>\n",
       "      <th>Gold</th>\n",
       "      <th>Silver</th>\n",
       "      <th>Bronze</th>\n",
       "      <th>Total</th>\n",
       "      <th># Winter</th>\n",
       "      <th>Gold.1</th>\n",
       "      <th>Silver.1</th>\n",
       "      <th>Bronze.1</th>\n",
       "      <th>Total.1</th>\n",
       "      <th># Games</th>\n",
       "      <th>Gold.2</th>\n",
       "      <th>Silver.2</th>\n",
       "      <th>Bronze.2</th>\n",
       "      <th>Combined total</th>\n",
       "    </tr>\n",
       "  </thead>\n",
       "  <tbody>\n",
       "    <tr>\n",
       "      <th>Algeria (ALG)</th>\n",
       "      <td>12.0</td>\n",
       "      <td>5.0</td>\n",
       "      <td>2.0</td>\n",
       "      <td>8.0</td>\n",
       "      <td>15.0</td>\n",
       "      <td>3.0</td>\n",
       "      <td>0.0</td>\n",
       "      <td>0.0</td>\n",
       "      <td>0.0</td>\n",
       "      <td>0.0</td>\n",
       "      <td>15.0</td>\n",
       "      <td>5.0</td>\n",
       "      <td>2.0</td>\n",
       "      <td>8.0</td>\n",
       "      <td>15.0</td>\n",
       "    </tr>\n",
       "    <tr>\n",
       "      <th>Argentina (ARG)</th>\n",
       "      <td>23.0</td>\n",
       "      <td>18.0</td>\n",
       "      <td>24.0</td>\n",
       "      <td>28.0</td>\n",
       "      <td>70.0</td>\n",
       "      <td>18.0</td>\n",
       "      <td>0.0</td>\n",
       "      <td>0.0</td>\n",
       "      <td>0.0</td>\n",
       "      <td>0.0</td>\n",
       "      <td>41.0</td>\n",
       "      <td>18.0</td>\n",
       "      <td>24.0</td>\n",
       "      <td>28.0</td>\n",
       "      <td>70.0</td>\n",
       "    </tr>\n",
       "    <tr>\n",
       "      <th>Armenia (ARM)</th>\n",
       "      <td>5.0</td>\n",
       "      <td>1.0</td>\n",
       "      <td>2.0</td>\n",
       "      <td>9.0</td>\n",
       "      <td>12.0</td>\n",
       "      <td>6.0</td>\n",
       "      <td>0.0</td>\n",
       "      <td>0.0</td>\n",
       "      <td>0.0</td>\n",
       "      <td>0.0</td>\n",
       "      <td>11.0</td>\n",
       "      <td>1.0</td>\n",
       "      <td>2.0</td>\n",
       "      <td>9.0</td>\n",
       "      <td>12.0</td>\n",
       "    </tr>\n",
       "    <tr>\n",
       "      <th>Australasia (ANZ) [ANZ]</th>\n",
       "      <td>2.0</td>\n",
       "      <td>3.0</td>\n",
       "      <td>4.0</td>\n",
       "      <td>5.0</td>\n",
       "      <td>12.0</td>\n",
       "      <td>0.0</td>\n",
       "      <td>0.0</td>\n",
       "      <td>0.0</td>\n",
       "      <td>0.0</td>\n",
       "      <td>0.0</td>\n",
       "      <td>2.0</td>\n",
       "      <td>3.0</td>\n",
       "      <td>4.0</td>\n",
       "      <td>5.0</td>\n",
       "      <td>12.0</td>\n",
       "    </tr>\n",
       "    <tr>\n",
       "      <th>Australia (AUS) [AUS] [Z]</th>\n",
       "      <td>25.0</td>\n",
       "      <td>139.0</td>\n",
       "      <td>152.0</td>\n",
       "      <td>177.0</td>\n",
       "      <td>468.0</td>\n",
       "      <td>18.0</td>\n",
       "      <td>5.0</td>\n",
       "      <td>3.0</td>\n",
       "      <td>4.0</td>\n",
       "      <td>12.0</td>\n",
       "      <td>43.0</td>\n",
       "      <td>144.0</td>\n",
       "      <td>155.0</td>\n",
       "      <td>181.0</td>\n",
       "      <td>480.0</td>\n",
       "    </tr>\n",
       "  </tbody>\n",
       "</table>\n",
       "</div>"
      ],
      "text/plain": [
       "                           # Summer   Gold  Silver  Bronze  Total  # Winter  \\\n",
       "Algeria (ALG)                  12.0    5.0     2.0     8.0   15.0       3.0   \n",
       "Argentina (ARG)                23.0   18.0    24.0    28.0   70.0      18.0   \n",
       "Armenia (ARM)                   5.0    1.0     2.0     9.0   12.0       6.0   \n",
       "Australasia (ANZ) [ANZ]         2.0    3.0     4.0     5.0   12.0       0.0   \n",
       "Australia (AUS) [AUS] [Z]      25.0  139.0   152.0   177.0  468.0      18.0   \n",
       "\n",
       "                           Gold.1  Silver.1  Bronze.1  Total.1  # Games  \\\n",
       "Algeria (ALG)                 0.0       0.0       0.0      0.0     15.0   \n",
       "Argentina (ARG)               0.0       0.0       0.0      0.0     41.0   \n",
       "Armenia (ARM)                 0.0       0.0       0.0      0.0     11.0   \n",
       "Australasia (ANZ) [ANZ]       0.0       0.0       0.0      0.0      2.0   \n",
       "Australia (AUS) [AUS] [Z]     5.0       3.0       4.0     12.0     43.0   \n",
       "\n",
       "                           Gold.2  Silver.2  Bronze.2  Combined total  \n",
       "Algeria (ALG)                 5.0       2.0       8.0            15.0  \n",
       "Argentina (ARG)              18.0      24.0      28.0            70.0  \n",
       "Armenia (ARM)                 1.0       2.0       9.0            12.0  \n",
       "Australasia (ANZ) [ANZ]       3.0       4.0       5.0            12.0  \n",
       "Australia (AUS) [AUS] [Z]   144.0     155.0     181.0           480.0  "
      ]
     },
     "execution_count": 38,
     "metadata": {},
     "output_type": "execute_result"
    }
   ],
   "source": [
    "only_gold = only_gold.dropna()\n",
    "only_gold.head()"
   ]
  },
  {
   "cell_type": "code",
   "execution_count": 39,
   "metadata": {
    "collapsed": false,
    "nbpresent": {
     "id": "972cd574-31b1-47b5-971a-f1a7780c899f"
    }
   },
   "outputs": [
    {
     "data": {
      "text/html": [
       "<div>\n",
       "<table border=\"1\" class=\"dataframe\">\n",
       "  <thead>\n",
       "    <tr style=\"text-align: right;\">\n",
       "      <th></th>\n",
       "      <th># Summer</th>\n",
       "      <th>Gold</th>\n",
       "      <th>Silver</th>\n",
       "      <th>Bronze</th>\n",
       "      <th>Total</th>\n",
       "      <th># Winter</th>\n",
       "      <th>Gold.1</th>\n",
       "      <th>Silver.1</th>\n",
       "      <th>Bronze.1</th>\n",
       "      <th>Total.1</th>\n",
       "      <th># Games</th>\n",
       "      <th>Gold.2</th>\n",
       "      <th>Silver.2</th>\n",
       "      <th>Bronze.2</th>\n",
       "      <th>Combined total</th>\n",
       "    </tr>\n",
       "  </thead>\n",
       "  <tbody>\n",
       "    <tr>\n",
       "      <th>Algeria (ALG)</th>\n",
       "      <td>12</td>\n",
       "      <td>5</td>\n",
       "      <td>2</td>\n",
       "      <td>8</td>\n",
       "      <td>15</td>\n",
       "      <td>3</td>\n",
       "      <td>0</td>\n",
       "      <td>0</td>\n",
       "      <td>0</td>\n",
       "      <td>0</td>\n",
       "      <td>15</td>\n",
       "      <td>5</td>\n",
       "      <td>2</td>\n",
       "      <td>8</td>\n",
       "      <td>15</td>\n",
       "    </tr>\n",
       "    <tr>\n",
       "      <th>Argentina (ARG)</th>\n",
       "      <td>23</td>\n",
       "      <td>18</td>\n",
       "      <td>24</td>\n",
       "      <td>28</td>\n",
       "      <td>70</td>\n",
       "      <td>18</td>\n",
       "      <td>0</td>\n",
       "      <td>0</td>\n",
       "      <td>0</td>\n",
       "      <td>0</td>\n",
       "      <td>41</td>\n",
       "      <td>18</td>\n",
       "      <td>24</td>\n",
       "      <td>28</td>\n",
       "      <td>70</td>\n",
       "    </tr>\n",
       "    <tr>\n",
       "      <th>Armenia (ARM)</th>\n",
       "      <td>5</td>\n",
       "      <td>1</td>\n",
       "      <td>2</td>\n",
       "      <td>9</td>\n",
       "      <td>12</td>\n",
       "      <td>6</td>\n",
       "      <td>0</td>\n",
       "      <td>0</td>\n",
       "      <td>0</td>\n",
       "      <td>0</td>\n",
       "      <td>11</td>\n",
       "      <td>1</td>\n",
       "      <td>2</td>\n",
       "      <td>9</td>\n",
       "      <td>12</td>\n",
       "    </tr>\n",
       "    <tr>\n",
       "      <th>Australasia (ANZ) [ANZ]</th>\n",
       "      <td>2</td>\n",
       "      <td>3</td>\n",
       "      <td>4</td>\n",
       "      <td>5</td>\n",
       "      <td>12</td>\n",
       "      <td>0</td>\n",
       "      <td>0</td>\n",
       "      <td>0</td>\n",
       "      <td>0</td>\n",
       "      <td>0</td>\n",
       "      <td>2</td>\n",
       "      <td>3</td>\n",
       "      <td>4</td>\n",
       "      <td>5</td>\n",
       "      <td>12</td>\n",
       "    </tr>\n",
       "    <tr>\n",
       "      <th>Australia (AUS) [AUS] [Z]</th>\n",
       "      <td>25</td>\n",
       "      <td>139</td>\n",
       "      <td>152</td>\n",
       "      <td>177</td>\n",
       "      <td>468</td>\n",
       "      <td>18</td>\n",
       "      <td>5</td>\n",
       "      <td>3</td>\n",
       "      <td>4</td>\n",
       "      <td>12</td>\n",
       "      <td>43</td>\n",
       "      <td>144</td>\n",
       "      <td>155</td>\n",
       "      <td>181</td>\n",
       "      <td>480</td>\n",
       "    </tr>\n",
       "  </tbody>\n",
       "</table>\n",
       "</div>"
      ],
      "text/plain": [
       "                           # Summer  Gold  Silver  Bronze  Total  # Winter  \\\n",
       "Algeria (ALG)                    12     5       2       8     15         3   \n",
       "Argentina (ARG)                  23    18      24      28     70        18   \n",
       "Armenia (ARM)                     5     1       2       9     12         6   \n",
       "Australasia (ANZ) [ANZ]           2     3       4       5     12         0   \n",
       "Australia (AUS) [AUS] [Z]        25   139     152     177    468        18   \n",
       "\n",
       "                           Gold.1  Silver.1  Bronze.1  Total.1  # Games  \\\n",
       "Algeria (ALG)                   0         0         0        0       15   \n",
       "Argentina (ARG)                 0         0         0        0       41   \n",
       "Armenia (ARM)                   0         0         0        0       11   \n",
       "Australasia (ANZ) [ANZ]         0         0         0        0        2   \n",
       "Australia (AUS) [AUS] [Z]       5         3         4       12       43   \n",
       "\n",
       "                           Gold.2  Silver.2  Bronze.2  Combined total  \n",
       "Algeria (ALG)                   5         2         8              15  \n",
       "Argentina (ARG)                18        24        28              70  \n",
       "Armenia (ARM)                   1         2         9              12  \n",
       "Australasia (ANZ) [ANZ]         3         4         5              12  \n",
       "Australia (AUS) [AUS] [Z]     144       155       181             480  "
      ]
     },
     "execution_count": 39,
     "metadata": {},
     "output_type": "execute_result"
    }
   ],
   "source": [
    "only_gold = df[df['Gold'] > 0]\n",
    "only_gold.head()"
   ]
  },
  {
   "cell_type": "code",
   "execution_count": 40,
   "metadata": {
    "collapsed": false,
    "nbpresent": {
     "id": "0ef97dfe-2d7d-4135-9b48-3e6e1359ba3f"
    }
   },
   "outputs": [
    {
     "data": {
      "text/plain": [
       "101"
      ]
     },
     "execution_count": 40,
     "metadata": {},
     "output_type": "execute_result"
    }
   ],
   "source": [
    "len(df[(df['Gold'] > 0) | (df['Gold.1'] > 0)])"
   ]
  },
  {
   "cell_type": "code",
   "execution_count": 41,
   "metadata": {
    "collapsed": false,
    "nbpresent": {
     "id": "cb44e366-dc1b-48b0-9d90-1e513c2f29c2"
    }
   },
   "outputs": [
    {
     "data": {
      "text/html": [
       "<div>\n",
       "<table border=\"1\" class=\"dataframe\">\n",
       "  <thead>\n",
       "    <tr style=\"text-align: right;\">\n",
       "      <th></th>\n",
       "      <th># Summer</th>\n",
       "      <th>Gold</th>\n",
       "      <th>Silver</th>\n",
       "      <th>Bronze</th>\n",
       "      <th>Total</th>\n",
       "      <th># Winter</th>\n",
       "      <th>Gold.1</th>\n",
       "      <th>Silver.1</th>\n",
       "      <th>Bronze.1</th>\n",
       "      <th>Total.1</th>\n",
       "      <th># Games</th>\n",
       "      <th>Gold.2</th>\n",
       "      <th>Silver.2</th>\n",
       "      <th>Bronze.2</th>\n",
       "      <th>Combined total</th>\n",
       "    </tr>\n",
       "  </thead>\n",
       "  <tbody>\n",
       "    <tr>\n",
       "      <th>Liechtenstein (LIE)</th>\n",
       "      <td>16</td>\n",
       "      <td>0</td>\n",
       "      <td>0</td>\n",
       "      <td>0</td>\n",
       "      <td>0</td>\n",
       "      <td>18</td>\n",
       "      <td>2</td>\n",
       "      <td>2</td>\n",
       "      <td>5</td>\n",
       "      <td>9</td>\n",
       "      <td>34</td>\n",
       "      <td>2</td>\n",
       "      <td>2</td>\n",
       "      <td>5</td>\n",
       "      <td>9</td>\n",
       "    </tr>\n",
       "  </tbody>\n",
       "</table>\n",
       "</div>"
      ],
      "text/plain": [
       "                     # Summer  Gold  Silver  Bronze  Total  # Winter  Gold.1  \\\n",
       "Liechtenstein (LIE)        16     0       0       0      0        18       2   \n",
       "\n",
       "                     Silver.1  Bronze.1  Total.1  # Games  Gold.2  Silver.2  \\\n",
       "Liechtenstein (LIE)         2         5        9       34       2         2   \n",
       "\n",
       "                     Bronze.2  Combined total  \n",
       "Liechtenstein (LIE)         5               9  "
      ]
     },
     "execution_count": 41,
     "metadata": {},
     "output_type": "execute_result"
    }
   ],
   "source": [
    "df[(df['Gold.1'] > 0) & (df['Gold'] == 0)]"
   ]
  },
  {
   "cell_type": "markdown",
   "metadata": {
    "nbpresent": {
     "id": "392193c8-9129-4272-95bc-bfa57610ffcc"
    }
   },
   "source": [
    "# Indexing Dataframes"
   ]
  },
  {
   "cell_type": "code",
   "execution_count": 42,
   "metadata": {
    "collapsed": false,
    "nbpresent": {
     "id": "64ed270f-953b-4a7c-9474-dde9979f6194"
    }
   },
   "outputs": [
    {
     "data": {
      "text/html": [
       "<div>\n",
       "<table border=\"1\" class=\"dataframe\">\n",
       "  <thead>\n",
       "    <tr style=\"text-align: right;\">\n",
       "      <th></th>\n",
       "      <th># Summer</th>\n",
       "      <th>Gold</th>\n",
       "      <th>Silver</th>\n",
       "      <th>Bronze</th>\n",
       "      <th>Total</th>\n",
       "      <th># Winter</th>\n",
       "      <th>Gold.1</th>\n",
       "      <th>Silver.1</th>\n",
       "      <th>Bronze.1</th>\n",
       "      <th>Total.1</th>\n",
       "      <th># Games</th>\n",
       "      <th>Gold.2</th>\n",
       "      <th>Silver.2</th>\n",
       "      <th>Bronze.2</th>\n",
       "      <th>Combined total</th>\n",
       "    </tr>\n",
       "  </thead>\n",
       "  <tbody>\n",
       "    <tr>\n",
       "      <th>Afghanistan (AFG)</th>\n",
       "      <td>13</td>\n",
       "      <td>0</td>\n",
       "      <td>0</td>\n",
       "      <td>2</td>\n",
       "      <td>2</td>\n",
       "      <td>0</td>\n",
       "      <td>0</td>\n",
       "      <td>0</td>\n",
       "      <td>0</td>\n",
       "      <td>0</td>\n",
       "      <td>13</td>\n",
       "      <td>0</td>\n",
       "      <td>0</td>\n",
       "      <td>2</td>\n",
       "      <td>2</td>\n",
       "    </tr>\n",
       "    <tr>\n",
       "      <th>Algeria (ALG)</th>\n",
       "      <td>12</td>\n",
       "      <td>5</td>\n",
       "      <td>2</td>\n",
       "      <td>8</td>\n",
       "      <td>15</td>\n",
       "      <td>3</td>\n",
       "      <td>0</td>\n",
       "      <td>0</td>\n",
       "      <td>0</td>\n",
       "      <td>0</td>\n",
       "      <td>15</td>\n",
       "      <td>5</td>\n",
       "      <td>2</td>\n",
       "      <td>8</td>\n",
       "      <td>15</td>\n",
       "    </tr>\n",
       "    <tr>\n",
       "      <th>Argentina (ARG)</th>\n",
       "      <td>23</td>\n",
       "      <td>18</td>\n",
       "      <td>24</td>\n",
       "      <td>28</td>\n",
       "      <td>70</td>\n",
       "      <td>18</td>\n",
       "      <td>0</td>\n",
       "      <td>0</td>\n",
       "      <td>0</td>\n",
       "      <td>0</td>\n",
       "      <td>41</td>\n",
       "      <td>18</td>\n",
       "      <td>24</td>\n",
       "      <td>28</td>\n",
       "      <td>70</td>\n",
       "    </tr>\n",
       "    <tr>\n",
       "      <th>Armenia (ARM)</th>\n",
       "      <td>5</td>\n",
       "      <td>1</td>\n",
       "      <td>2</td>\n",
       "      <td>9</td>\n",
       "      <td>12</td>\n",
       "      <td>6</td>\n",
       "      <td>0</td>\n",
       "      <td>0</td>\n",
       "      <td>0</td>\n",
       "      <td>0</td>\n",
       "      <td>11</td>\n",
       "      <td>1</td>\n",
       "      <td>2</td>\n",
       "      <td>9</td>\n",
       "      <td>12</td>\n",
       "    </tr>\n",
       "    <tr>\n",
       "      <th>Australasia (ANZ) [ANZ]</th>\n",
       "      <td>2</td>\n",
       "      <td>3</td>\n",
       "      <td>4</td>\n",
       "      <td>5</td>\n",
       "      <td>12</td>\n",
       "      <td>0</td>\n",
       "      <td>0</td>\n",
       "      <td>0</td>\n",
       "      <td>0</td>\n",
       "      <td>0</td>\n",
       "      <td>2</td>\n",
       "      <td>3</td>\n",
       "      <td>4</td>\n",
       "      <td>5</td>\n",
       "      <td>12</td>\n",
       "    </tr>\n",
       "  </tbody>\n",
       "</table>\n",
       "</div>"
      ],
      "text/plain": [
       "                         # Summer  Gold  Silver  Bronze  Total  # Winter  \\\n",
       "Afghanistan (AFG)              13     0       0       2      2         0   \n",
       "Algeria (ALG)                  12     5       2       8     15         3   \n",
       "Argentina (ARG)                23    18      24      28     70        18   \n",
       "Armenia (ARM)                   5     1       2       9     12         6   \n",
       "Australasia (ANZ) [ANZ]         2     3       4       5     12         0   \n",
       "\n",
       "                         Gold.1  Silver.1  Bronze.1  Total.1  # Games  Gold.2  \\\n",
       "Afghanistan (AFG)             0         0         0        0       13       0   \n",
       "Algeria (ALG)                 0         0         0        0       15       5   \n",
       "Argentina (ARG)               0         0         0        0       41      18   \n",
       "Armenia (ARM)                 0         0         0        0       11       1   \n",
       "Australasia (ANZ) [ANZ]       0         0         0        0        2       3   \n",
       "\n",
       "                         Silver.2  Bronze.2  Combined total  \n",
       "Afghanistan (AFG)               0         2               2  \n",
       "Algeria (ALG)                   2         8              15  \n",
       "Argentina (ARG)                24        28              70  \n",
       "Armenia (ARM)                   2         9              12  \n",
       "Australasia (ANZ) [ANZ]         4         5              12  "
      ]
     },
     "execution_count": 42,
     "metadata": {},
     "output_type": "execute_result"
    }
   ],
   "source": [
    "df.head()"
   ]
  },
  {
   "cell_type": "code",
   "execution_count": 43,
   "metadata": {
    "collapsed": false,
    "nbpresent": {
     "id": "2d6d150c-f541-44fe-b058-4183b12d5e2e"
    }
   },
   "outputs": [
    {
     "data": {
      "text/html": [
       "<div>\n",
       "<table border=\"1\" class=\"dataframe\">\n",
       "  <thead>\n",
       "    <tr style=\"text-align: right;\">\n",
       "      <th></th>\n",
       "      <th># Summer</th>\n",
       "      <th>Silver</th>\n",
       "      <th>Bronze</th>\n",
       "      <th>Total</th>\n",
       "      <th># Winter</th>\n",
       "      <th>Gold.1</th>\n",
       "      <th>Silver.1</th>\n",
       "      <th>Bronze.1</th>\n",
       "      <th>Total.1</th>\n",
       "      <th># Games</th>\n",
       "      <th>Gold.2</th>\n",
       "      <th>Silver.2</th>\n",
       "      <th>Bronze.2</th>\n",
       "      <th>Combined total</th>\n",
       "      <th>country</th>\n",
       "    </tr>\n",
       "    <tr>\n",
       "      <th>Gold</th>\n",
       "      <th></th>\n",
       "      <th></th>\n",
       "      <th></th>\n",
       "      <th></th>\n",
       "      <th></th>\n",
       "      <th></th>\n",
       "      <th></th>\n",
       "      <th></th>\n",
       "      <th></th>\n",
       "      <th></th>\n",
       "      <th></th>\n",
       "      <th></th>\n",
       "      <th></th>\n",
       "      <th></th>\n",
       "      <th></th>\n",
       "    </tr>\n",
       "  </thead>\n",
       "  <tbody>\n",
       "    <tr>\n",
       "      <th>0</th>\n",
       "      <td>13</td>\n",
       "      <td>0</td>\n",
       "      <td>2</td>\n",
       "      <td>2</td>\n",
       "      <td>0</td>\n",
       "      <td>0</td>\n",
       "      <td>0</td>\n",
       "      <td>0</td>\n",
       "      <td>0</td>\n",
       "      <td>13</td>\n",
       "      <td>0</td>\n",
       "      <td>0</td>\n",
       "      <td>2</td>\n",
       "      <td>2</td>\n",
       "      <td>Afghanistan (AFG)</td>\n",
       "    </tr>\n",
       "    <tr>\n",
       "      <th>5</th>\n",
       "      <td>12</td>\n",
       "      <td>2</td>\n",
       "      <td>8</td>\n",
       "      <td>15</td>\n",
       "      <td>3</td>\n",
       "      <td>0</td>\n",
       "      <td>0</td>\n",
       "      <td>0</td>\n",
       "      <td>0</td>\n",
       "      <td>15</td>\n",
       "      <td>5</td>\n",
       "      <td>2</td>\n",
       "      <td>8</td>\n",
       "      <td>15</td>\n",
       "      <td>Algeria (ALG)</td>\n",
       "    </tr>\n",
       "    <tr>\n",
       "      <th>18</th>\n",
       "      <td>23</td>\n",
       "      <td>24</td>\n",
       "      <td>28</td>\n",
       "      <td>70</td>\n",
       "      <td>18</td>\n",
       "      <td>0</td>\n",
       "      <td>0</td>\n",
       "      <td>0</td>\n",
       "      <td>0</td>\n",
       "      <td>41</td>\n",
       "      <td>18</td>\n",
       "      <td>24</td>\n",
       "      <td>28</td>\n",
       "      <td>70</td>\n",
       "      <td>Argentina (ARG)</td>\n",
       "    </tr>\n",
       "    <tr>\n",
       "      <th>1</th>\n",
       "      <td>5</td>\n",
       "      <td>2</td>\n",
       "      <td>9</td>\n",
       "      <td>12</td>\n",
       "      <td>6</td>\n",
       "      <td>0</td>\n",
       "      <td>0</td>\n",
       "      <td>0</td>\n",
       "      <td>0</td>\n",
       "      <td>11</td>\n",
       "      <td>1</td>\n",
       "      <td>2</td>\n",
       "      <td>9</td>\n",
       "      <td>12</td>\n",
       "      <td>Armenia (ARM)</td>\n",
       "    </tr>\n",
       "    <tr>\n",
       "      <th>3</th>\n",
       "      <td>2</td>\n",
       "      <td>4</td>\n",
       "      <td>5</td>\n",
       "      <td>12</td>\n",
       "      <td>0</td>\n",
       "      <td>0</td>\n",
       "      <td>0</td>\n",
       "      <td>0</td>\n",
       "      <td>0</td>\n",
       "      <td>2</td>\n",
       "      <td>3</td>\n",
       "      <td>4</td>\n",
       "      <td>5</td>\n",
       "      <td>12</td>\n",
       "      <td>Australasia (ANZ) [ANZ]</td>\n",
       "    </tr>\n",
       "  </tbody>\n",
       "</table>\n",
       "</div>"
      ],
      "text/plain": [
       "      # Summer  Silver  Bronze  Total  # Winter  Gold.1  Silver.1  Bronze.1  \\\n",
       "Gold                                                                          \n",
       "0           13       0       2      2         0       0         0         0   \n",
       "5           12       2       8     15         3       0         0         0   \n",
       "18          23      24      28     70        18       0         0         0   \n",
       "1            5       2       9     12         6       0         0         0   \n",
       "3            2       4       5     12         0       0         0         0   \n",
       "\n",
       "      Total.1  # Games  Gold.2  Silver.2  Bronze.2  Combined total  \\\n",
       "Gold                                                                 \n",
       "0           0       13       0         0         2               2   \n",
       "5           0       15       5         2         8              15   \n",
       "18          0       41      18        24        28              70   \n",
       "1           0       11       1         2         9              12   \n",
       "3           0        2       3         4         5              12   \n",
       "\n",
       "                      country  \n",
       "Gold                           \n",
       "0           Afghanistan (AFG)  \n",
       "5               Algeria (ALG)  \n",
       "18            Argentina (ARG)  \n",
       "1               Armenia (ARM)  \n",
       "3     Australasia (ANZ) [ANZ]  "
      ]
     },
     "execution_count": 43,
     "metadata": {},
     "output_type": "execute_result"
    }
   ],
   "source": [
    "df['country'] = df.index\n",
    "df = df.set_index('Gold')\n",
    "df.head()"
   ]
  },
  {
   "cell_type": "code",
   "execution_count": 44,
   "metadata": {
    "collapsed": false,
    "nbpresent": {
     "id": "decc88f4-51bc-422c-b13f-fa9819075f4d"
    }
   },
   "outputs": [
    {
     "data": {
      "text/html": [
       "<div>\n",
       "<table border=\"1\" class=\"dataframe\">\n",
       "  <thead>\n",
       "    <tr style=\"text-align: right;\">\n",
       "      <th></th>\n",
       "      <th>Gold</th>\n",
       "      <th># Summer</th>\n",
       "      <th>Silver</th>\n",
       "      <th>Bronze</th>\n",
       "      <th>Total</th>\n",
       "      <th># Winter</th>\n",
       "      <th>Gold.1</th>\n",
       "      <th>Silver.1</th>\n",
       "      <th>Bronze.1</th>\n",
       "      <th>Total.1</th>\n",
       "      <th># Games</th>\n",
       "      <th>Gold.2</th>\n",
       "      <th>Silver.2</th>\n",
       "      <th>Bronze.2</th>\n",
       "      <th>Combined total</th>\n",
       "      <th>country</th>\n",
       "    </tr>\n",
       "  </thead>\n",
       "  <tbody>\n",
       "    <tr>\n",
       "      <th>0</th>\n",
       "      <td>0</td>\n",
       "      <td>13</td>\n",
       "      <td>0</td>\n",
       "      <td>2</td>\n",
       "      <td>2</td>\n",
       "      <td>0</td>\n",
       "      <td>0</td>\n",
       "      <td>0</td>\n",
       "      <td>0</td>\n",
       "      <td>0</td>\n",
       "      <td>13</td>\n",
       "      <td>0</td>\n",
       "      <td>0</td>\n",
       "      <td>2</td>\n",
       "      <td>2</td>\n",
       "      <td>Afghanistan (AFG)</td>\n",
       "    </tr>\n",
       "    <tr>\n",
       "      <th>1</th>\n",
       "      <td>5</td>\n",
       "      <td>12</td>\n",
       "      <td>2</td>\n",
       "      <td>8</td>\n",
       "      <td>15</td>\n",
       "      <td>3</td>\n",
       "      <td>0</td>\n",
       "      <td>0</td>\n",
       "      <td>0</td>\n",
       "      <td>0</td>\n",
       "      <td>15</td>\n",
       "      <td>5</td>\n",
       "      <td>2</td>\n",
       "      <td>8</td>\n",
       "      <td>15</td>\n",
       "      <td>Algeria (ALG)</td>\n",
       "    </tr>\n",
       "    <tr>\n",
       "      <th>2</th>\n",
       "      <td>18</td>\n",
       "      <td>23</td>\n",
       "      <td>24</td>\n",
       "      <td>28</td>\n",
       "      <td>70</td>\n",
       "      <td>18</td>\n",
       "      <td>0</td>\n",
       "      <td>0</td>\n",
       "      <td>0</td>\n",
       "      <td>0</td>\n",
       "      <td>41</td>\n",
       "      <td>18</td>\n",
       "      <td>24</td>\n",
       "      <td>28</td>\n",
       "      <td>70</td>\n",
       "      <td>Argentina (ARG)</td>\n",
       "    </tr>\n",
       "    <tr>\n",
       "      <th>3</th>\n",
       "      <td>1</td>\n",
       "      <td>5</td>\n",
       "      <td>2</td>\n",
       "      <td>9</td>\n",
       "      <td>12</td>\n",
       "      <td>6</td>\n",
       "      <td>0</td>\n",
       "      <td>0</td>\n",
       "      <td>0</td>\n",
       "      <td>0</td>\n",
       "      <td>11</td>\n",
       "      <td>1</td>\n",
       "      <td>2</td>\n",
       "      <td>9</td>\n",
       "      <td>12</td>\n",
       "      <td>Armenia (ARM)</td>\n",
       "    </tr>\n",
       "    <tr>\n",
       "      <th>4</th>\n",
       "      <td>3</td>\n",
       "      <td>2</td>\n",
       "      <td>4</td>\n",
       "      <td>5</td>\n",
       "      <td>12</td>\n",
       "      <td>0</td>\n",
       "      <td>0</td>\n",
       "      <td>0</td>\n",
       "      <td>0</td>\n",
       "      <td>0</td>\n",
       "      <td>2</td>\n",
       "      <td>3</td>\n",
       "      <td>4</td>\n",
       "      <td>5</td>\n",
       "      <td>12</td>\n",
       "      <td>Australasia (ANZ) [ANZ]</td>\n",
       "    </tr>\n",
       "  </tbody>\n",
       "</table>\n",
       "</div>"
      ],
      "text/plain": [
       "   Gold  # Summer  Silver  Bronze  Total  # Winter  Gold.1  Silver.1  \\\n",
       "0     0        13       0       2      2         0       0         0   \n",
       "1     5        12       2       8     15         3       0         0   \n",
       "2    18        23      24      28     70        18       0         0   \n",
       "3     1         5       2       9     12         6       0         0   \n",
       "4     3         2       4       5     12         0       0         0   \n",
       "\n",
       "   Bronze.1  Total.1  # Games  Gold.2  Silver.2  Bronze.2  Combined total  \\\n",
       "0         0        0       13       0         0         2               2   \n",
       "1         0        0       15       5         2         8              15   \n",
       "2         0        0       41      18        24        28              70   \n",
       "3         0        0       11       1         2         9              12   \n",
       "4         0        0        2       3         4         5              12   \n",
       "\n",
       "                   country  \n",
       "0        Afghanistan (AFG)  \n",
       "1            Algeria (ALG)  \n",
       "2          Argentina (ARG)  \n",
       "3            Armenia (ARM)  \n",
       "4  Australasia (ANZ) [ANZ]  "
      ]
     },
     "execution_count": 44,
     "metadata": {},
     "output_type": "execute_result"
    }
   ],
   "source": [
    "df = df.reset_index()\n",
    "df.head()"
   ]
  },
  {
   "cell_type": "code",
   "execution_count": 45,
   "metadata": {
    "collapsed": false,
    "nbpresent": {
     "id": "1f6f56ce-13cb-49b3-99e7-c569473c5220"
    }
   },
   "outputs": [
    {
     "data": {
      "text/html": [
       "<div>\n",
       "<table border=\"1\" class=\"dataframe\">\n",
       "  <thead>\n",
       "    <tr style=\"text-align: right;\">\n",
       "      <th></th>\n",
       "      <th>SUMLEV</th>\n",
       "      <th>REGION</th>\n",
       "      <th>DIVISION</th>\n",
       "      <th>STATE</th>\n",
       "      <th>COUNTY</th>\n",
       "      <th>STNAME</th>\n",
       "      <th>CTYNAME</th>\n",
       "      <th>CENSUS2010POP</th>\n",
       "      <th>ESTIMATESBASE2010</th>\n",
       "      <th>POPESTIMATE2010</th>\n",
       "      <th>...</th>\n",
       "      <th>RDOMESTICMIG2011</th>\n",
       "      <th>RDOMESTICMIG2012</th>\n",
       "      <th>RDOMESTICMIG2013</th>\n",
       "      <th>RDOMESTICMIG2014</th>\n",
       "      <th>RDOMESTICMIG2015</th>\n",
       "      <th>RNETMIG2011</th>\n",
       "      <th>RNETMIG2012</th>\n",
       "      <th>RNETMIG2013</th>\n",
       "      <th>RNETMIG2014</th>\n",
       "      <th>RNETMIG2015</th>\n",
       "    </tr>\n",
       "  </thead>\n",
       "  <tbody>\n",
       "    <tr>\n",
       "      <th>0</th>\n",
       "      <td>40</td>\n",
       "      <td>3</td>\n",
       "      <td>6</td>\n",
       "      <td>1</td>\n",
       "      <td>0</td>\n",
       "      <td>Alabama</td>\n",
       "      <td>Alabama</td>\n",
       "      <td>4779736</td>\n",
       "      <td>4780127</td>\n",
       "      <td>4785161</td>\n",
       "      <td>...</td>\n",
       "      <td>0.002295</td>\n",
       "      <td>-0.193196</td>\n",
       "      <td>0.381066</td>\n",
       "      <td>0.582002</td>\n",
       "      <td>-0.467369</td>\n",
       "      <td>1.030015</td>\n",
       "      <td>0.826644</td>\n",
       "      <td>1.383282</td>\n",
       "      <td>1.724718</td>\n",
       "      <td>0.712594</td>\n",
       "    </tr>\n",
       "    <tr>\n",
       "      <th>1</th>\n",
       "      <td>50</td>\n",
       "      <td>3</td>\n",
       "      <td>6</td>\n",
       "      <td>1</td>\n",
       "      <td>1</td>\n",
       "      <td>Alabama</td>\n",
       "      <td>Autauga County</td>\n",
       "      <td>54571</td>\n",
       "      <td>54571</td>\n",
       "      <td>54660</td>\n",
       "      <td>...</td>\n",
       "      <td>7.242091</td>\n",
       "      <td>-2.915927</td>\n",
       "      <td>-3.012349</td>\n",
       "      <td>2.265971</td>\n",
       "      <td>-2.530799</td>\n",
       "      <td>7.606016</td>\n",
       "      <td>-2.626146</td>\n",
       "      <td>-2.722002</td>\n",
       "      <td>2.592270</td>\n",
       "      <td>-2.187333</td>\n",
       "    </tr>\n",
       "    <tr>\n",
       "      <th>2</th>\n",
       "      <td>50</td>\n",
       "      <td>3</td>\n",
       "      <td>6</td>\n",
       "      <td>1</td>\n",
       "      <td>3</td>\n",
       "      <td>Alabama</td>\n",
       "      <td>Baldwin County</td>\n",
       "      <td>182265</td>\n",
       "      <td>182265</td>\n",
       "      <td>183193</td>\n",
       "      <td>...</td>\n",
       "      <td>14.832960</td>\n",
       "      <td>17.647293</td>\n",
       "      <td>21.845705</td>\n",
       "      <td>19.243287</td>\n",
       "      <td>17.197872</td>\n",
       "      <td>15.844176</td>\n",
       "      <td>18.559627</td>\n",
       "      <td>22.727626</td>\n",
       "      <td>20.317142</td>\n",
       "      <td>18.293499</td>\n",
       "    </tr>\n",
       "    <tr>\n",
       "      <th>3</th>\n",
       "      <td>50</td>\n",
       "      <td>3</td>\n",
       "      <td>6</td>\n",
       "      <td>1</td>\n",
       "      <td>5</td>\n",
       "      <td>Alabama</td>\n",
       "      <td>Barbour County</td>\n",
       "      <td>27457</td>\n",
       "      <td>27457</td>\n",
       "      <td>27341</td>\n",
       "      <td>...</td>\n",
       "      <td>-4.728132</td>\n",
       "      <td>-2.500690</td>\n",
       "      <td>-7.056824</td>\n",
       "      <td>-3.904217</td>\n",
       "      <td>-10.543299</td>\n",
       "      <td>-4.874741</td>\n",
       "      <td>-2.758113</td>\n",
       "      <td>-7.167664</td>\n",
       "      <td>-3.978583</td>\n",
       "      <td>-10.543299</td>\n",
       "    </tr>\n",
       "    <tr>\n",
       "      <th>4</th>\n",
       "      <td>50</td>\n",
       "      <td>3</td>\n",
       "      <td>6</td>\n",
       "      <td>1</td>\n",
       "      <td>7</td>\n",
       "      <td>Alabama</td>\n",
       "      <td>Bibb County</td>\n",
       "      <td>22915</td>\n",
       "      <td>22919</td>\n",
       "      <td>22861</td>\n",
       "      <td>...</td>\n",
       "      <td>-5.527043</td>\n",
       "      <td>-5.068871</td>\n",
       "      <td>-6.201001</td>\n",
       "      <td>-0.177537</td>\n",
       "      <td>0.177258</td>\n",
       "      <td>-5.088389</td>\n",
       "      <td>-4.363636</td>\n",
       "      <td>-5.403729</td>\n",
       "      <td>0.754533</td>\n",
       "      <td>1.107861</td>\n",
       "    </tr>\n",
       "  </tbody>\n",
       "</table>\n",
       "<p>5 rows × 100 columns</p>\n",
       "</div>"
      ],
      "text/plain": [
       "   SUMLEV  REGION  DIVISION  STATE  COUNTY   STNAME         CTYNAME  \\\n",
       "0      40       3         6      1       0  Alabama         Alabama   \n",
       "1      50       3         6      1       1  Alabama  Autauga County   \n",
       "2      50       3         6      1       3  Alabama  Baldwin County   \n",
       "3      50       3         6      1       5  Alabama  Barbour County   \n",
       "4      50       3         6      1       7  Alabama     Bibb County   \n",
       "\n",
       "   CENSUS2010POP  ESTIMATESBASE2010  POPESTIMATE2010     ...       \\\n",
       "0        4779736            4780127          4785161     ...        \n",
       "1          54571              54571            54660     ...        \n",
       "2         182265             182265           183193     ...        \n",
       "3          27457              27457            27341     ...        \n",
       "4          22915              22919            22861     ...        \n",
       "\n",
       "   RDOMESTICMIG2011  RDOMESTICMIG2012  RDOMESTICMIG2013  RDOMESTICMIG2014  \\\n",
       "0          0.002295         -0.193196          0.381066          0.582002   \n",
       "1          7.242091         -2.915927         -3.012349          2.265971   \n",
       "2         14.832960         17.647293         21.845705         19.243287   \n",
       "3         -4.728132         -2.500690         -7.056824         -3.904217   \n",
       "4         -5.527043         -5.068871         -6.201001         -0.177537   \n",
       "\n",
       "   RDOMESTICMIG2015  RNETMIG2011  RNETMIG2012  RNETMIG2013  RNETMIG2014  \\\n",
       "0         -0.467369     1.030015     0.826644     1.383282     1.724718   \n",
       "1         -2.530799     7.606016    -2.626146    -2.722002     2.592270   \n",
       "2         17.197872    15.844176    18.559627    22.727626    20.317142   \n",
       "3        -10.543299    -4.874741    -2.758113    -7.167664    -3.978583   \n",
       "4          0.177258    -5.088389    -4.363636    -5.403729     0.754533   \n",
       "\n",
       "   RNETMIG2015  \n",
       "0     0.712594  \n",
       "1    -2.187333  \n",
       "2    18.293499  \n",
       "3   -10.543299  \n",
       "4     1.107861  \n",
       "\n",
       "[5 rows x 100 columns]"
      ]
     },
     "execution_count": 45,
     "metadata": {},
     "output_type": "execute_result"
    }
   ],
   "source": [
    "df = pd.read_csv('census.csv')\n",
    "df.head()"
   ]
  },
  {
   "cell_type": "code",
   "execution_count": 46,
   "metadata": {
    "collapsed": false,
    "nbpresent": {
     "id": "c716a9a8-6a94-490c-a601-30e8a81e6dd9"
    }
   },
   "outputs": [
    {
     "data": {
      "text/plain": [
       "array([40, 50])"
      ]
     },
     "execution_count": 46,
     "metadata": {},
     "output_type": "execute_result"
    }
   ],
   "source": [
    "df['SUMLEV'].unique()"
   ]
  },
  {
   "cell_type": "code",
   "execution_count": 47,
   "metadata": {
    "collapsed": false,
    "nbpresent": {
     "id": "1927875d-c965-44a3-af93-9760e3058eda"
    }
   },
   "outputs": [
    {
     "data": {
      "text/html": [
       "<div>\n",
       "<table border=\"1\" class=\"dataframe\">\n",
       "  <thead>\n",
       "    <tr style=\"text-align: right;\">\n",
       "      <th></th>\n",
       "      <th>SUMLEV</th>\n",
       "      <th>REGION</th>\n",
       "      <th>DIVISION</th>\n",
       "      <th>STATE</th>\n",
       "      <th>COUNTY</th>\n",
       "      <th>STNAME</th>\n",
       "      <th>CTYNAME</th>\n",
       "      <th>CENSUS2010POP</th>\n",
       "      <th>ESTIMATESBASE2010</th>\n",
       "      <th>POPESTIMATE2010</th>\n",
       "      <th>...</th>\n",
       "      <th>RDOMESTICMIG2011</th>\n",
       "      <th>RDOMESTICMIG2012</th>\n",
       "      <th>RDOMESTICMIG2013</th>\n",
       "      <th>RDOMESTICMIG2014</th>\n",
       "      <th>RDOMESTICMIG2015</th>\n",
       "      <th>RNETMIG2011</th>\n",
       "      <th>RNETMIG2012</th>\n",
       "      <th>RNETMIG2013</th>\n",
       "      <th>RNETMIG2014</th>\n",
       "      <th>RNETMIG2015</th>\n",
       "    </tr>\n",
       "  </thead>\n",
       "  <tbody>\n",
       "    <tr>\n",
       "      <th>1</th>\n",
       "      <td>50</td>\n",
       "      <td>3</td>\n",
       "      <td>6</td>\n",
       "      <td>1</td>\n",
       "      <td>1</td>\n",
       "      <td>Alabama</td>\n",
       "      <td>Autauga County</td>\n",
       "      <td>54571</td>\n",
       "      <td>54571</td>\n",
       "      <td>54660</td>\n",
       "      <td>...</td>\n",
       "      <td>7.242091</td>\n",
       "      <td>-2.915927</td>\n",
       "      <td>-3.012349</td>\n",
       "      <td>2.265971</td>\n",
       "      <td>-2.530799</td>\n",
       "      <td>7.606016</td>\n",
       "      <td>-2.626146</td>\n",
       "      <td>-2.722002</td>\n",
       "      <td>2.592270</td>\n",
       "      <td>-2.187333</td>\n",
       "    </tr>\n",
       "    <tr>\n",
       "      <th>2</th>\n",
       "      <td>50</td>\n",
       "      <td>3</td>\n",
       "      <td>6</td>\n",
       "      <td>1</td>\n",
       "      <td>3</td>\n",
       "      <td>Alabama</td>\n",
       "      <td>Baldwin County</td>\n",
       "      <td>182265</td>\n",
       "      <td>182265</td>\n",
       "      <td>183193</td>\n",
       "      <td>...</td>\n",
       "      <td>14.832960</td>\n",
       "      <td>17.647293</td>\n",
       "      <td>21.845705</td>\n",
       "      <td>19.243287</td>\n",
       "      <td>17.197872</td>\n",
       "      <td>15.844176</td>\n",
       "      <td>18.559627</td>\n",
       "      <td>22.727626</td>\n",
       "      <td>20.317142</td>\n",
       "      <td>18.293499</td>\n",
       "    </tr>\n",
       "    <tr>\n",
       "      <th>3</th>\n",
       "      <td>50</td>\n",
       "      <td>3</td>\n",
       "      <td>6</td>\n",
       "      <td>1</td>\n",
       "      <td>5</td>\n",
       "      <td>Alabama</td>\n",
       "      <td>Barbour County</td>\n",
       "      <td>27457</td>\n",
       "      <td>27457</td>\n",
       "      <td>27341</td>\n",
       "      <td>...</td>\n",
       "      <td>-4.728132</td>\n",
       "      <td>-2.500690</td>\n",
       "      <td>-7.056824</td>\n",
       "      <td>-3.904217</td>\n",
       "      <td>-10.543299</td>\n",
       "      <td>-4.874741</td>\n",
       "      <td>-2.758113</td>\n",
       "      <td>-7.167664</td>\n",
       "      <td>-3.978583</td>\n",
       "      <td>-10.543299</td>\n",
       "    </tr>\n",
       "    <tr>\n",
       "      <th>4</th>\n",
       "      <td>50</td>\n",
       "      <td>3</td>\n",
       "      <td>6</td>\n",
       "      <td>1</td>\n",
       "      <td>7</td>\n",
       "      <td>Alabama</td>\n",
       "      <td>Bibb County</td>\n",
       "      <td>22915</td>\n",
       "      <td>22919</td>\n",
       "      <td>22861</td>\n",
       "      <td>...</td>\n",
       "      <td>-5.527043</td>\n",
       "      <td>-5.068871</td>\n",
       "      <td>-6.201001</td>\n",
       "      <td>-0.177537</td>\n",
       "      <td>0.177258</td>\n",
       "      <td>-5.088389</td>\n",
       "      <td>-4.363636</td>\n",
       "      <td>-5.403729</td>\n",
       "      <td>0.754533</td>\n",
       "      <td>1.107861</td>\n",
       "    </tr>\n",
       "    <tr>\n",
       "      <th>5</th>\n",
       "      <td>50</td>\n",
       "      <td>3</td>\n",
       "      <td>6</td>\n",
       "      <td>1</td>\n",
       "      <td>9</td>\n",
       "      <td>Alabama</td>\n",
       "      <td>Blount County</td>\n",
       "      <td>57322</td>\n",
       "      <td>57322</td>\n",
       "      <td>57373</td>\n",
       "      <td>...</td>\n",
       "      <td>1.807375</td>\n",
       "      <td>-1.177622</td>\n",
       "      <td>-1.748766</td>\n",
       "      <td>-2.062535</td>\n",
       "      <td>-1.369970</td>\n",
       "      <td>1.859511</td>\n",
       "      <td>-0.848580</td>\n",
       "      <td>-1.402476</td>\n",
       "      <td>-1.577232</td>\n",
       "      <td>-0.884411</td>\n",
       "    </tr>\n",
       "  </tbody>\n",
       "</table>\n",
       "<p>5 rows × 100 columns</p>\n",
       "</div>"
      ],
      "text/plain": [
       "   SUMLEV  REGION  DIVISION  STATE  COUNTY   STNAME         CTYNAME  \\\n",
       "1      50       3         6      1       1  Alabama  Autauga County   \n",
       "2      50       3         6      1       3  Alabama  Baldwin County   \n",
       "3      50       3         6      1       5  Alabama  Barbour County   \n",
       "4      50       3         6      1       7  Alabama     Bibb County   \n",
       "5      50       3         6      1       9  Alabama   Blount County   \n",
       "\n",
       "   CENSUS2010POP  ESTIMATESBASE2010  POPESTIMATE2010     ...       \\\n",
       "1          54571              54571            54660     ...        \n",
       "2         182265             182265           183193     ...        \n",
       "3          27457              27457            27341     ...        \n",
       "4          22915              22919            22861     ...        \n",
       "5          57322              57322            57373     ...        \n",
       "\n",
       "   RDOMESTICMIG2011  RDOMESTICMIG2012  RDOMESTICMIG2013  RDOMESTICMIG2014  \\\n",
       "1          7.242091         -2.915927         -3.012349          2.265971   \n",
       "2         14.832960         17.647293         21.845705         19.243287   \n",
       "3         -4.728132         -2.500690         -7.056824         -3.904217   \n",
       "4         -5.527043         -5.068871         -6.201001         -0.177537   \n",
       "5          1.807375         -1.177622         -1.748766         -2.062535   \n",
       "\n",
       "   RDOMESTICMIG2015  RNETMIG2011  RNETMIG2012  RNETMIG2013  RNETMIG2014  \\\n",
       "1         -2.530799     7.606016    -2.626146    -2.722002     2.592270   \n",
       "2         17.197872    15.844176    18.559627    22.727626    20.317142   \n",
       "3        -10.543299    -4.874741    -2.758113    -7.167664    -3.978583   \n",
       "4          0.177258    -5.088389    -4.363636    -5.403729     0.754533   \n",
       "5         -1.369970     1.859511    -0.848580    -1.402476    -1.577232   \n",
       "\n",
       "   RNETMIG2015  \n",
       "1    -2.187333  \n",
       "2    18.293499  \n",
       "3   -10.543299  \n",
       "4     1.107861  \n",
       "5    -0.884411  \n",
       "\n",
       "[5 rows x 100 columns]"
      ]
     },
     "execution_count": 47,
     "metadata": {},
     "output_type": "execute_result"
    }
   ],
   "source": [
    "df=df[df['SUMLEV'] == 50]\n",
    "df.head()"
   ]
  },
  {
   "cell_type": "code",
   "execution_count": 48,
   "metadata": {
    "collapsed": false,
    "nbpresent": {
     "id": "f8589920-c5bc-488e-906b-ead2214c0017"
    }
   },
   "outputs": [
    {
     "data": {
      "text/html": [
       "<div>\n",
       "<table border=\"1\" class=\"dataframe\">\n",
       "  <thead>\n",
       "    <tr style=\"text-align: right;\">\n",
       "      <th></th>\n",
       "      <th>STNAME</th>\n",
       "      <th>CTYNAME</th>\n",
       "      <th>BIRTHS2010</th>\n",
       "      <th>BIRTHS2011</th>\n",
       "      <th>BIRTHS2012</th>\n",
       "      <th>BIRTHS2013</th>\n",
       "      <th>BIRTHS2014</th>\n",
       "      <th>BIRTHS2015</th>\n",
       "      <th>POPESTIMATE2010</th>\n",
       "      <th>POPESTIMATE2011</th>\n",
       "      <th>POPESTIMATE2012</th>\n",
       "      <th>POPESTIMATE2013</th>\n",
       "      <th>POPESTIMATE2014</th>\n",
       "      <th>POPESTIMATE2015</th>\n",
       "    </tr>\n",
       "  </thead>\n",
       "  <tbody>\n",
       "    <tr>\n",
       "      <th>1</th>\n",
       "      <td>Alabama</td>\n",
       "      <td>Autauga County</td>\n",
       "      <td>151</td>\n",
       "      <td>636</td>\n",
       "      <td>615</td>\n",
       "      <td>574</td>\n",
       "      <td>623</td>\n",
       "      <td>600</td>\n",
       "      <td>54660</td>\n",
       "      <td>55253</td>\n",
       "      <td>55175</td>\n",
       "      <td>55038</td>\n",
       "      <td>55290</td>\n",
       "      <td>55347</td>\n",
       "    </tr>\n",
       "    <tr>\n",
       "      <th>2</th>\n",
       "      <td>Alabama</td>\n",
       "      <td>Baldwin County</td>\n",
       "      <td>517</td>\n",
       "      <td>2187</td>\n",
       "      <td>2092</td>\n",
       "      <td>2160</td>\n",
       "      <td>2186</td>\n",
       "      <td>2240</td>\n",
       "      <td>183193</td>\n",
       "      <td>186659</td>\n",
       "      <td>190396</td>\n",
       "      <td>195126</td>\n",
       "      <td>199713</td>\n",
       "      <td>203709</td>\n",
       "    </tr>\n",
       "    <tr>\n",
       "      <th>3</th>\n",
       "      <td>Alabama</td>\n",
       "      <td>Barbour County</td>\n",
       "      <td>70</td>\n",
       "      <td>335</td>\n",
       "      <td>300</td>\n",
       "      <td>283</td>\n",
       "      <td>260</td>\n",
       "      <td>269</td>\n",
       "      <td>27341</td>\n",
       "      <td>27226</td>\n",
       "      <td>27159</td>\n",
       "      <td>26973</td>\n",
       "      <td>26815</td>\n",
       "      <td>26489</td>\n",
       "    </tr>\n",
       "    <tr>\n",
       "      <th>4</th>\n",
       "      <td>Alabama</td>\n",
       "      <td>Bibb County</td>\n",
       "      <td>44</td>\n",
       "      <td>266</td>\n",
       "      <td>245</td>\n",
       "      <td>259</td>\n",
       "      <td>247</td>\n",
       "      <td>253</td>\n",
       "      <td>22861</td>\n",
       "      <td>22733</td>\n",
       "      <td>22642</td>\n",
       "      <td>22512</td>\n",
       "      <td>22549</td>\n",
       "      <td>22583</td>\n",
       "    </tr>\n",
       "    <tr>\n",
       "      <th>5</th>\n",
       "      <td>Alabama</td>\n",
       "      <td>Blount County</td>\n",
       "      <td>183</td>\n",
       "      <td>744</td>\n",
       "      <td>710</td>\n",
       "      <td>646</td>\n",
       "      <td>618</td>\n",
       "      <td>603</td>\n",
       "      <td>57373</td>\n",
       "      <td>57711</td>\n",
       "      <td>57776</td>\n",
       "      <td>57734</td>\n",
       "      <td>57658</td>\n",
       "      <td>57673</td>\n",
       "    </tr>\n",
       "  </tbody>\n",
       "</table>\n",
       "</div>"
      ],
      "text/plain": [
       "    STNAME         CTYNAME  BIRTHS2010  BIRTHS2011  BIRTHS2012  BIRTHS2013  \\\n",
       "1  Alabama  Autauga County         151         636         615         574   \n",
       "2  Alabama  Baldwin County         517        2187        2092        2160   \n",
       "3  Alabama  Barbour County          70         335         300         283   \n",
       "4  Alabama     Bibb County          44         266         245         259   \n",
       "5  Alabama   Blount County         183         744         710         646   \n",
       "\n",
       "   BIRTHS2014  BIRTHS2015  POPESTIMATE2010  POPESTIMATE2011  POPESTIMATE2012  \\\n",
       "1         623         600            54660            55253            55175   \n",
       "2        2186        2240           183193           186659           190396   \n",
       "3         260         269            27341            27226            27159   \n",
       "4         247         253            22861            22733            22642   \n",
       "5         618         603            57373            57711            57776   \n",
       "\n",
       "   POPESTIMATE2013  POPESTIMATE2014  POPESTIMATE2015  \n",
       "1            55038            55290            55347  \n",
       "2           195126           199713           203709  \n",
       "3            26973            26815            26489  \n",
       "4            22512            22549            22583  \n",
       "5            57734            57658            57673  "
      ]
     },
     "execution_count": 48,
     "metadata": {},
     "output_type": "execute_result"
    }
   ],
   "source": [
    "columns_to_keep = ['STNAME',\n",
    "                   'CTYNAME',\n",
    "                   'BIRTHS2010',\n",
    "                   'BIRTHS2011',\n",
    "                   'BIRTHS2012',\n",
    "                   'BIRTHS2013',\n",
    "                   'BIRTHS2014',\n",
    "                   'BIRTHS2015',\n",
    "                   'POPESTIMATE2010',\n",
    "                   'POPESTIMATE2011',\n",
    "                   'POPESTIMATE2012',\n",
    "                   'POPESTIMATE2013',\n",
    "                   'POPESTIMATE2014',\n",
    "                   'POPESTIMATE2015']\n",
    "df = df[columns_to_keep]\n",
    "df.head()"
   ]
  },
  {
   "cell_type": "code",
   "execution_count": 49,
   "metadata": {
    "collapsed": false,
    "nbpresent": {
     "id": "425ae367-1f60-4f28-87e0-133fab1330b3"
    }
   },
   "outputs": [
    {
     "data": {
      "text/html": [
       "<div>\n",
       "<table border=\"1\" class=\"dataframe\">\n",
       "  <thead>\n",
       "    <tr style=\"text-align: right;\">\n",
       "      <th></th>\n",
       "      <th></th>\n",
       "      <th>BIRTHS2010</th>\n",
       "      <th>BIRTHS2011</th>\n",
       "      <th>BIRTHS2012</th>\n",
       "      <th>BIRTHS2013</th>\n",
       "      <th>BIRTHS2014</th>\n",
       "      <th>BIRTHS2015</th>\n",
       "      <th>POPESTIMATE2010</th>\n",
       "      <th>POPESTIMATE2011</th>\n",
       "      <th>POPESTIMATE2012</th>\n",
       "      <th>POPESTIMATE2013</th>\n",
       "      <th>POPESTIMATE2014</th>\n",
       "      <th>POPESTIMATE2015</th>\n",
       "    </tr>\n",
       "    <tr>\n",
       "      <th>STNAME</th>\n",
       "      <th>CTYNAME</th>\n",
       "      <th></th>\n",
       "      <th></th>\n",
       "      <th></th>\n",
       "      <th></th>\n",
       "      <th></th>\n",
       "      <th></th>\n",
       "      <th></th>\n",
       "      <th></th>\n",
       "      <th></th>\n",
       "      <th></th>\n",
       "      <th></th>\n",
       "      <th></th>\n",
       "    </tr>\n",
       "  </thead>\n",
       "  <tbody>\n",
       "    <tr>\n",
       "      <th rowspan=\"5\" valign=\"top\">Alabama</th>\n",
       "      <th>Autauga County</th>\n",
       "      <td>151</td>\n",
       "      <td>636</td>\n",
       "      <td>615</td>\n",
       "      <td>574</td>\n",
       "      <td>623</td>\n",
       "      <td>600</td>\n",
       "      <td>54660</td>\n",
       "      <td>55253</td>\n",
       "      <td>55175</td>\n",
       "      <td>55038</td>\n",
       "      <td>55290</td>\n",
       "      <td>55347</td>\n",
       "    </tr>\n",
       "    <tr>\n",
       "      <th>Baldwin County</th>\n",
       "      <td>517</td>\n",
       "      <td>2187</td>\n",
       "      <td>2092</td>\n",
       "      <td>2160</td>\n",
       "      <td>2186</td>\n",
       "      <td>2240</td>\n",
       "      <td>183193</td>\n",
       "      <td>186659</td>\n",
       "      <td>190396</td>\n",
       "      <td>195126</td>\n",
       "      <td>199713</td>\n",
       "      <td>203709</td>\n",
       "    </tr>\n",
       "    <tr>\n",
       "      <th>Barbour County</th>\n",
       "      <td>70</td>\n",
       "      <td>335</td>\n",
       "      <td>300</td>\n",
       "      <td>283</td>\n",
       "      <td>260</td>\n",
       "      <td>269</td>\n",
       "      <td>27341</td>\n",
       "      <td>27226</td>\n",
       "      <td>27159</td>\n",
       "      <td>26973</td>\n",
       "      <td>26815</td>\n",
       "      <td>26489</td>\n",
       "    </tr>\n",
       "    <tr>\n",
       "      <th>Bibb County</th>\n",
       "      <td>44</td>\n",
       "      <td>266</td>\n",
       "      <td>245</td>\n",
       "      <td>259</td>\n",
       "      <td>247</td>\n",
       "      <td>253</td>\n",
       "      <td>22861</td>\n",
       "      <td>22733</td>\n",
       "      <td>22642</td>\n",
       "      <td>22512</td>\n",
       "      <td>22549</td>\n",
       "      <td>22583</td>\n",
       "    </tr>\n",
       "    <tr>\n",
       "      <th>Blount County</th>\n",
       "      <td>183</td>\n",
       "      <td>744</td>\n",
       "      <td>710</td>\n",
       "      <td>646</td>\n",
       "      <td>618</td>\n",
       "      <td>603</td>\n",
       "      <td>57373</td>\n",
       "      <td>57711</td>\n",
       "      <td>57776</td>\n",
       "      <td>57734</td>\n",
       "      <td>57658</td>\n",
       "      <td>57673</td>\n",
       "    </tr>\n",
       "  </tbody>\n",
       "</table>\n",
       "</div>"
      ],
      "text/plain": [
       "                        BIRTHS2010  BIRTHS2011  BIRTHS2012  BIRTHS2013  \\\n",
       "STNAME  CTYNAME                                                          \n",
       "Alabama Autauga County         151         636         615         574   \n",
       "        Baldwin County         517        2187        2092        2160   \n",
       "        Barbour County          70         335         300         283   \n",
       "        Bibb County             44         266         245         259   \n",
       "        Blount County          183         744         710         646   \n",
       "\n",
       "                        BIRTHS2014  BIRTHS2015  POPESTIMATE2010  \\\n",
       "STNAME  CTYNAME                                                   \n",
       "Alabama Autauga County         623         600            54660   \n",
       "        Baldwin County        2186        2240           183193   \n",
       "        Barbour County         260         269            27341   \n",
       "        Bibb County            247         253            22861   \n",
       "        Blount County          618         603            57373   \n",
       "\n",
       "                        POPESTIMATE2011  POPESTIMATE2012  POPESTIMATE2013  \\\n",
       "STNAME  CTYNAME                                                             \n",
       "Alabama Autauga County            55253            55175            55038   \n",
       "        Baldwin County           186659           190396           195126   \n",
       "        Barbour County            27226            27159            26973   \n",
       "        Bibb County               22733            22642            22512   \n",
       "        Blount County             57711            57776            57734   \n",
       "\n",
       "                        POPESTIMATE2014  POPESTIMATE2015  \n",
       "STNAME  CTYNAME                                           \n",
       "Alabama Autauga County            55290            55347  \n",
       "        Baldwin County           199713           203709  \n",
       "        Barbour County            26815            26489  \n",
       "        Bibb County               22549            22583  \n",
       "        Blount County             57658            57673  "
      ]
     },
     "execution_count": 49,
     "metadata": {},
     "output_type": "execute_result"
    }
   ],
   "source": [
    "df = df.set_index(['STNAME', 'CTYNAME'])\n",
    "df.head()"
   ]
  },
  {
   "cell_type": "code",
   "execution_count": 50,
   "metadata": {
    "collapsed": false,
    "nbpresent": {
     "id": "cdac22cd-e07b-4cf3-875f-6bd3d495c3e7"
    }
   },
   "outputs": [
    {
     "data": {
      "text/plain": [
       "BIRTHS2010            977\n",
       "BIRTHS2011           3826\n",
       "BIRTHS2012           3780\n",
       "BIRTHS2013           3662\n",
       "BIRTHS2014           3683\n",
       "BIRTHS2015           3709\n",
       "POPESTIMATE2010    345563\n",
       "POPESTIMATE2011    349048\n",
       "POPESTIMATE2012    351213\n",
       "POPESTIMATE2013    354289\n",
       "POPESTIMATE2014    357029\n",
       "POPESTIMATE2015    358880\n",
       "Name: (Michigan, Washtenaw County), dtype: int64"
      ]
     },
     "execution_count": 50,
     "metadata": {},
     "output_type": "execute_result"
    }
   ],
   "source": [
    "df.loc['Michigan', 'Washtenaw County']"
   ]
  },
  {
   "cell_type": "code",
   "execution_count": 51,
   "metadata": {
    "collapsed": false,
    "nbpresent": {
     "id": "847deaa3-8b53-4bcf-ab91-a9601125ad03"
    }
   },
   "outputs": [
    {
     "data": {
      "text/html": [
       "<div>\n",
       "<table border=\"1\" class=\"dataframe\">\n",
       "  <thead>\n",
       "    <tr style=\"text-align: right;\">\n",
       "      <th></th>\n",
       "      <th></th>\n",
       "      <th>BIRTHS2010</th>\n",
       "      <th>BIRTHS2011</th>\n",
       "      <th>BIRTHS2012</th>\n",
       "      <th>BIRTHS2013</th>\n",
       "      <th>BIRTHS2014</th>\n",
       "      <th>BIRTHS2015</th>\n",
       "      <th>POPESTIMATE2010</th>\n",
       "      <th>POPESTIMATE2011</th>\n",
       "      <th>POPESTIMATE2012</th>\n",
       "      <th>POPESTIMATE2013</th>\n",
       "      <th>POPESTIMATE2014</th>\n",
       "      <th>POPESTIMATE2015</th>\n",
       "    </tr>\n",
       "    <tr>\n",
       "      <th>STNAME</th>\n",
       "      <th>CTYNAME</th>\n",
       "      <th></th>\n",
       "      <th></th>\n",
       "      <th></th>\n",
       "      <th></th>\n",
       "      <th></th>\n",
       "      <th></th>\n",
       "      <th></th>\n",
       "      <th></th>\n",
       "      <th></th>\n",
       "      <th></th>\n",
       "      <th></th>\n",
       "      <th></th>\n",
       "    </tr>\n",
       "  </thead>\n",
       "  <tbody>\n",
       "    <tr>\n",
       "      <th rowspan=\"2\" valign=\"top\">Michigan</th>\n",
       "      <th>Washtenaw County</th>\n",
       "      <td>977</td>\n",
       "      <td>3826</td>\n",
       "      <td>3780</td>\n",
       "      <td>3662</td>\n",
       "      <td>3683</td>\n",
       "      <td>3709</td>\n",
       "      <td>345563</td>\n",
       "      <td>349048</td>\n",
       "      <td>351213</td>\n",
       "      <td>354289</td>\n",
       "      <td>357029</td>\n",
       "      <td>358880</td>\n",
       "    </tr>\n",
       "    <tr>\n",
       "      <th>Wayne County</th>\n",
       "      <td>5918</td>\n",
       "      <td>23819</td>\n",
       "      <td>23270</td>\n",
       "      <td>23377</td>\n",
       "      <td>23607</td>\n",
       "      <td>23586</td>\n",
       "      <td>1815199</td>\n",
       "      <td>1801273</td>\n",
       "      <td>1792514</td>\n",
       "      <td>1775713</td>\n",
       "      <td>1766008</td>\n",
       "      <td>1759335</td>\n",
       "    </tr>\n",
       "  </tbody>\n",
       "</table>\n",
       "</div>"
      ],
      "text/plain": [
       "                           BIRTHS2010  BIRTHS2011  BIRTHS2012  BIRTHS2013  \\\n",
       "STNAME   CTYNAME                                                            \n",
       "Michigan Washtenaw County         977        3826        3780        3662   \n",
       "         Wayne County            5918       23819       23270       23377   \n",
       "\n",
       "                           BIRTHS2014  BIRTHS2015  POPESTIMATE2010  \\\n",
       "STNAME   CTYNAME                                                     \n",
       "Michigan Washtenaw County        3683        3709           345563   \n",
       "         Wayne County           23607       23586          1815199   \n",
       "\n",
       "                           POPESTIMATE2011  POPESTIMATE2012  POPESTIMATE2013  \\\n",
       "STNAME   CTYNAME                                                               \n",
       "Michigan Washtenaw County           349048           351213           354289   \n",
       "         Wayne County              1801273          1792514          1775713   \n",
       "\n",
       "                           POPESTIMATE2014  POPESTIMATE2015  \n",
       "STNAME   CTYNAME                                             \n",
       "Michigan Washtenaw County           357029           358880  \n",
       "         Wayne County              1766008          1759335  "
      ]
     },
     "execution_count": 51,
     "metadata": {},
     "output_type": "execute_result"
    }
   ],
   "source": [
    "df.loc[ [('Michigan', 'Washtenaw County'),\n",
    "         ('Michigan', 'Wayne County')] ]"
   ]
  },
  {
   "cell_type": "markdown",
   "metadata": {},
   "source": [
    "Reindex the purchase records DataFrame to be indexed hierarchically, first by store, then by person. Name these indexes 'Location' and 'Name'. Then add a new entry to it with the value of:\n",
    "\n",
    "Name:'Kevyn', Item Purchased: 'Kitty Food', Cost: 3.00, Location: 'Store 2'"
   ]
  },
  {
   "cell_type": "code",
   "execution_count": 61,
   "metadata": {
    "collapsed": false
   },
   "outputs": [
    {
     "data": {
      "text/html": [
       "<div>\n",
       "<table border=\"1\" class=\"dataframe\">\n",
       "  <thead>\n",
       "    <tr style=\"text-align: right;\">\n",
       "      <th></th>\n",
       "      <th></th>\n",
       "      <th>Cost</th>\n",
       "      <th>Item Purchased</th>\n",
       "    </tr>\n",
       "    <tr>\n",
       "      <th>Location</th>\n",
       "      <th>Name</th>\n",
       "      <th></th>\n",
       "      <th></th>\n",
       "    </tr>\n",
       "  </thead>\n",
       "  <tbody>\n",
       "    <tr>\n",
       "      <th rowspan=\"2\" valign=\"top\">Store 1</th>\n",
       "      <th>Chris</th>\n",
       "      <td>22.5</td>\n",
       "      <td>Dog Food</td>\n",
       "    </tr>\n",
       "    <tr>\n",
       "      <th>Kevyn</th>\n",
       "      <td>2.5</td>\n",
       "      <td>Kitty Litter</td>\n",
       "    </tr>\n",
       "    <tr>\n",
       "      <th rowspan=\"2\" valign=\"top\">Store 2</th>\n",
       "      <th>Vinod</th>\n",
       "      <td>5.0</td>\n",
       "      <td>Bird Seed</td>\n",
       "    </tr>\n",
       "    <tr>\n",
       "      <th>Kevyn</th>\n",
       "      <td>3.0</td>\n",
       "      <td>Kitty Food</td>\n",
       "    </tr>\n",
       "  </tbody>\n",
       "</table>\n",
       "</div>"
      ],
      "text/plain": [
       "                Cost Item Purchased\n",
       "Location Name                      \n",
       "Store 1  Chris  22.5       Dog Food\n",
       "         Kevyn   2.5   Kitty Litter\n",
       "Store 2  Vinod   5.0      Bird Seed\n",
       "         Kevyn   3.0     Kitty Food"
      ]
     },
     "execution_count": 61,
     "metadata": {},
     "output_type": "execute_result"
    }
   ],
   "source": [
    "import pandas as pd\n",
    "purchase_1 = pd.Series({'Name': 'Chris',\n",
    "                        'Item Purchased': 'Dog Food',\n",
    "                        'Cost': 22.50})\n",
    "purchase_2 = pd.Series({'Name': 'Kevyn',\n",
    "                        'Item Purchased': 'Kitty Litter',\n",
    "                        'Cost': 2.50})\n",
    "purchase_3 = pd.Series({'Name': 'Vinod',\n",
    "                        'Item Purchased': 'Bird Seed',\n",
    "                        'Cost': 5.00})\n",
    "df = pd.DataFrame([purchase_1, purchase_2, purchase_3], index=['Store 1', 'Store 1', 'Store 2'])\n",
    "\n",
    "\n",
    "df['Location'] = df.index\n",
    "df = df.set_index(['Location', 'Name'])\n",
    "df = df.append( pd.Series(data = {'Item Purchased': 'Kitty Food', 'Cost': 3.00}, name=('Store 2', 'Kevyn')))\n",
    "df"
   ]
  },
  {
   "cell_type": "markdown",
   "metadata": {
    "nbpresent": {
     "id": "530d3765-bee2-4e7d-ad9c-672c734e7e5a"
    }
   },
   "source": [
    "# Missing values"
   ]
  },
  {
   "cell_type": "code",
   "execution_count": 62,
   "metadata": {
    "collapsed": false,
    "nbpresent": {
     "id": "f3d1757e-8e28-4a45-85b1-9e2762737060"
    }
   },
   "outputs": [
    {
     "data": {
      "text/html": [
       "<div>\n",
       "<table border=\"1\" class=\"dataframe\">\n",
       "  <thead>\n",
       "    <tr style=\"text-align: right;\">\n",
       "      <th></th>\n",
       "      <th>time</th>\n",
       "      <th>user</th>\n",
       "      <th>video</th>\n",
       "      <th>playback position</th>\n",
       "      <th>paused</th>\n",
       "      <th>volume</th>\n",
       "    </tr>\n",
       "  </thead>\n",
       "  <tbody>\n",
       "    <tr>\n",
       "      <th>0</th>\n",
       "      <td>1469974424</td>\n",
       "      <td>cheryl</td>\n",
       "      <td>intro.html</td>\n",
       "      <td>5</td>\n",
       "      <td>False</td>\n",
       "      <td>10.0</td>\n",
       "    </tr>\n",
       "    <tr>\n",
       "      <th>1</th>\n",
       "      <td>1469974454</td>\n",
       "      <td>cheryl</td>\n",
       "      <td>intro.html</td>\n",
       "      <td>6</td>\n",
       "      <td>NaN</td>\n",
       "      <td>NaN</td>\n",
       "    </tr>\n",
       "    <tr>\n",
       "      <th>2</th>\n",
       "      <td>1469974544</td>\n",
       "      <td>cheryl</td>\n",
       "      <td>intro.html</td>\n",
       "      <td>9</td>\n",
       "      <td>NaN</td>\n",
       "      <td>NaN</td>\n",
       "    </tr>\n",
       "    <tr>\n",
       "      <th>3</th>\n",
       "      <td>1469974574</td>\n",
       "      <td>cheryl</td>\n",
       "      <td>intro.html</td>\n",
       "      <td>10</td>\n",
       "      <td>NaN</td>\n",
       "      <td>NaN</td>\n",
       "    </tr>\n",
       "    <tr>\n",
       "      <th>4</th>\n",
       "      <td>1469977514</td>\n",
       "      <td>bob</td>\n",
       "      <td>intro.html</td>\n",
       "      <td>1</td>\n",
       "      <td>NaN</td>\n",
       "      <td>NaN</td>\n",
       "    </tr>\n",
       "    <tr>\n",
       "      <th>5</th>\n",
       "      <td>1469977544</td>\n",
       "      <td>bob</td>\n",
       "      <td>intro.html</td>\n",
       "      <td>1</td>\n",
       "      <td>NaN</td>\n",
       "      <td>NaN</td>\n",
       "    </tr>\n",
       "    <tr>\n",
       "      <th>6</th>\n",
       "      <td>1469977574</td>\n",
       "      <td>bob</td>\n",
       "      <td>intro.html</td>\n",
       "      <td>1</td>\n",
       "      <td>NaN</td>\n",
       "      <td>NaN</td>\n",
       "    </tr>\n",
       "    <tr>\n",
       "      <th>7</th>\n",
       "      <td>1469977604</td>\n",
       "      <td>bob</td>\n",
       "      <td>intro.html</td>\n",
       "      <td>1</td>\n",
       "      <td>NaN</td>\n",
       "      <td>NaN</td>\n",
       "    </tr>\n",
       "    <tr>\n",
       "      <th>8</th>\n",
       "      <td>1469974604</td>\n",
       "      <td>cheryl</td>\n",
       "      <td>intro.html</td>\n",
       "      <td>11</td>\n",
       "      <td>NaN</td>\n",
       "      <td>NaN</td>\n",
       "    </tr>\n",
       "    <tr>\n",
       "      <th>9</th>\n",
       "      <td>1469974694</td>\n",
       "      <td>cheryl</td>\n",
       "      <td>intro.html</td>\n",
       "      <td>14</td>\n",
       "      <td>NaN</td>\n",
       "      <td>NaN</td>\n",
       "    </tr>\n",
       "    <tr>\n",
       "      <th>10</th>\n",
       "      <td>1469974724</td>\n",
       "      <td>cheryl</td>\n",
       "      <td>intro.html</td>\n",
       "      <td>15</td>\n",
       "      <td>NaN</td>\n",
       "      <td>NaN</td>\n",
       "    </tr>\n",
       "    <tr>\n",
       "      <th>11</th>\n",
       "      <td>1469974454</td>\n",
       "      <td>sue</td>\n",
       "      <td>advanced.html</td>\n",
       "      <td>24</td>\n",
       "      <td>NaN</td>\n",
       "      <td>NaN</td>\n",
       "    </tr>\n",
       "    <tr>\n",
       "      <th>12</th>\n",
       "      <td>1469974524</td>\n",
       "      <td>sue</td>\n",
       "      <td>advanced.html</td>\n",
       "      <td>25</td>\n",
       "      <td>NaN</td>\n",
       "      <td>NaN</td>\n",
       "    </tr>\n",
       "    <tr>\n",
       "      <th>13</th>\n",
       "      <td>1469974424</td>\n",
       "      <td>sue</td>\n",
       "      <td>advanced.html</td>\n",
       "      <td>23</td>\n",
       "      <td>False</td>\n",
       "      <td>10.0</td>\n",
       "    </tr>\n",
       "    <tr>\n",
       "      <th>14</th>\n",
       "      <td>1469974554</td>\n",
       "      <td>sue</td>\n",
       "      <td>advanced.html</td>\n",
       "      <td>26</td>\n",
       "      <td>NaN</td>\n",
       "      <td>NaN</td>\n",
       "    </tr>\n",
       "    <tr>\n",
       "      <th>15</th>\n",
       "      <td>1469974624</td>\n",
       "      <td>sue</td>\n",
       "      <td>advanced.html</td>\n",
       "      <td>27</td>\n",
       "      <td>NaN</td>\n",
       "      <td>NaN</td>\n",
       "    </tr>\n",
       "    <tr>\n",
       "      <th>16</th>\n",
       "      <td>1469974654</td>\n",
       "      <td>sue</td>\n",
       "      <td>advanced.html</td>\n",
       "      <td>28</td>\n",
       "      <td>NaN</td>\n",
       "      <td>5.0</td>\n",
       "    </tr>\n",
       "    <tr>\n",
       "      <th>17</th>\n",
       "      <td>1469974724</td>\n",
       "      <td>sue</td>\n",
       "      <td>advanced.html</td>\n",
       "      <td>29</td>\n",
       "      <td>NaN</td>\n",
       "      <td>NaN</td>\n",
       "    </tr>\n",
       "    <tr>\n",
       "      <th>18</th>\n",
       "      <td>1469974484</td>\n",
       "      <td>cheryl</td>\n",
       "      <td>intro.html</td>\n",
       "      <td>7</td>\n",
       "      <td>NaN</td>\n",
       "      <td>NaN</td>\n",
       "    </tr>\n",
       "    <tr>\n",
       "      <th>19</th>\n",
       "      <td>1469974514</td>\n",
       "      <td>cheryl</td>\n",
       "      <td>intro.html</td>\n",
       "      <td>8</td>\n",
       "      <td>NaN</td>\n",
       "      <td>NaN</td>\n",
       "    </tr>\n",
       "    <tr>\n",
       "      <th>20</th>\n",
       "      <td>1469974754</td>\n",
       "      <td>sue</td>\n",
       "      <td>advanced.html</td>\n",
       "      <td>30</td>\n",
       "      <td>NaN</td>\n",
       "      <td>NaN</td>\n",
       "    </tr>\n",
       "    <tr>\n",
       "      <th>21</th>\n",
       "      <td>1469974824</td>\n",
       "      <td>sue</td>\n",
       "      <td>advanced.html</td>\n",
       "      <td>31</td>\n",
       "      <td>NaN</td>\n",
       "      <td>NaN</td>\n",
       "    </tr>\n",
       "    <tr>\n",
       "      <th>22</th>\n",
       "      <td>1469974854</td>\n",
       "      <td>sue</td>\n",
       "      <td>advanced.html</td>\n",
       "      <td>32</td>\n",
       "      <td>NaN</td>\n",
       "      <td>NaN</td>\n",
       "    </tr>\n",
       "    <tr>\n",
       "      <th>23</th>\n",
       "      <td>1469974924</td>\n",
       "      <td>sue</td>\n",
       "      <td>advanced.html</td>\n",
       "      <td>33</td>\n",
       "      <td>NaN</td>\n",
       "      <td>NaN</td>\n",
       "    </tr>\n",
       "    <tr>\n",
       "      <th>24</th>\n",
       "      <td>1469977424</td>\n",
       "      <td>bob</td>\n",
       "      <td>intro.html</td>\n",
       "      <td>1</td>\n",
       "      <td>True</td>\n",
       "      <td>10.0</td>\n",
       "    </tr>\n",
       "    <tr>\n",
       "      <th>25</th>\n",
       "      <td>1469977454</td>\n",
       "      <td>bob</td>\n",
       "      <td>intro.html</td>\n",
       "      <td>1</td>\n",
       "      <td>NaN</td>\n",
       "      <td>NaN</td>\n",
       "    </tr>\n",
       "    <tr>\n",
       "      <th>26</th>\n",
       "      <td>1469977484</td>\n",
       "      <td>bob</td>\n",
       "      <td>intro.html</td>\n",
       "      <td>1</td>\n",
       "      <td>NaN</td>\n",
       "      <td>NaN</td>\n",
       "    </tr>\n",
       "    <tr>\n",
       "      <th>27</th>\n",
       "      <td>1469977634</td>\n",
       "      <td>bob</td>\n",
       "      <td>intro.html</td>\n",
       "      <td>1</td>\n",
       "      <td>NaN</td>\n",
       "      <td>NaN</td>\n",
       "    </tr>\n",
       "    <tr>\n",
       "      <th>28</th>\n",
       "      <td>1469977664</td>\n",
       "      <td>bob</td>\n",
       "      <td>intro.html</td>\n",
       "      <td>1</td>\n",
       "      <td>NaN</td>\n",
       "      <td>NaN</td>\n",
       "    </tr>\n",
       "    <tr>\n",
       "      <th>29</th>\n",
       "      <td>1469974634</td>\n",
       "      <td>cheryl</td>\n",
       "      <td>intro.html</td>\n",
       "      <td>12</td>\n",
       "      <td>NaN</td>\n",
       "      <td>NaN</td>\n",
       "    </tr>\n",
       "    <tr>\n",
       "      <th>30</th>\n",
       "      <td>1469974664</td>\n",
       "      <td>cheryl</td>\n",
       "      <td>intro.html</td>\n",
       "      <td>13</td>\n",
       "      <td>NaN</td>\n",
       "      <td>NaN</td>\n",
       "    </tr>\n",
       "    <tr>\n",
       "      <th>31</th>\n",
       "      <td>1469977694</td>\n",
       "      <td>bob</td>\n",
       "      <td>intro.html</td>\n",
       "      <td>1</td>\n",
       "      <td>NaN</td>\n",
       "      <td>NaN</td>\n",
       "    </tr>\n",
       "    <tr>\n",
       "      <th>32</th>\n",
       "      <td>1469977724</td>\n",
       "      <td>bob</td>\n",
       "      <td>intro.html</td>\n",
       "      <td>1</td>\n",
       "      <td>NaN</td>\n",
       "      <td>NaN</td>\n",
       "    </tr>\n",
       "  </tbody>\n",
       "</table>\n",
       "</div>"
      ],
      "text/plain": [
       "          time    user          video  playback position paused  volume\n",
       "0   1469974424  cheryl     intro.html                  5  False    10.0\n",
       "1   1469974454  cheryl     intro.html                  6    NaN     NaN\n",
       "2   1469974544  cheryl     intro.html                  9    NaN     NaN\n",
       "3   1469974574  cheryl     intro.html                 10    NaN     NaN\n",
       "4   1469977514     bob     intro.html                  1    NaN     NaN\n",
       "5   1469977544     bob     intro.html                  1    NaN     NaN\n",
       "6   1469977574     bob     intro.html                  1    NaN     NaN\n",
       "7   1469977604     bob     intro.html                  1    NaN     NaN\n",
       "8   1469974604  cheryl     intro.html                 11    NaN     NaN\n",
       "9   1469974694  cheryl     intro.html                 14    NaN     NaN\n",
       "10  1469974724  cheryl     intro.html                 15    NaN     NaN\n",
       "11  1469974454     sue  advanced.html                 24    NaN     NaN\n",
       "12  1469974524     sue  advanced.html                 25    NaN     NaN\n",
       "13  1469974424     sue  advanced.html                 23  False    10.0\n",
       "14  1469974554     sue  advanced.html                 26    NaN     NaN\n",
       "15  1469974624     sue  advanced.html                 27    NaN     NaN\n",
       "16  1469974654     sue  advanced.html                 28    NaN     5.0\n",
       "17  1469974724     sue  advanced.html                 29    NaN     NaN\n",
       "18  1469974484  cheryl     intro.html                  7    NaN     NaN\n",
       "19  1469974514  cheryl     intro.html                  8    NaN     NaN\n",
       "20  1469974754     sue  advanced.html                 30    NaN     NaN\n",
       "21  1469974824     sue  advanced.html                 31    NaN     NaN\n",
       "22  1469974854     sue  advanced.html                 32    NaN     NaN\n",
       "23  1469974924     sue  advanced.html                 33    NaN     NaN\n",
       "24  1469977424     bob     intro.html                  1   True    10.0\n",
       "25  1469977454     bob     intro.html                  1    NaN     NaN\n",
       "26  1469977484     bob     intro.html                  1    NaN     NaN\n",
       "27  1469977634     bob     intro.html                  1    NaN     NaN\n",
       "28  1469977664     bob     intro.html                  1    NaN     NaN\n",
       "29  1469974634  cheryl     intro.html                 12    NaN     NaN\n",
       "30  1469974664  cheryl     intro.html                 13    NaN     NaN\n",
       "31  1469977694     bob     intro.html                  1    NaN     NaN\n",
       "32  1469977724     bob     intro.html                  1    NaN     NaN"
      ]
     },
     "execution_count": 62,
     "metadata": {},
     "output_type": "execute_result"
    }
   ],
   "source": [
    "df = pd.read_csv('log.csv')\n",
    "df"
   ]
  },
  {
   "cell_type": "code",
   "execution_count": 65,
   "metadata": {
    "collapsed": false,
    "nbpresent": {
     "id": "1c7a6ffb-652f-4120-aad7-ad38b2463cd4"
    }
   },
   "outputs": [],
   "source": [
    "df.fillna?"
   ]
  },
  {
   "cell_type": "code",
   "execution_count": 66,
   "metadata": {
    "collapsed": false,
    "nbpresent": {
     "id": "360c69ee-bb4e-4355-9317-b8517b823217"
    }
   },
   "outputs": [
    {
     "data": {
      "text/html": [
       "<div>\n",
       "<table border=\"1\" class=\"dataframe\">\n",
       "  <thead>\n",
       "    <tr style=\"text-align: right;\">\n",
       "      <th></th>\n",
       "      <th>user</th>\n",
       "      <th>video</th>\n",
       "      <th>playback position</th>\n",
       "      <th>paused</th>\n",
       "      <th>volume</th>\n",
       "    </tr>\n",
       "    <tr>\n",
       "      <th>time</th>\n",
       "      <th></th>\n",
       "      <th></th>\n",
       "      <th></th>\n",
       "      <th></th>\n",
       "      <th></th>\n",
       "    </tr>\n",
       "  </thead>\n",
       "  <tbody>\n",
       "    <tr>\n",
       "      <th>1469974424</th>\n",
       "      <td>cheryl</td>\n",
       "      <td>intro.html</td>\n",
       "      <td>5</td>\n",
       "      <td>False</td>\n",
       "      <td>10.0</td>\n",
       "    </tr>\n",
       "    <tr>\n",
       "      <th>1469974424</th>\n",
       "      <td>sue</td>\n",
       "      <td>advanced.html</td>\n",
       "      <td>23</td>\n",
       "      <td>False</td>\n",
       "      <td>10.0</td>\n",
       "    </tr>\n",
       "    <tr>\n",
       "      <th>1469974454</th>\n",
       "      <td>cheryl</td>\n",
       "      <td>intro.html</td>\n",
       "      <td>6</td>\n",
       "      <td>NaN</td>\n",
       "      <td>NaN</td>\n",
       "    </tr>\n",
       "    <tr>\n",
       "      <th>1469974454</th>\n",
       "      <td>sue</td>\n",
       "      <td>advanced.html</td>\n",
       "      <td>24</td>\n",
       "      <td>NaN</td>\n",
       "      <td>NaN</td>\n",
       "    </tr>\n",
       "    <tr>\n",
       "      <th>1469974484</th>\n",
       "      <td>cheryl</td>\n",
       "      <td>intro.html</td>\n",
       "      <td>7</td>\n",
       "      <td>NaN</td>\n",
       "      <td>NaN</td>\n",
       "    </tr>\n",
       "    <tr>\n",
       "      <th>1469974514</th>\n",
       "      <td>cheryl</td>\n",
       "      <td>intro.html</td>\n",
       "      <td>8</td>\n",
       "      <td>NaN</td>\n",
       "      <td>NaN</td>\n",
       "    </tr>\n",
       "    <tr>\n",
       "      <th>1469974524</th>\n",
       "      <td>sue</td>\n",
       "      <td>advanced.html</td>\n",
       "      <td>25</td>\n",
       "      <td>NaN</td>\n",
       "      <td>NaN</td>\n",
       "    </tr>\n",
       "    <tr>\n",
       "      <th>1469974544</th>\n",
       "      <td>cheryl</td>\n",
       "      <td>intro.html</td>\n",
       "      <td>9</td>\n",
       "      <td>NaN</td>\n",
       "      <td>NaN</td>\n",
       "    </tr>\n",
       "    <tr>\n",
       "      <th>1469974554</th>\n",
       "      <td>sue</td>\n",
       "      <td>advanced.html</td>\n",
       "      <td>26</td>\n",
       "      <td>NaN</td>\n",
       "      <td>NaN</td>\n",
       "    </tr>\n",
       "    <tr>\n",
       "      <th>1469974574</th>\n",
       "      <td>cheryl</td>\n",
       "      <td>intro.html</td>\n",
       "      <td>10</td>\n",
       "      <td>NaN</td>\n",
       "      <td>NaN</td>\n",
       "    </tr>\n",
       "    <tr>\n",
       "      <th>1469974604</th>\n",
       "      <td>cheryl</td>\n",
       "      <td>intro.html</td>\n",
       "      <td>11</td>\n",
       "      <td>NaN</td>\n",
       "      <td>NaN</td>\n",
       "    </tr>\n",
       "    <tr>\n",
       "      <th>1469974624</th>\n",
       "      <td>sue</td>\n",
       "      <td>advanced.html</td>\n",
       "      <td>27</td>\n",
       "      <td>NaN</td>\n",
       "      <td>NaN</td>\n",
       "    </tr>\n",
       "    <tr>\n",
       "      <th>1469974634</th>\n",
       "      <td>cheryl</td>\n",
       "      <td>intro.html</td>\n",
       "      <td>12</td>\n",
       "      <td>NaN</td>\n",
       "      <td>NaN</td>\n",
       "    </tr>\n",
       "    <tr>\n",
       "      <th>1469974654</th>\n",
       "      <td>sue</td>\n",
       "      <td>advanced.html</td>\n",
       "      <td>28</td>\n",
       "      <td>NaN</td>\n",
       "      <td>5.0</td>\n",
       "    </tr>\n",
       "    <tr>\n",
       "      <th>1469974664</th>\n",
       "      <td>cheryl</td>\n",
       "      <td>intro.html</td>\n",
       "      <td>13</td>\n",
       "      <td>NaN</td>\n",
       "      <td>NaN</td>\n",
       "    </tr>\n",
       "    <tr>\n",
       "      <th>1469974694</th>\n",
       "      <td>cheryl</td>\n",
       "      <td>intro.html</td>\n",
       "      <td>14</td>\n",
       "      <td>NaN</td>\n",
       "      <td>NaN</td>\n",
       "    </tr>\n",
       "    <tr>\n",
       "      <th>1469974724</th>\n",
       "      <td>cheryl</td>\n",
       "      <td>intro.html</td>\n",
       "      <td>15</td>\n",
       "      <td>NaN</td>\n",
       "      <td>NaN</td>\n",
       "    </tr>\n",
       "    <tr>\n",
       "      <th>1469974724</th>\n",
       "      <td>sue</td>\n",
       "      <td>advanced.html</td>\n",
       "      <td>29</td>\n",
       "      <td>NaN</td>\n",
       "      <td>NaN</td>\n",
       "    </tr>\n",
       "    <tr>\n",
       "      <th>1469974754</th>\n",
       "      <td>sue</td>\n",
       "      <td>advanced.html</td>\n",
       "      <td>30</td>\n",
       "      <td>NaN</td>\n",
       "      <td>NaN</td>\n",
       "    </tr>\n",
       "    <tr>\n",
       "      <th>1469974824</th>\n",
       "      <td>sue</td>\n",
       "      <td>advanced.html</td>\n",
       "      <td>31</td>\n",
       "      <td>NaN</td>\n",
       "      <td>NaN</td>\n",
       "    </tr>\n",
       "    <tr>\n",
       "      <th>1469974854</th>\n",
       "      <td>sue</td>\n",
       "      <td>advanced.html</td>\n",
       "      <td>32</td>\n",
       "      <td>NaN</td>\n",
       "      <td>NaN</td>\n",
       "    </tr>\n",
       "    <tr>\n",
       "      <th>1469974924</th>\n",
       "      <td>sue</td>\n",
       "      <td>advanced.html</td>\n",
       "      <td>33</td>\n",
       "      <td>NaN</td>\n",
       "      <td>NaN</td>\n",
       "    </tr>\n",
       "    <tr>\n",
       "      <th>1469977424</th>\n",
       "      <td>bob</td>\n",
       "      <td>intro.html</td>\n",
       "      <td>1</td>\n",
       "      <td>True</td>\n",
       "      <td>10.0</td>\n",
       "    </tr>\n",
       "    <tr>\n",
       "      <th>1469977454</th>\n",
       "      <td>bob</td>\n",
       "      <td>intro.html</td>\n",
       "      <td>1</td>\n",
       "      <td>NaN</td>\n",
       "      <td>NaN</td>\n",
       "    </tr>\n",
       "    <tr>\n",
       "      <th>1469977484</th>\n",
       "      <td>bob</td>\n",
       "      <td>intro.html</td>\n",
       "      <td>1</td>\n",
       "      <td>NaN</td>\n",
       "      <td>NaN</td>\n",
       "    </tr>\n",
       "    <tr>\n",
       "      <th>1469977514</th>\n",
       "      <td>bob</td>\n",
       "      <td>intro.html</td>\n",
       "      <td>1</td>\n",
       "      <td>NaN</td>\n",
       "      <td>NaN</td>\n",
       "    </tr>\n",
       "    <tr>\n",
       "      <th>1469977544</th>\n",
       "      <td>bob</td>\n",
       "      <td>intro.html</td>\n",
       "      <td>1</td>\n",
       "      <td>NaN</td>\n",
       "      <td>NaN</td>\n",
       "    </tr>\n",
       "    <tr>\n",
       "      <th>1469977574</th>\n",
       "      <td>bob</td>\n",
       "      <td>intro.html</td>\n",
       "      <td>1</td>\n",
       "      <td>NaN</td>\n",
       "      <td>NaN</td>\n",
       "    </tr>\n",
       "    <tr>\n",
       "      <th>1469977604</th>\n",
       "      <td>bob</td>\n",
       "      <td>intro.html</td>\n",
       "      <td>1</td>\n",
       "      <td>NaN</td>\n",
       "      <td>NaN</td>\n",
       "    </tr>\n",
       "    <tr>\n",
       "      <th>1469977634</th>\n",
       "      <td>bob</td>\n",
       "      <td>intro.html</td>\n",
       "      <td>1</td>\n",
       "      <td>NaN</td>\n",
       "      <td>NaN</td>\n",
       "    </tr>\n",
       "    <tr>\n",
       "      <th>1469977664</th>\n",
       "      <td>bob</td>\n",
       "      <td>intro.html</td>\n",
       "      <td>1</td>\n",
       "      <td>NaN</td>\n",
       "      <td>NaN</td>\n",
       "    </tr>\n",
       "    <tr>\n",
       "      <th>1469977694</th>\n",
       "      <td>bob</td>\n",
       "      <td>intro.html</td>\n",
       "      <td>1</td>\n",
       "      <td>NaN</td>\n",
       "      <td>NaN</td>\n",
       "    </tr>\n",
       "    <tr>\n",
       "      <th>1469977724</th>\n",
       "      <td>bob</td>\n",
       "      <td>intro.html</td>\n",
       "      <td>1</td>\n",
       "      <td>NaN</td>\n",
       "      <td>NaN</td>\n",
       "    </tr>\n",
       "  </tbody>\n",
       "</table>\n",
       "</div>"
      ],
      "text/plain": [
       "              user          video  playback position paused  volume\n",
       "time                                                               \n",
       "1469974424  cheryl     intro.html                  5  False    10.0\n",
       "1469974424     sue  advanced.html                 23  False    10.0\n",
       "1469974454  cheryl     intro.html                  6    NaN     NaN\n",
       "1469974454     sue  advanced.html                 24    NaN     NaN\n",
       "1469974484  cheryl     intro.html                  7    NaN     NaN\n",
       "1469974514  cheryl     intro.html                  8    NaN     NaN\n",
       "1469974524     sue  advanced.html                 25    NaN     NaN\n",
       "1469974544  cheryl     intro.html                  9    NaN     NaN\n",
       "1469974554     sue  advanced.html                 26    NaN     NaN\n",
       "1469974574  cheryl     intro.html                 10    NaN     NaN\n",
       "1469974604  cheryl     intro.html                 11    NaN     NaN\n",
       "1469974624     sue  advanced.html                 27    NaN     NaN\n",
       "1469974634  cheryl     intro.html                 12    NaN     NaN\n",
       "1469974654     sue  advanced.html                 28    NaN     5.0\n",
       "1469974664  cheryl     intro.html                 13    NaN     NaN\n",
       "1469974694  cheryl     intro.html                 14    NaN     NaN\n",
       "1469974724  cheryl     intro.html                 15    NaN     NaN\n",
       "1469974724     sue  advanced.html                 29    NaN     NaN\n",
       "1469974754     sue  advanced.html                 30    NaN     NaN\n",
       "1469974824     sue  advanced.html                 31    NaN     NaN\n",
       "1469974854     sue  advanced.html                 32    NaN     NaN\n",
       "1469974924     sue  advanced.html                 33    NaN     NaN\n",
       "1469977424     bob     intro.html                  1   True    10.0\n",
       "1469977454     bob     intro.html                  1    NaN     NaN\n",
       "1469977484     bob     intro.html                  1    NaN     NaN\n",
       "1469977514     bob     intro.html                  1    NaN     NaN\n",
       "1469977544     bob     intro.html                  1    NaN     NaN\n",
       "1469977574     bob     intro.html                  1    NaN     NaN\n",
       "1469977604     bob     intro.html                  1    NaN     NaN\n",
       "1469977634     bob     intro.html                  1    NaN     NaN\n",
       "1469977664     bob     intro.html                  1    NaN     NaN\n",
       "1469977694     bob     intro.html                  1    NaN     NaN\n",
       "1469977724     bob     intro.html                  1    NaN     NaN"
      ]
     },
     "execution_count": 66,
     "metadata": {},
     "output_type": "execute_result"
    }
   ],
   "source": [
    "df = df.set_index('time')\n",
    "df = df.sort_index()\n",
    "df"
   ]
  },
  {
   "cell_type": "code",
   "execution_count": 67,
   "metadata": {
    "collapsed": false,
    "nbpresent": {
     "id": "67d48a2c-a2ba-4836-826b-b09941c2c81f"
    }
   },
   "outputs": [
    {
     "data": {
      "text/html": [
       "<div>\n",
       "<table border=\"1\" class=\"dataframe\">\n",
       "  <thead>\n",
       "    <tr style=\"text-align: right;\">\n",
       "      <th></th>\n",
       "      <th></th>\n",
       "      <th>video</th>\n",
       "      <th>playback position</th>\n",
       "      <th>paused</th>\n",
       "      <th>volume</th>\n",
       "    </tr>\n",
       "    <tr>\n",
       "      <th>time</th>\n",
       "      <th>user</th>\n",
       "      <th></th>\n",
       "      <th></th>\n",
       "      <th></th>\n",
       "      <th></th>\n",
       "    </tr>\n",
       "  </thead>\n",
       "  <tbody>\n",
       "    <tr>\n",
       "      <th rowspan=\"2\" valign=\"top\">1469974424</th>\n",
       "      <th>cheryl</th>\n",
       "      <td>intro.html</td>\n",
       "      <td>5</td>\n",
       "      <td>False</td>\n",
       "      <td>10.0</td>\n",
       "    </tr>\n",
       "    <tr>\n",
       "      <th>sue</th>\n",
       "      <td>advanced.html</td>\n",
       "      <td>23</td>\n",
       "      <td>False</td>\n",
       "      <td>10.0</td>\n",
       "    </tr>\n",
       "    <tr>\n",
       "      <th rowspan=\"2\" valign=\"top\">1469974454</th>\n",
       "      <th>cheryl</th>\n",
       "      <td>intro.html</td>\n",
       "      <td>6</td>\n",
       "      <td>NaN</td>\n",
       "      <td>NaN</td>\n",
       "    </tr>\n",
       "    <tr>\n",
       "      <th>sue</th>\n",
       "      <td>advanced.html</td>\n",
       "      <td>24</td>\n",
       "      <td>NaN</td>\n",
       "      <td>NaN</td>\n",
       "    </tr>\n",
       "    <tr>\n",
       "      <th>1469974484</th>\n",
       "      <th>cheryl</th>\n",
       "      <td>intro.html</td>\n",
       "      <td>7</td>\n",
       "      <td>NaN</td>\n",
       "      <td>NaN</td>\n",
       "    </tr>\n",
       "    <tr>\n",
       "      <th>1469974514</th>\n",
       "      <th>cheryl</th>\n",
       "      <td>intro.html</td>\n",
       "      <td>8</td>\n",
       "      <td>NaN</td>\n",
       "      <td>NaN</td>\n",
       "    </tr>\n",
       "    <tr>\n",
       "      <th>1469974524</th>\n",
       "      <th>sue</th>\n",
       "      <td>advanced.html</td>\n",
       "      <td>25</td>\n",
       "      <td>NaN</td>\n",
       "      <td>NaN</td>\n",
       "    </tr>\n",
       "    <tr>\n",
       "      <th>1469974544</th>\n",
       "      <th>cheryl</th>\n",
       "      <td>intro.html</td>\n",
       "      <td>9</td>\n",
       "      <td>NaN</td>\n",
       "      <td>NaN</td>\n",
       "    </tr>\n",
       "    <tr>\n",
       "      <th>1469974554</th>\n",
       "      <th>sue</th>\n",
       "      <td>advanced.html</td>\n",
       "      <td>26</td>\n",
       "      <td>NaN</td>\n",
       "      <td>NaN</td>\n",
       "    </tr>\n",
       "    <tr>\n",
       "      <th>1469974574</th>\n",
       "      <th>cheryl</th>\n",
       "      <td>intro.html</td>\n",
       "      <td>10</td>\n",
       "      <td>NaN</td>\n",
       "      <td>NaN</td>\n",
       "    </tr>\n",
       "    <tr>\n",
       "      <th>1469974604</th>\n",
       "      <th>cheryl</th>\n",
       "      <td>intro.html</td>\n",
       "      <td>11</td>\n",
       "      <td>NaN</td>\n",
       "      <td>NaN</td>\n",
       "    </tr>\n",
       "    <tr>\n",
       "      <th>1469974624</th>\n",
       "      <th>sue</th>\n",
       "      <td>advanced.html</td>\n",
       "      <td>27</td>\n",
       "      <td>NaN</td>\n",
       "      <td>NaN</td>\n",
       "    </tr>\n",
       "    <tr>\n",
       "      <th>1469974634</th>\n",
       "      <th>cheryl</th>\n",
       "      <td>intro.html</td>\n",
       "      <td>12</td>\n",
       "      <td>NaN</td>\n",
       "      <td>NaN</td>\n",
       "    </tr>\n",
       "    <tr>\n",
       "      <th>1469974654</th>\n",
       "      <th>sue</th>\n",
       "      <td>advanced.html</td>\n",
       "      <td>28</td>\n",
       "      <td>NaN</td>\n",
       "      <td>5.0</td>\n",
       "    </tr>\n",
       "    <tr>\n",
       "      <th>1469974664</th>\n",
       "      <th>cheryl</th>\n",
       "      <td>intro.html</td>\n",
       "      <td>13</td>\n",
       "      <td>NaN</td>\n",
       "      <td>NaN</td>\n",
       "    </tr>\n",
       "    <tr>\n",
       "      <th>1469974694</th>\n",
       "      <th>cheryl</th>\n",
       "      <td>intro.html</td>\n",
       "      <td>14</td>\n",
       "      <td>NaN</td>\n",
       "      <td>NaN</td>\n",
       "    </tr>\n",
       "    <tr>\n",
       "      <th rowspan=\"2\" valign=\"top\">1469974724</th>\n",
       "      <th>cheryl</th>\n",
       "      <td>intro.html</td>\n",
       "      <td>15</td>\n",
       "      <td>NaN</td>\n",
       "      <td>NaN</td>\n",
       "    </tr>\n",
       "    <tr>\n",
       "      <th>sue</th>\n",
       "      <td>advanced.html</td>\n",
       "      <td>29</td>\n",
       "      <td>NaN</td>\n",
       "      <td>NaN</td>\n",
       "    </tr>\n",
       "    <tr>\n",
       "      <th>1469974754</th>\n",
       "      <th>sue</th>\n",
       "      <td>advanced.html</td>\n",
       "      <td>30</td>\n",
       "      <td>NaN</td>\n",
       "      <td>NaN</td>\n",
       "    </tr>\n",
       "    <tr>\n",
       "      <th>1469974824</th>\n",
       "      <th>sue</th>\n",
       "      <td>advanced.html</td>\n",
       "      <td>31</td>\n",
       "      <td>NaN</td>\n",
       "      <td>NaN</td>\n",
       "    </tr>\n",
       "    <tr>\n",
       "      <th>1469974854</th>\n",
       "      <th>sue</th>\n",
       "      <td>advanced.html</td>\n",
       "      <td>32</td>\n",
       "      <td>NaN</td>\n",
       "      <td>NaN</td>\n",
       "    </tr>\n",
       "    <tr>\n",
       "      <th>1469974924</th>\n",
       "      <th>sue</th>\n",
       "      <td>advanced.html</td>\n",
       "      <td>33</td>\n",
       "      <td>NaN</td>\n",
       "      <td>NaN</td>\n",
       "    </tr>\n",
       "    <tr>\n",
       "      <th>1469977424</th>\n",
       "      <th>bob</th>\n",
       "      <td>intro.html</td>\n",
       "      <td>1</td>\n",
       "      <td>True</td>\n",
       "      <td>10.0</td>\n",
       "    </tr>\n",
       "    <tr>\n",
       "      <th>1469977454</th>\n",
       "      <th>bob</th>\n",
       "      <td>intro.html</td>\n",
       "      <td>1</td>\n",
       "      <td>NaN</td>\n",
       "      <td>NaN</td>\n",
       "    </tr>\n",
       "    <tr>\n",
       "      <th>1469977484</th>\n",
       "      <th>bob</th>\n",
       "      <td>intro.html</td>\n",
       "      <td>1</td>\n",
       "      <td>NaN</td>\n",
       "      <td>NaN</td>\n",
       "    </tr>\n",
       "    <tr>\n",
       "      <th>1469977514</th>\n",
       "      <th>bob</th>\n",
       "      <td>intro.html</td>\n",
       "      <td>1</td>\n",
       "      <td>NaN</td>\n",
       "      <td>NaN</td>\n",
       "    </tr>\n",
       "    <tr>\n",
       "      <th>1469977544</th>\n",
       "      <th>bob</th>\n",
       "      <td>intro.html</td>\n",
       "      <td>1</td>\n",
       "      <td>NaN</td>\n",
       "      <td>NaN</td>\n",
       "    </tr>\n",
       "    <tr>\n",
       "      <th>1469977574</th>\n",
       "      <th>bob</th>\n",
       "      <td>intro.html</td>\n",
       "      <td>1</td>\n",
       "      <td>NaN</td>\n",
       "      <td>NaN</td>\n",
       "    </tr>\n",
       "    <tr>\n",
       "      <th>1469977604</th>\n",
       "      <th>bob</th>\n",
       "      <td>intro.html</td>\n",
       "      <td>1</td>\n",
       "      <td>NaN</td>\n",
       "      <td>NaN</td>\n",
       "    </tr>\n",
       "    <tr>\n",
       "      <th>1469977634</th>\n",
       "      <th>bob</th>\n",
       "      <td>intro.html</td>\n",
       "      <td>1</td>\n",
       "      <td>NaN</td>\n",
       "      <td>NaN</td>\n",
       "    </tr>\n",
       "    <tr>\n",
       "      <th>1469977664</th>\n",
       "      <th>bob</th>\n",
       "      <td>intro.html</td>\n",
       "      <td>1</td>\n",
       "      <td>NaN</td>\n",
       "      <td>NaN</td>\n",
       "    </tr>\n",
       "    <tr>\n",
       "      <th>1469977694</th>\n",
       "      <th>bob</th>\n",
       "      <td>intro.html</td>\n",
       "      <td>1</td>\n",
       "      <td>NaN</td>\n",
       "      <td>NaN</td>\n",
       "    </tr>\n",
       "    <tr>\n",
       "      <th>1469977724</th>\n",
       "      <th>bob</th>\n",
       "      <td>intro.html</td>\n",
       "      <td>1</td>\n",
       "      <td>NaN</td>\n",
       "      <td>NaN</td>\n",
       "    </tr>\n",
       "  </tbody>\n",
       "</table>\n",
       "</div>"
      ],
      "text/plain": [
       "                           video  playback position paused  volume\n",
       "time       user                                                   \n",
       "1469974424 cheryl     intro.html                  5  False    10.0\n",
       "           sue     advanced.html                 23  False    10.0\n",
       "1469974454 cheryl     intro.html                  6    NaN     NaN\n",
       "           sue     advanced.html                 24    NaN     NaN\n",
       "1469974484 cheryl     intro.html                  7    NaN     NaN\n",
       "1469974514 cheryl     intro.html                  8    NaN     NaN\n",
       "1469974524 sue     advanced.html                 25    NaN     NaN\n",
       "1469974544 cheryl     intro.html                  9    NaN     NaN\n",
       "1469974554 sue     advanced.html                 26    NaN     NaN\n",
       "1469974574 cheryl     intro.html                 10    NaN     NaN\n",
       "1469974604 cheryl     intro.html                 11    NaN     NaN\n",
       "1469974624 sue     advanced.html                 27    NaN     NaN\n",
       "1469974634 cheryl     intro.html                 12    NaN     NaN\n",
       "1469974654 sue     advanced.html                 28    NaN     5.0\n",
       "1469974664 cheryl     intro.html                 13    NaN     NaN\n",
       "1469974694 cheryl     intro.html                 14    NaN     NaN\n",
       "1469974724 cheryl     intro.html                 15    NaN     NaN\n",
       "           sue     advanced.html                 29    NaN     NaN\n",
       "1469974754 sue     advanced.html                 30    NaN     NaN\n",
       "1469974824 sue     advanced.html                 31    NaN     NaN\n",
       "1469974854 sue     advanced.html                 32    NaN     NaN\n",
       "1469974924 sue     advanced.html                 33    NaN     NaN\n",
       "1469977424 bob        intro.html                  1   True    10.0\n",
       "1469977454 bob        intro.html                  1    NaN     NaN\n",
       "1469977484 bob        intro.html                  1    NaN     NaN\n",
       "1469977514 bob        intro.html                  1    NaN     NaN\n",
       "1469977544 bob        intro.html                  1    NaN     NaN\n",
       "1469977574 bob        intro.html                  1    NaN     NaN\n",
       "1469977604 bob        intro.html                  1    NaN     NaN\n",
       "1469977634 bob        intro.html                  1    NaN     NaN\n",
       "1469977664 bob        intro.html                  1    NaN     NaN\n",
       "1469977694 bob        intro.html                  1    NaN     NaN\n",
       "1469977724 bob        intro.html                  1    NaN     NaN"
      ]
     },
     "execution_count": 67,
     "metadata": {},
     "output_type": "execute_result"
    }
   ],
   "source": [
    "df = df.reset_index()\n",
    "df = df.set_index(['time', 'user'])\n",
    "df"
   ]
  },
  {
   "cell_type": "code",
   "execution_count": 68,
   "metadata": {
    "collapsed": false,
    "nbpresent": {
     "id": "5f157b81-4248-4bd5-9eb7-97511749614f"
    }
   },
   "outputs": [
    {
     "data": {
      "text/html": [
       "<div>\n",
       "<table border=\"1\" class=\"dataframe\">\n",
       "  <thead>\n",
       "    <tr style=\"text-align: right;\">\n",
       "      <th></th>\n",
       "      <th></th>\n",
       "      <th>video</th>\n",
       "      <th>playback position</th>\n",
       "      <th>paused</th>\n",
       "      <th>volume</th>\n",
       "    </tr>\n",
       "    <tr>\n",
       "      <th>time</th>\n",
       "      <th>user</th>\n",
       "      <th></th>\n",
       "      <th></th>\n",
       "      <th></th>\n",
       "      <th></th>\n",
       "    </tr>\n",
       "  </thead>\n",
       "  <tbody>\n",
       "    <tr>\n",
       "      <th rowspan=\"2\" valign=\"top\">1469974424</th>\n",
       "      <th>cheryl</th>\n",
       "      <td>intro.html</td>\n",
       "      <td>5</td>\n",
       "      <td>False</td>\n",
       "      <td>10.0</td>\n",
       "    </tr>\n",
       "    <tr>\n",
       "      <th>sue</th>\n",
       "      <td>advanced.html</td>\n",
       "      <td>23</td>\n",
       "      <td>False</td>\n",
       "      <td>10.0</td>\n",
       "    </tr>\n",
       "    <tr>\n",
       "      <th rowspan=\"2\" valign=\"top\">1469974454</th>\n",
       "      <th>cheryl</th>\n",
       "      <td>intro.html</td>\n",
       "      <td>6</td>\n",
       "      <td>False</td>\n",
       "      <td>10.0</td>\n",
       "    </tr>\n",
       "    <tr>\n",
       "      <th>sue</th>\n",
       "      <td>advanced.html</td>\n",
       "      <td>24</td>\n",
       "      <td>False</td>\n",
       "      <td>10.0</td>\n",
       "    </tr>\n",
       "    <tr>\n",
       "      <th>1469974484</th>\n",
       "      <th>cheryl</th>\n",
       "      <td>intro.html</td>\n",
       "      <td>7</td>\n",
       "      <td>False</td>\n",
       "      <td>10.0</td>\n",
       "    </tr>\n",
       "  </tbody>\n",
       "</table>\n",
       "</div>"
      ],
      "text/plain": [
       "                           video  playback position paused  volume\n",
       "time       user                                                   \n",
       "1469974424 cheryl     intro.html                  5  False    10.0\n",
       "           sue     advanced.html                 23  False    10.0\n",
       "1469974454 cheryl     intro.html                  6  False    10.0\n",
       "           sue     advanced.html                 24  False    10.0\n",
       "1469974484 cheryl     intro.html                  7  False    10.0"
      ]
     },
     "execution_count": 68,
     "metadata": {},
     "output_type": "execute_result"
    }
   ],
   "source": [
    "df = df.fillna(method='ffill')\n",
    "df.head()"
   ]
  }
 ],
 "metadata": {
  "anaconda-cloud": {},
  "kernelspec": {
   "display_name": "Python [default]",
   "language": "python",
   "name": "python3"
  },
  "language_info": {
   "codemirror_mode": {
    "name": "ipython",
    "version": 3
   },
   "file_extension": ".py",
   "mimetype": "text/x-python",
   "name": "python",
   "nbconvert_exporter": "python",
   "pygments_lexer": "ipython3",
   "version": "3.5.2"
  },
  "nbpresent": {
   "slides": {
    "031d0736-ce4d-4c6c-b211-959ca14375a0": {
     "id": "031d0736-ce4d-4c6c-b211-959ca14375a0",
     "prev": "8f17834a-6487-48b6-8111-fd649a6e2932",
     "regions": {
      "769d04e9-e82f-4127-8752-566c097ea054": {
       "attrs": {
        "height": 0.8,
        "width": 0.8,
        "x": 0.1,
        "y": 0.1
       },
       "content": {
        "cell": "f8589920-c5bc-488e-906b-ead2214c0017",
        "part": "whole"
       },
       "id": "769d04e9-e82f-4127-8752-566c097ea054"
      }
     }
    },
    "03abc149-d93f-4a13-b82d-a0352ecbdb6a": {
     "id": "03abc149-d93f-4a13-b82d-a0352ecbdb6a",
     "prev": "0fe9caec-fb48-42a8-ba52-ab036275cd53",
     "regions": {
      "c442df18-5d91-4b03-be36-8ad3b915ab17": {
       "attrs": {
        "height": 0.8,
        "width": 0.8,
        "x": 0.1,
        "y": 0.1
       },
       "content": {
        "cell": "4c60af36-89be-4eca-950e-66e419b70737",
        "part": "whole"
       },
       "id": "c442df18-5d91-4b03-be36-8ad3b915ab17"
      }
     }
    },
    "0a52d70b-e6b5-499f-b3c4-5ac389eae467": {
     "id": "0a52d70b-e6b5-499f-b3c4-5ac389eae467",
     "prev": "23d1fcc8-2294-43af-a13a-cc0d5d3ab960",
     "regions": {
      "cf5d58dc-5eaf-407b-b2a2-445defb3e024": {
       "attrs": {
        "height": 0.8,
        "width": 0.8,
        "x": 0.1,
        "y": 0.1
       },
       "content": {
        "cell": "cb78448f-5b0a-4016-b885-273c1fe45db0",
        "part": "whole"
       },
       "id": "cf5d58dc-5eaf-407b-b2a2-445defb3e024"
      }
     }
    },
    "0b839bc4-e499-4409-9286-9d0e520e4f00": {
     "id": "0b839bc4-e499-4409-9286-9d0e520e4f00",
     "prev": "31179432-2c7f-4291-88f9-713e7feb1e45",
     "regions": {
      "ec44a7be-e68d-4fba-9527-208bec08f5bc": {
       "attrs": {
        "height": 0.8,
        "width": 0.8,
        "x": 0.1,
        "y": 0.1
       },
       "content": {
        "cell": "1bfbf5bf-a54d-430f-8310-3d0afdce2c3a",
        "part": "whole"
       },
       "id": "ec44a7be-e68d-4fba-9527-208bec08f5bc"
      }
     }
    },
    "0f87dc8c-a6bf-45a8-a7b8-49c1571bcf83": {
     "id": "0f87dc8c-a6bf-45a8-a7b8-49c1571bcf83",
     "prev": "0b839bc4-e499-4409-9286-9d0e520e4f00",
     "regions": {
      "d526ffed-37be-4796-ab0a-1c55ea7b327f": {
       "attrs": {
        "height": 0.8,
        "width": 0.8,
        "x": 0.1,
        "y": 0.1
       },
       "content": {
        "cell": "4dbe1d1a-bc62-41ec-9dc5-786424645276",
        "part": "whole"
       },
       "id": "d526ffed-37be-4796-ab0a-1c55ea7b327f"
      }
     }
    },
    "0fb5a8d5-e631-4459-b059-c577c2e89ef4": {
     "id": "0fb5a8d5-e631-4459-b059-c577c2e89ef4",
     "prev": "1a97e3d6-91f3-4e79-858c-03de6a9e1009",
     "regions": {
      "f6d32523-5fe9-439c-9373-2d8d3bbbda1f": {
       "attrs": {
        "height": 0.8,
        "width": 0.8,
        "x": 0.1,
        "y": 0.1
       },
       "content": {
        "cell": "aa546045-dbc1-4bfa-a971-e3ca201a2bd9",
        "part": "whole"
       },
       "id": "f6d32523-5fe9-439c-9373-2d8d3bbbda1f"
      }
     }
    },
    "0fe9caec-fb48-42a8-ba52-ab036275cd53": {
     "id": "0fe9caec-fb48-42a8-ba52-ab036275cd53",
     "prev": "0a52d70b-e6b5-499f-b3c4-5ac389eae467",
     "regions": {
      "7b27220b-b9b8-4972-af65-e71fbcd0e535": {
       "attrs": {
        "height": 0.8,
        "width": 0.8,
        "x": 0.1,
        "y": 0.1
       },
       "content": {
        "cell": "24049594-4a8d-49d1-a2ad-94e38d348654",
        "part": "whole"
       },
       "id": "7b27220b-b9b8-4972-af65-e71fbcd0e535"
      }
     }
    },
    "10ff9897-adcf-4708-8eb3-ba183d62071f": {
     "id": "10ff9897-adcf-4708-8eb3-ba183d62071f",
     "prev": "46c3dbcf-5cbb-4a7e-b439-57c8c5b789e6",
     "regions": {
      "da863f70-92cd-44a4-a177-d6847ac85744": {
       "attrs": {
        "height": 0.8,
        "width": 0.8,
        "x": 0.1,
        "y": 0.1
       },
       "content": {
        "cell": "80d1f974-4af6-464d-93da-d43fe77b23d8",
        "part": "whole"
       },
       "id": "da863f70-92cd-44a4-a177-d6847ac85744"
      }
     }
    },
    "150150fa-2b9b-4d39-9643-93101f51e617": {
     "id": "150150fa-2b9b-4d39-9643-93101f51e617",
     "prev": "b519b2c1-ecc4-45fd-9a1b-544f10d97453",
     "regions": {
      "7e1f0576-e156-4190-a6bf-7a92a669fa37": {
       "attrs": {
        "height": 0.8,
        "width": 0.8,
        "x": 0.1,
        "y": 0.1
       },
       "content": {
        "cell": "f3d1757e-8e28-4a45-85b1-9e2762737060",
        "part": "whole"
       },
       "id": "7e1f0576-e156-4190-a6bf-7a92a669fa37"
      }
     }
    },
    "1a444780-0687-4595-a71e-40854547fef8": {
     "id": "1a444780-0687-4595-a71e-40854547fef8",
     "prev": "96c98684-fb19-47bf-9760-6aaafa75ff8f",
     "regions": {
      "8ecd0d81-a9de-4b59-8b3f-511ce856949a": {
       "attrs": {
        "height": 0.8,
        "width": 0.8,
        "x": 0.1,
        "y": 0.1
       },
       "content": {
        "cell": "360c69ee-bb4e-4355-9317-b8517b823217",
        "part": "whole"
       },
       "id": "8ecd0d81-a9de-4b59-8b3f-511ce856949a"
      }
     }
    },
    "1a97e3d6-91f3-4e79-858c-03de6a9e1009": {
     "id": "1a97e3d6-91f3-4e79-858c-03de6a9e1009",
     "layout": "grid",
     "prev": "9827fb80-fcb5-48b2-8741-d135220ef7dc",
     "regions": {}
    },
    "1b6cb4b1-6d6e-4c51-bc00-4b879ef093e3": {
     "id": "1b6cb4b1-6d6e-4c51-bc00-4b879ef093e3",
     "prev": "bedf34a9-29fe-47ed-b4d6-b3f65c78483e",
     "regions": {
      "4136683d-fa69-4ff5-a3fc-b14887aaf783": {
       "attrs": {
        "height": 0.8,
        "width": 0.8,
        "x": 0.1,
        "y": 0.1
       },
       "content": {
        "cell": "48fa2aaf-9206-4976-800c-50570e242945",
        "part": "whole"
       },
       "id": "4136683d-fa69-4ff5-a3fc-b14887aaf783"
      }
     }
    },
    "1d9ae9f7-45b1-4003-8a67-6b48272e0aab": {
     "id": "1d9ae9f7-45b1-4003-8a67-6b48272e0aab",
     "prev": "7c640c70-0d66-4784-9162-a95529714f08",
     "regions": {
      "3045f9d5-5cd1-45c3-b3c4-f496bcfc69f6": {
       "attrs": {
        "height": 0.8,
        "width": 0.8,
        "x": 0.1,
        "y": 0.1
       },
       "content": {
        "cell": "b132fe49-bac2-4500-870f-ee587c2ec1e2",
        "part": "whole"
       },
       "id": "3045f9d5-5cd1-45c3-b3c4-f496bcfc69f6"
      }
     }
    },
    "1e843557-687d-4de2-8e7c-080e89999771": {
     "id": "1e843557-687d-4de2-8e7c-080e89999771",
     "prev": "0fb5a8d5-e631-4459-b059-c577c2e89ef4",
     "regions": {
      "b6ca2703-14bf-4d60-b20f-34d2f6cf2f72": {
       "attrs": {
        "height": 0.8,
        "width": 0.8,
        "x": 0.1,
        "y": 0.1
       },
       "content": {
        "cell": "f192d444-ec57-4e1c-a6bc-fa490816e699",
        "part": "whole"
       },
       "id": "b6ca2703-14bf-4d60-b20f-34d2f6cf2f72"
      }
     }
    },
    "1ef23a5b-d42c-4623-b499-001d95ad3385": {
     "id": "1ef23a5b-d42c-4623-b499-001d95ad3385",
     "prev": "350fa0d3-05db-4c37-9f6c-2e2408c645d8",
     "regions": {
      "2071e6b8-13bb-4a03-9c74-f295ff2ffc6e": {
       "attrs": {
        "height": 0.8,
        "width": 0.8,
        "x": 0.1,
        "y": 0.1
       },
       "content": {
        "cell": "0222b618-c33a-46dd-a486-cd32b9d9ac61",
        "part": "whole"
       },
       "id": "2071e6b8-13bb-4a03-9c74-f295ff2ffc6e"
      }
     }
    },
    "20fef3a4-47a0-45c0-940d-0ee03f4dd6e4": {
     "id": "20fef3a4-47a0-45c0-940d-0ee03f4dd6e4",
     "prev": "566adf3a-69f6-4570-9c08-ff2929a84408",
     "regions": {
      "2f0ef8a3-1e4a-4eb2-917a-bf0d8f2aae16": {
       "attrs": {
        "height": 0.8,
        "width": 0.8,
        "x": 0.1,
        "y": 0.1
       },
       "content": {
        "cell": "8556fdcd-842c-4669-9226-2da120dfdc9d",
        "part": "whole"
       },
       "id": "2f0ef8a3-1e4a-4eb2-917a-bf0d8f2aae16"
      }
     }
    },
    "2184db11-6e25-4ed3-87aa-bf6695b0f7e2": {
     "id": "2184db11-6e25-4ed3-87aa-bf6695b0f7e2",
     "prev": "4663199b-c585-4854-a388-2dc276a73b85",
     "regions": {
      "0061da3e-c736-498e-ade6-d649b3b8ab15": {
       "attrs": {
        "height": 0.8,
        "width": 0.8,
        "x": 0.1,
        "y": 0.1
       },
       "content": {
        "cell": "86bfbe47-19c4-4eb2-9a93-8a7388f0c8f2",
        "part": "whole"
       },
       "id": "0061da3e-c736-498e-ade6-d649b3b8ab15"
      }
     }
    },
    "23d1fcc8-2294-43af-a13a-cc0d5d3ab960": {
     "id": "23d1fcc8-2294-43af-a13a-cc0d5d3ab960",
     "prev": "26d32dd8-699f-4195-ba66-adbe1774a8bb",
     "regions": {
      "e1947b2f-80b5-452d-b518-dc8ef48b37b9": {
       "attrs": {
        "height": 0.8,
        "width": 0.8,
        "x": 0.1,
        "y": 0.1
       },
       "content": {
        "cell": "3d39fc16-b07c-4945-923a-b6a3b815e29a",
        "part": "whole"
       },
       "id": "e1947b2f-80b5-452d-b518-dc8ef48b37b9"
      }
     }
    },
    "26d32dd8-699f-4195-ba66-adbe1774a8bb": {
     "id": "26d32dd8-699f-4195-ba66-adbe1774a8bb",
     "prev": "a51f7578-9e57-40d1-b5e1-4bd059a95eb5",
     "regions": {
      "61770073-4cee-48cf-b15d-058c9c130d7a": {
       "attrs": {
        "height": 0.8,
        "width": 0.8,
        "x": 0.1,
        "y": 0.1
       },
       "content": {
        "cell": "a760311e-d666-4345-bd66-6d0a724531ba",
        "part": "whole"
       },
       "id": "61770073-4cee-48cf-b15d-058c9c130d7a"
      }
     }
    },
    "278be034-cd4c-4b9b-ab01-bfa063786dae": {
     "id": "278be034-cd4c-4b9b-ab01-bfa063786dae",
     "prev": "1a444780-0687-4595-a71e-40854547fef8",
     "regions": {
      "973b4414-5653-4d4f-a03a-db25daeac84c": {
       "attrs": {
        "height": 0.8,
        "width": 0.8,
        "x": 0.1,
        "y": 0.1
       },
       "content": {
        "cell": "67d48a2c-a2ba-4836-826b-b09941c2c81f",
        "part": "whole"
       },
       "id": "973b4414-5653-4d4f-a03a-db25daeac84c"
      }
     }
    },
    "27a0c95b-b35b-4747-b8eb-ad9b7f839a3c": {
     "id": "27a0c95b-b35b-4747-b8eb-ad9b7f839a3c",
     "prev": "9ada65e0-95be-432c-892e-8cb6bd47d419",
     "regions": {
      "734cefd1-5ee9-4d48-bc3e-648212f590c2": {
       "attrs": {
        "height": 0.8,
        "width": 0.8,
        "x": 0.1,
        "y": 0.1
       },
       "content": {
        "cell": "4a9ff944-cb31-4e46-a1cb-69e6be87753a",
        "part": "whole"
       },
       "id": "734cefd1-5ee9-4d48-bc3e-648212f590c2"
      }
     }
    },
    "31179432-2c7f-4291-88f9-713e7feb1e45": {
     "id": "31179432-2c7f-4291-88f9-713e7feb1e45",
     "prev": "b5730c53-df50-413b-bb25-cc58a3c5c569",
     "regions": {
      "521821a7-7360-4811-8d17-db94edcd3d80": {
       "attrs": {
        "height": 0.8,
        "width": 0.8,
        "x": 0.1,
        "y": 0.1
       },
       "content": {
        "cell": "9d6f1e70-31ed-4f11-a2b8-7d7951e281a2",
        "part": "whole"
       },
       "id": "521821a7-7360-4811-8d17-db94edcd3d80"
      }
     }
    },
    "350fa0d3-05db-4c37-9f6c-2e2408c645d8": {
     "id": "350fa0d3-05db-4c37-9f6c-2e2408c645d8",
     "prev": "9e8673b3-4fb3-48c9-8fff-93d5087d7525",
     "regions": {
      "032d37cc-2a6a-466e-9e04-0577ddb8c7ce": {
       "attrs": {
        "height": 0.8,
        "width": 0.8,
        "x": 0.1,
        "y": 0.1
       },
       "content": {
        "cell": "7c439645-a833-4f40-819c-1bdb7516d7d7",
        "part": "whole"
       },
       "id": "032d37cc-2a6a-466e-9e04-0577ddb8c7ce"
      }
     }
    },
    "3568b5a6-92bb-4e0e-80d8-3333624e1dfa": {
     "id": "3568b5a6-92bb-4e0e-80d8-3333624e1dfa",
     "prev": "82529b84-b38d-4a9d-9241-faf834ec9e63",
     "regions": {
      "26a1ca8c-c66a-4ac6-b1b9-d69e25ec795b": {
       "attrs": {
        "height": 0.8,
        "width": 0.8,
        "x": 0.1,
        "y": 0.1
       },
       "content": {
        "cell": "1e726cbf-9e01-456f-b2c9-9c643d4de995",
        "part": "whole"
       },
       "id": "26a1ca8c-c66a-4ac6-b1b9-d69e25ec795b"
      }
     }
    },
    "3a9023b8-5fd1-4c3d-b13b-a8d24f6b5980": {
     "id": "3a9023b8-5fd1-4c3d-b13b-a8d24f6b5980",
     "prev": "3568b5a6-92bb-4e0e-80d8-3333624e1dfa",
     "regions": {
      "04e039b5-5be9-4c70-9cd8-8df616d1cecf": {
       "attrs": {
        "height": 0.8,
        "width": 0.8,
        "x": 0.1,
        "y": 0.1
       },
       "content": {
        "cell": "78daba39-4ae1-4440-bdf8-e666082c391d",
        "part": "whole"
       },
       "id": "04e039b5-5be9-4c70-9cd8-8df616d1cecf"
      }
     }
    },
    "3bf6bec0-158f-4ba3-b91a-8480b8bf6613": {
     "id": "3bf6bec0-158f-4ba3-b91a-8480b8bf6613",
     "prev": null,
     "regions": {}
    },
    "3e56f71b-cb25-47de-8670-fbb0ded2e267": {
     "id": "3e56f71b-cb25-47de-8670-fbb0ded2e267",
     "prev": "8ce40006-8b60-454a-97e9-044e6ca0ade4",
     "regions": {
      "ffe279c1-1931-4294-a192-551cd5641a14": {
       "attrs": {
        "height": 0.8,
        "width": 0.8,
        "x": 0.1,
        "y": 0.1
       },
       "content": {
        "cell": "537b9e70-09c1-48b9-a2b0-b0186f4ae174",
        "part": "whole"
       },
       "id": "ffe279c1-1931-4294-a192-551cd5641a14"
      }
     }
    },
    "427f34c5-d0aa-4637-8299-2316b9628b72": {
     "id": "427f34c5-d0aa-4637-8299-2316b9628b72",
     "prev": "c738eb9d-7042-4268-b1dd-75b3cc70c2ee",
     "regions": {
      "aa855472-d690-4f38-a28d-6f5302252cf7": {
       "attrs": {
        "height": 0.8,
        "width": 0.8,
        "x": 0.1,
        "y": 0.1
       },
       "content": {
        "cell": "45d3f0b0-282e-46d1-b710-fcac901f07c0",
        "part": "whole"
       },
       "id": "aa855472-d690-4f38-a28d-6f5302252cf7"
      }
     }
    },
    "42c0dc1b-1b63-489b-b140-e8eefc82d0f9": {
     "id": "42c0dc1b-1b63-489b-b140-e8eefc82d0f9",
     "prev": "e6664bf9-7fed-4245-9bcd-924cc73a18aa",
     "regions": {
      "f864a343-203a-4a18-a98c-cc72dc444d61": {
       "attrs": {
        "height": 0.8,
        "width": 0.8,
        "x": 0.1,
        "y": 0.1
       },
       "content": {
        "cell": "97379bb8-4ca7-4492-b1e6-a4a831b697a6",
        "part": "whole"
       },
       "id": "f864a343-203a-4a18-a98c-cc72dc444d61"
      }
     }
    },
    "4663199b-c585-4854-a388-2dc276a73b85": {
     "id": "4663199b-c585-4854-a388-2dc276a73b85",
     "prev": "8898edb7-481e-410f-b5d9-89b5005ec709",
     "regions": {
      "dd740299-f90b-4186-913a-9c470dd825e8": {
       "attrs": {
        "height": 0.8,
        "width": 0.8,
        "x": 0.1,
        "y": 0.1
       },
       "content": {
        "cell": "70f9b141-1c28-4016-afa1-9b4205bebe8f",
        "part": "whole"
       },
       "id": "dd740299-f90b-4186-913a-9c470dd825e8"
      }
     }
    },
    "46c3dbcf-5cbb-4a7e-b439-57c8c5b789e6": {
     "id": "46c3dbcf-5cbb-4a7e-b439-57c8c5b789e6",
     "prev": "89f88bd0-f7ec-4358-a117-7ec65c8f0bf7",
     "regions": {
      "6cd851b3-0da0-4388-a57b-b49e0a98bcd1": {
       "attrs": {
        "height": 0.8,
        "width": 0.8,
        "x": 0.1,
        "y": 0.1
       },
       "content": {
        "cell": "f1dd0b54-089b-4548-919f-116770056a2d",
        "part": "whole"
       },
       "id": "6cd851b3-0da0-4388-a57b-b49e0a98bcd1"
      }
     }
    },
    "475593e4-0c6f-41bd-8398-e5a160216ca7": {
     "id": "475593e4-0c6f-41bd-8398-e5a160216ca7",
     "prev": "278be034-cd4c-4b9b-ab01-bfa063786dae",
     "regions": {
      "896fef8a-52da-4edd-8d3f-22a916a19e84": {
       "attrs": {
        "height": 0.8,
        "width": 0.8,
        "x": 0.1,
        "y": 0.1
       },
       "content": {
        "cell": "5f157b81-4248-4bd5-9eb7-97511749614f",
        "part": "whole"
       },
       "id": "896fef8a-52da-4edd-8d3f-22a916a19e84"
      }
     }
    },
    "487672be-3d38-43cf-8cdd-0ef19a9928d8": {
     "id": "487672be-3d38-43cf-8cdd-0ef19a9928d8",
     "prev": "c05daef7-8347-4513-8dd3-b28355db420f",
     "regions": {
      "6869d62d-015c-4017-b372-183a6e95d942": {
       "attrs": {
        "height": 0.8,
        "width": 0.8,
        "x": 0.1,
        "y": 0.1
       },
       "content": {
        "cell": "a50fec2e-22be-41cc-9a12-04ae1a586db3",
        "part": "whole"
       },
       "id": "6869d62d-015c-4017-b372-183a6e95d942"
      }
     }
    },
    "499a0d59-10c5-4f40-9c04-37483cba26e1": {
     "id": "499a0d59-10c5-4f40-9c04-37483cba26e1",
     "prev": "9e3b1dca-3707-43e1-a0ea-639b761ecbfe",
     "regions": {
      "effc79fc-2fc0-467f-957d-2aaa6baefa16": {
       "attrs": {
        "height": 0.8,
        "width": 0.8,
        "x": 0.1,
        "y": 0.1
       },
       "content": {
        "cell": "392193c8-9129-4272-95bc-bfa57610ffcc",
        "part": "whole"
       },
       "id": "effc79fc-2fc0-467f-957d-2aaa6baefa16"
      }
     }
    },
    "4c42f4ea-12d0-425f-a619-e2a49e8fbc2d": {
     "id": "4c42f4ea-12d0-425f-a619-e2a49e8fbc2d",
     "prev": "6a334948-2e6b-48c1-8655-6cfcc071b438",
     "regions": {
      "35a96e38-cb39-4c2f-9bf0-5ee4f362de01": {
       "attrs": {
        "height": 0.8,
        "width": 0.8,
        "x": 0.1,
        "y": 0.1
       },
       "content": {
        "cell": "2d6d150c-f541-44fe-b058-4183b12d5e2e",
        "part": "whole"
       },
       "id": "35a96e38-cb39-4c2f-9bf0-5ee4f362de01"
      }
     }
    },
    "55077da1-ea56-49f1-ad2b-2dbfc0ef45cd": {
     "id": "55077da1-ea56-49f1-ad2b-2dbfc0ef45cd",
     "prev": "5e9c002c-478c-4193-a31c-0b6ef13b49b8",
     "regions": {
      "68b0c0a8-2aba-4c54-bdc0-ae8ea4978c9b": {
       "attrs": {
        "height": 0.8,
        "width": 0.8,
        "x": 0.1,
        "y": 0.1
       },
       "content": {
        "cell": "ff7fcf80-e272-49e8-a8ee-e93ff8794a85",
        "part": "whole"
       },
       "id": "68b0c0a8-2aba-4c54-bdc0-ae8ea4978c9b"
      }
     }
    },
    "566adf3a-69f6-4570-9c08-ff2929a84408": {
     "id": "566adf3a-69f6-4570-9c08-ff2929a84408",
     "prev": "8eb67624-3d32-41fb-a601-92c3470f758d",
     "regions": {
      "decba6b7-9bef-4cc4-bcbd-c1732912b6d9": {
       "attrs": {
        "height": 0.8,
        "width": 0.8,
        "x": 0.1,
        "y": 0.1
       },
       "content": {
        "cell": "d8cd49c9-8f2b-4bab-ac4a-fbaf4c7fab37",
        "part": "whole"
       },
       "id": "decba6b7-9bef-4cc4-bcbd-c1732912b6d9"
      }
     }
    },
    "5ad032d3-893a-4487-af83-79c657571c6d": {
     "id": "5ad032d3-893a-4487-af83-79c657571c6d",
     "prev": "e6457709-67f2-43d9-898c-ef0769dda30d",
     "regions": {
      "66f859b8-e724-4aac-9b32-0b0269e924ca": {
       "attrs": {
        "height": 0.8,
        "width": 0.8,
        "x": 0.1,
        "y": 0.1
       },
       "content": {
        "cell": "5ee29fc1-8f28-4810-9e25-fe47d1587177",
        "part": "whole"
       },
       "id": "66f859b8-e724-4aac-9b32-0b0269e924ca"
      }
     }
    },
    "5e9c002c-478c-4193-a31c-0b6ef13b49b8": {
     "id": "5e9c002c-478c-4193-a31c-0b6ef13b49b8",
     "prev": "0f87dc8c-a6bf-45a8-a7b8-49c1571bcf83",
     "regions": {
      "2e5a573e-bf9f-4b2b-a78e-1d4e57e9fd95": {
       "attrs": {
        "height": 0.8,
        "width": 0.8,
        "x": 0.1,
        "y": 0.1
       },
       "content": {
        "cell": "31f68893-1a23-43d3-abf7-2220d0a192d5",
        "part": "whole"
       },
       "id": "2e5a573e-bf9f-4b2b-a78e-1d4e57e9fd95"
      }
     }
    },
    "646683b0-78b3-4ad4-8ab9-3c28f73e06d9": {
     "id": "646683b0-78b3-4ad4-8ab9-3c28f73e06d9",
     "prev": "fb8e4d46-ecb0-435c-ba9f-807e2b3658cc",
     "regions": {
      "d3fb0e57-d509-4e00-8394-ad8eeca856e3": {
       "attrs": {
        "height": 0.8,
        "width": 0.8,
        "x": 0.1,
        "y": 0.1
       },
       "content": {
        "cell": "ddd612f9-657f-4493-be99-e792539eeab3",
        "part": "whole"
       },
       "id": "d3fb0e57-d509-4e00-8394-ad8eeca856e3"
      }
     }
    },
    "69825556-58ad-4f04-aec3-0c2429f93053": {
     "id": "69825556-58ad-4f04-aec3-0c2429f93053",
     "prev": "427f34c5-d0aa-4637-8299-2316b9628b72",
     "regions": {
      "2788763e-e2da-49a2-8b9c-a8d20dd1862e": {
       "attrs": {
        "height": 0.8,
        "width": 0.8,
        "x": 0.1,
        "y": 0.1
       },
       "content": {
        "cell": "c307523f-8ab6-4a9c-a2f8-81b5f65d8bb0",
        "part": "whole"
       },
       "id": "2788763e-e2da-49a2-8b9c-a8d20dd1862e"
      }
     }
    },
    "6a334948-2e6b-48c1-8655-6cfcc071b438": {
     "id": "6a334948-2e6b-48c1-8655-6cfcc071b438",
     "prev": "499a0d59-10c5-4f40-9c04-37483cba26e1",
     "regions": {
      "a1a88296-c842-44f4-918b-e6ca33dfa4b9": {
       "attrs": {
        "height": 0.8,
        "width": 0.8,
        "x": 0.1,
        "y": 0.1
       },
       "content": {
        "cell": "64ed270f-953b-4a7c-9474-dde9979f6194",
        "part": "whole"
       },
       "id": "a1a88296-c842-44f4-918b-e6ca33dfa4b9"
      }
     }
    },
    "6b4669c6-1b61-46f4-a671-42d555476577": {
     "id": "6b4669c6-1b61-46f4-a671-42d555476577",
     "prev": "ad8e0a57-db34-4772-9bfc-b927f55cbd32",
     "regions": {
      "5a74dee7-21de-45aa-b7b3-ce5cb6c63666": {
       "attrs": {
        "height": 0.8,
        "width": 0.8,
        "x": 0.1,
        "y": 0.1
       },
       "content": {
        "cell": "4222cc4b-324c-4504-8537-7b955b7a321a",
        "part": "whole"
       },
       "id": "5a74dee7-21de-45aa-b7b3-ce5cb6c63666"
      }
     }
    },
    "6fed03a5-8f91-42e0-a9a8-56bfb2d9e5ec": {
     "id": "6fed03a5-8f91-42e0-a9a8-56bfb2d9e5ec",
     "prev": "1ef23a5b-d42c-4623-b499-001d95ad3385",
     "regions": {
      "a6736669-60ec-4014-803b-4cceec7b658b": {
       "attrs": {
        "height": 0.8,
        "width": 0.8,
        "x": 0.1,
        "y": 0.1
       },
       "content": {
        "cell": "fb59546d-81c5-4ef1-8aed-c629494b75ee",
        "part": "whole"
       },
       "id": "a6736669-60ec-4014-803b-4cceec7b658b"
      }
     }
    },
    "756f6127-5b8a-4c25-80aa-3095631b0eb4": {
     "id": "756f6127-5b8a-4c25-80aa-3095631b0eb4",
     "prev": "f671c35a-ca9a-4c29-8e8e-355fcf72357a",
     "regions": {
      "6ebd3e5c-7aea-4e77-8887-6b4da3217f8a": {
       "attrs": {
        "height": 0.8,
        "width": 0.8,
        "x": 0.1,
        "y": 0.1
       },
       "content": {
        "cell": "e8f8b52f-b90d-4d4e-ad44-2eaefbb3d46a",
        "part": "whole"
       },
       "id": "6ebd3e5c-7aea-4e77-8887-6b4da3217f8a"
      }
     }
    },
    "75955a30-db5a-49c8-ae22-e0af2a76695b": {
     "id": "75955a30-db5a-49c8-ae22-e0af2a76695b",
     "prev": "c81d470f-bfb2-400f-9a0e-5dbfd3e5fc0d",
     "regions": {
      "97f31bc4-2fce-4991-a056-aa027aa9949e": {
       "attrs": {
        "height": 0.8,
        "width": 0.8,
        "x": 0.1,
        "y": 0.1
       },
       "content": {
        "cell": "4b98924f-a03d-4750-9eea-21f25db02a37",
        "part": "whole"
       },
       "id": "97f31bc4-2fce-4991-a056-aa027aa9949e"
      }
     }
    },
    "7c640c70-0d66-4784-9162-a95529714f08": {
     "id": "7c640c70-0d66-4784-9162-a95529714f08",
     "prev": "e79d81ff-86ae-4da5-8a6a-f227dc517476",
     "regions": {
      "ba4ecee3-60a5-44ac-8160-91ec96de6646": {
       "attrs": {
        "height": 0.8,
        "width": 0.8,
        "x": 0.1,
        "y": 0.1
       },
       "content": {
        "cell": "c0770968-1205-463c-9f9c-828466bd1549",
        "part": "whole"
       },
       "id": "ba4ecee3-60a5-44ac-8160-91ec96de6646"
      }
     }
    },
    "82529b84-b38d-4a9d-9241-faf834ec9e63": {
     "id": "82529b84-b38d-4a9d-9241-faf834ec9e63",
     "prev": "dd224f33-16e0-443d-8033-355b25323e5f",
     "regions": {
      "e960170b-5a6c-4a3f-95a0-ee81c6a6fd49": {
       "attrs": {
        "height": 0.8,
        "width": 0.8,
        "x": 0.1,
        "y": 0.1
       },
       "content": {
        "cell": "dfbe7456-545c-4f39-b915-ef16150f4195",
        "part": "whole"
       },
       "id": "e960170b-5a6c-4a3f-95a0-ee81c6a6fd49"
      }
     }
    },
    "841822b8-ba3c-4d9c-9727-d37a8199b64a": {
     "id": "841822b8-ba3c-4d9c-9727-d37a8199b64a",
     "prev": "d2db0ea8-622c-44bb-a292-e959e1f5a3e7",
     "regions": {
      "2bd1d17a-82cf-4024-8f5a-b3b05e0fd7e7": {
       "attrs": {
        "height": 0.8,
        "width": 0.8,
        "x": 0.1,
        "y": 0.1
       },
       "content": {
        "cell": "847deaa3-8b53-4bcf-ab91-a9601125ad03",
        "part": "whole"
       },
       "id": "2bd1d17a-82cf-4024-8f5a-b3b05e0fd7e7"
      }
     }
    },
    "8439badf-5ff2-4228-b602-79a230c46bba": {
     "id": "8439badf-5ff2-4228-b602-79a230c46bba",
     "prev": "6fed03a5-8f91-42e0-a9a8-56bfb2d9e5ec",
     "regions": {
      "e6c93f1c-8264-415b-8225-36ee5802561f": {
       "attrs": {
        "height": 0.8,
        "width": 0.8,
        "x": 0.1,
        "y": 0.1
       },
       "content": {
        "cell": "5ec5ab6a-169a-4e9f-917f-73c0bc1a52ac",
        "part": "whole"
       },
       "id": "e6c93f1c-8264-415b-8225-36ee5802561f"
      }
     }
    },
    "8898edb7-481e-410f-b5d9-89b5005ec709": {
     "id": "8898edb7-481e-410f-b5d9-89b5005ec709",
     "prev": "75955a30-db5a-49c8-ae22-e0af2a76695b",
     "regions": {
      "ab7eca38-e902-4493-aa89-18735a5f1eb7": {
       "attrs": {
        "height": 0.8,
        "width": 0.8,
        "x": 0.1,
        "y": 0.1
       },
       "content": {
        "cell": "038a4b6b-3a8f-4d09-8c10-0f086fcd35f2",
        "part": "whole"
       },
       "id": "ab7eca38-e902-4493-aa89-18735a5f1eb7"
      }
     }
    },
    "89f88bd0-f7ec-4358-a117-7ec65c8f0bf7": {
     "id": "89f88bd0-f7ec-4358-a117-7ec65c8f0bf7",
     "prev": "97d7841a-cc11-4519-9708-860a44032f71",
     "regions": {
      "662357c6-afb5-46ab-8e26-6857c5a12de0": {
       "attrs": {
        "height": 0.8,
        "width": 0.8,
        "x": 0.1,
        "y": 0.1
       },
       "content": {
        "cell": "f6cf7f63-b083-44bc-abee-69db33f56d12",
        "part": "whole"
       },
       "id": "662357c6-afb5-46ab-8e26-6857c5a12de0"
      }
     }
    },
    "8ce40006-8b60-454a-97e9-044e6ca0ade4": {
     "id": "8ce40006-8b60-454a-97e9-044e6ca0ade4",
     "prev": "03abc149-d93f-4a13-b82d-a0352ecbdb6a",
     "regions": {
      "bd2c1142-f121-42c4-835e-9d9e6df35c7a": {
       "attrs": {
        "height": 0.8,
        "width": 0.8,
        "x": 0.1,
        "y": 0.1
       },
       "content": {
        "cell": "4b36dd92-944a-42ea-8472-0c22a86988e5",
        "part": "whole"
       },
       "id": "bd2c1142-f121-42c4-835e-9d9e6df35c7a"
      }
     }
    },
    "8eb67624-3d32-41fb-a601-92c3470f758d": {
     "id": "8eb67624-3d32-41fb-a601-92c3470f758d",
     "prev": "5ad032d3-893a-4487-af83-79c657571c6d",
     "regions": {
      "e3bbd271-6e7e-44c1-99c2-782ff5404fcf": {
       "attrs": {
        "height": 0.8,
        "width": 0.8,
        "x": 0.1,
        "y": 0.1
       },
       "content": {
        "cell": "3d763745-78bd-4dba-9322-310cc462a27e",
        "part": "whole"
       },
       "id": "e3bbd271-6e7e-44c1-99c2-782ff5404fcf"
      }
     }
    },
    "8f17834a-6487-48b6-8111-fd649a6e2932": {
     "id": "8f17834a-6487-48b6-8111-fd649a6e2932",
     "prev": "acd0ab93-4451-494c-ad5a-712fd143998f",
     "regions": {
      "f97c7deb-ed1e-4890-802d-ce1b94a4c978": {
       "attrs": {
        "height": 0.8,
        "width": 0.8,
        "x": 0.1,
        "y": 0.1
       },
       "content": {
        "cell": "1927875d-c965-44a3-af93-9760e3058eda",
        "part": "whole"
       },
       "id": "f97c7deb-ed1e-4890-802d-ce1b94a4c978"
      }
     }
    },
    "929127c6-d7df-46c0-835b-77ea2fb59ee2": {
     "id": "929127c6-d7df-46c0-835b-77ea2fb59ee2",
     "prev": "f0033f88-cc46-491d-876f-9a115e3c6075",
     "regions": {
      "01cf3564-6eb2-46e4-9447-32f61951c96e": {
       "attrs": {
        "height": 0.8,
        "width": 0.8,
        "x": 0.1,
        "y": 0.1
       },
       "content": {
        "cell": "1f6f56ce-13cb-49b3-99e7-c569473c5220",
        "part": "whole"
       },
       "id": "01cf3564-6eb2-46e4-9447-32f61951c96e"
      }
     }
    },
    "96c98684-fb19-47bf-9760-6aaafa75ff8f": {
     "id": "96c98684-fb19-47bf-9760-6aaafa75ff8f",
     "prev": "150150fa-2b9b-4d39-9643-93101f51e617",
     "regions": {
      "cf54f386-4cfd-45ed-bfba-1c0ececa32d7": {
       "attrs": {
        "height": 0.8,
        "width": 0.8,
        "x": 0.1,
        "y": 0.1
       },
       "content": {
        "cell": "1c7a6ffb-652f-4120-aad7-ad38b2463cd4",
        "part": "whole"
       },
       "id": "cf54f386-4cfd-45ed-bfba-1c0ececa32d7"
      }
     }
    },
    "97d7841a-cc11-4519-9708-860a44032f71": {
     "id": "97d7841a-cc11-4519-9708-860a44032f71",
     "prev": "dcecb9ed-db48-44b8-a925-95aea61ffcfd",
     "regions": {
      "be9b236d-26fd-4806-aae7-14c6b6cd0184": {
       "attrs": {
        "height": 0.8,
        "width": 0.8,
        "x": 0.1,
        "y": 0.1
       },
       "content": {
        "cell": "dc90eec4-b933-4bb0-8267-b621bef16458",
        "part": "whole"
       },
       "id": "be9b236d-26fd-4806-aae7-14c6b6cd0184"
      }
     }
    },
    "9827fb80-fcb5-48b2-8741-d135220ef7dc": {
     "id": "9827fb80-fcb5-48b2-8741-d135220ef7dc",
     "prev": "3bf6bec0-158f-4ba3-b91a-8480b8bf6613",
     "regions": {
      "86762977-b15f-461b-ab9e-2578fb351b9a": {
       "attrs": {
        "height": 0.8,
        "width": 0.8,
        "x": 0.1,
        "y": 0.1
       },
       "content": {
        "cell": "59915182-74d8-4750-a808-b1173dba07cb",
        "part": "whole"
       },
       "id": "86762977-b15f-461b-ab9e-2578fb351b9a"
      }
     }
    },
    "9914e66a-c482-4fe1-8b50-fcaad99b773c": {
     "id": "9914e66a-c482-4fe1-8b50-fcaad99b773c",
     "prev": "c257c10a-b0d2-42da-8581-40fd42458b41",
     "regions": {
      "ce426c7f-217f-42f7-ab3c-6b66c48fe253": {
       "attrs": {
        "height": 0.8,
        "width": 0.8,
        "x": 0.1,
        "y": 0.1
       },
       "content": {
        "cell": "a1f28801-eec0-404f-b999-c02fa6ce0090",
        "part": "whole"
       },
       "id": "ce426c7f-217f-42f7-ab3c-6b66c48fe253"
      }
     }
    },
    "9ada65e0-95be-432c-892e-8cb6bd47d419": {
     "id": "9ada65e0-95be-432c-892e-8cb6bd47d419",
     "prev": "8439badf-5ff2-4228-b602-79a230c46bba",
     "regions": {
      "f5136e05-59ef-4c76-bc23-f58364b24b7e": {
       "attrs": {
        "height": 0.8,
        "width": 0.8,
        "x": 0.1,
        "y": 0.1
       },
       "content": {
        "cell": "e6874064-554d-40a3-8b8d-45c4ec52ab3d",
        "part": "whole"
       },
       "id": "f5136e05-59ef-4c76-bc23-f58364b24b7e"
      }
     }
    },
    "9e3b1dca-3707-43e1-a0ea-639b761ecbfe": {
     "id": "9e3b1dca-3707-43e1-a0ea-639b761ecbfe",
     "prev": "ce1f8e67-42e9-4bc8-b814-0d4e910968a1",
     "regions": {
      "e19d2a04-4444-4387-84be-c38d269461e4": {
       "attrs": {
        "height": 0.8,
        "width": 0.8,
        "x": 0.1,
        "y": 0.1
       },
       "content": {
        "cell": "cb44e366-dc1b-48b0-9d90-1e513c2f29c2",
        "part": "whole"
       },
       "id": "e19d2a04-4444-4387-84be-c38d269461e4"
      }
     }
    },
    "9e8673b3-4fb3-48c9-8fff-93d5087d7525": {
     "id": "9e8673b3-4fb3-48c9-8fff-93d5087d7525",
     "prev": "c49807bf-e6f4-4f8a-b15e-b1abf166fdc3",
     "regions": {
      "255dc635-6995-47ce-86ce-0c06ea86c054": {
       "attrs": {
        "height": 0.8,
        "width": 0.8,
        "x": 0.1,
        "y": 0.1
       },
       "content": {
        "cell": "449e49cd-1aae-4c0c-a82f-5feca25ce642",
        "part": "whole"
       },
       "id": "255dc635-6995-47ce-86ce-0c06ea86c054"
      }
     }
    },
    "a51f7578-9e57-40d1-b5e1-4bd059a95eb5": {
     "id": "a51f7578-9e57-40d1-b5e1-4bd059a95eb5",
     "prev": "10ff9897-adcf-4708-8eb3-ba183d62071f",
     "regions": {
      "95771e09-8f68-43f2-8d86-e9b1e5d1f648": {
       "attrs": {
        "height": 0.8,
        "width": 0.8,
        "x": 0.1,
        "y": 0.1
       },
       "content": {
        "cell": "84aa8be5-d163-42b6-ba7b-1f42f9f67c98",
        "part": "whole"
       },
       "id": "95771e09-8f68-43f2-8d86-e9b1e5d1f648"
      }
     }
    },
    "acd0ab93-4451-494c-ad5a-712fd143998f": {
     "id": "acd0ab93-4451-494c-ad5a-712fd143998f",
     "prev": "929127c6-d7df-46c0-835b-77ea2fb59ee2",
     "regions": {
      "dd9bf60b-bea4-4146-95ad-67adf099030a": {
       "attrs": {
        "height": 0.8,
        "width": 0.8,
        "x": 0.1,
        "y": 0.1
       },
       "content": {
        "cell": "c716a9a8-6a94-490c-a601-30e8a81e6dd9",
        "part": "whole"
       },
       "id": "dd9bf60b-bea4-4146-95ad-67adf099030a"
      }
     }
    },
    "ad8e0a57-db34-4772-9bfc-b927f55cbd32": {
     "id": "ad8e0a57-db34-4772-9bfc-b927f55cbd32",
     "prev": "756f6127-5b8a-4c25-80aa-3095631b0eb4",
     "regions": {
      "4e9d0b17-2206-4b8b-963c-6dbc7b7e9baa": {
       "attrs": {
        "height": 0.8,
        "width": 0.8,
        "x": 0.1,
        "y": 0.1
       },
       "content": {
        "cell": "f002003c-9000-426f-9e01-73870ac5f524",
        "part": "whole"
       },
       "id": "4e9d0b17-2206-4b8b-963c-6dbc7b7e9baa"
      }
     }
    },
    "b519b2c1-ecc4-45fd-9a1b-544f10d97453": {
     "id": "b519b2c1-ecc4-45fd-9a1b-544f10d97453",
     "prev": "841822b8-ba3c-4d9c-9727-d37a8199b64a",
     "regions": {
      "6012d9a5-459a-4ba8-a542-85ed055da763": {
       "attrs": {
        "height": 0.8,
        "width": 0.8,
        "x": 0.1,
        "y": 0.1
       },
       "content": {
        "cell": "530d3765-bee2-4e7d-ad9c-672c734e7e5a",
        "part": "whole"
       },
       "id": "6012d9a5-459a-4ba8-a542-85ed055da763"
      }
     }
    },
    "b5730c53-df50-413b-bb25-cc58a3c5c569": {
     "id": "b5730c53-df50-413b-bb25-cc58a3c5c569",
     "prev": "69825556-58ad-4f04-aec3-0c2429f93053",
     "regions": {
      "089911f5-ff34-42ec-b228-dc1627da6a75": {
       "attrs": {
        "height": 0.8,
        "width": 0.8,
        "x": 0.1,
        "y": 0.1
       },
       "content": {
        "cell": "8dd13f86-a9d4-4336-9c2c-ea22a4ad4ea9",
        "part": "whole"
       },
       "id": "089911f5-ff34-42ec-b228-dc1627da6a75"
      }
     }
    },
    "b90126d4-833e-4621-8296-9f729fe9d66d": {
     "id": "b90126d4-833e-4621-8296-9f729fe9d66d",
     "prev": "487672be-3d38-43cf-8cdd-0ef19a9928d8",
     "regions": {
      "6a4d887e-9824-4a55-8f46-17ce8241effb": {
       "attrs": {
        "height": 0.8,
        "width": 0.8,
        "x": 0.1,
        "y": 0.1
       },
       "content": {
        "cell": "ef19eab5-8894-4c98-a9e7-a8595f2a97f5",
        "part": "whole"
       },
       "id": "6a4d887e-9824-4a55-8f46-17ce8241effb"
      }
     }
    },
    "bacfc414-6688-4da7-921e-06a8a6547430": {
     "id": "bacfc414-6688-4da7-921e-06a8a6547430",
     "prev": "bf7ce0c1-2d19-4ff7-b0ab-222290f58e87",
     "regions": {
      "2a825b7b-b818-4b80-a789-99fb565c959b": {
       "attrs": {
        "height": 0.8,
        "width": 0.8,
        "x": 0.1,
        "y": 0.1
       },
       "content": {
        "cell": "861f4509-70c4-40cf-a000-7690cff6c6e7",
        "part": "whole"
       },
       "id": "2a825b7b-b818-4b80-a789-99fb565c959b"
      }
     }
    },
    "bedf34a9-29fe-47ed-b4d6-b3f65c78483e": {
     "id": "bedf34a9-29fe-47ed-b4d6-b3f65c78483e",
     "prev": "d4731417-12b3-4a52-b0e4-da4cdf8f06e1",
     "regions": {
      "d891e4b3-fad3-46cb-981f-a531063b370d": {
       "attrs": {
        "height": 0.8,
        "width": 0.8,
        "x": 0.1,
        "y": 0.1
       },
       "content": {
        "cell": "659c71e7-eccf-444a-8a27-ea93d6cb7e7b",
        "part": "whole"
       },
       "id": "d891e4b3-fad3-46cb-981f-a531063b370d"
      }
     }
    },
    "bf7ce0c1-2d19-4ff7-b0ab-222290f58e87": {
     "id": "bf7ce0c1-2d19-4ff7-b0ab-222290f58e87",
     "prev": "9914e66a-c482-4fe1-8b50-fcaad99b773c",
     "regions": {
      "daf60ef4-598e-48da-8077-dc164f18bf74": {
       "attrs": {
        "height": 0.8,
        "width": 0.8,
        "x": 0.1,
        "y": 0.1
       },
       "content": {
        "cell": "d21245e6-f3de-46f6-944c-b8acbe050a13",
        "part": "whole"
       },
       "id": "daf60ef4-598e-48da-8077-dc164f18bf74"
      }
     }
    },
    "c05daef7-8347-4513-8dd3-b28355db420f": {
     "id": "c05daef7-8347-4513-8dd3-b28355db420f",
     "prev": "27a0c95b-b35b-4747-b8eb-ad9b7f839a3c",
     "regions": {
      "349455eb-5aad-4f8c-9665-7b9dcf6e7100": {
       "attrs": {
        "height": 0.8,
        "width": 0.8,
        "x": 0.1,
        "y": 0.1
       },
       "content": {
        "cell": "4f77c7eb-82d0-4cc1-b892-397cc7d31044",
        "part": "whole"
       },
       "id": "349455eb-5aad-4f8c-9665-7b9dcf6e7100"
      }
     }
    },
    "c257c10a-b0d2-42da-8581-40fd42458b41": {
     "id": "c257c10a-b0d2-42da-8581-40fd42458b41",
     "prev": "42c0dc1b-1b63-489b-b140-e8eefc82d0f9",
     "regions": {
      "01730fb6-2f43-4f63-92a4-ebd7a9fa7e6f": {
       "attrs": {
        "height": 0.8,
        "width": 0.8,
        "x": 0.1,
        "y": 0.1
       },
       "content": {
        "cell": "2a18a505-26e8-4598-b50c-d475826acd87",
        "part": "whole"
       },
       "id": "01730fb6-2f43-4f63-92a4-ebd7a9fa7e6f"
      }
     }
    },
    "c49807bf-e6f4-4f8a-b15e-b1abf166fdc3": {
     "id": "c49807bf-e6f4-4f8a-b15e-b1abf166fdc3",
     "prev": "55077da1-ea56-49f1-ad2b-2dbfc0ef45cd",
     "regions": {
      "9ca86e79-d064-4f27-b65a-75720b9f813f": {
       "attrs": {
        "height": 0.8,
        "width": 0.8,
        "x": 0.1,
        "y": 0.1
       },
       "content": {
        "cell": "a864f1ba-9521-48cb-bad6-7e37df80e86b",
        "part": "whole"
       },
       "id": "9ca86e79-d064-4f27-b65a-75720b9f813f"
      }
     }
    },
    "c55849f9-e3c8-4033-8e05-3ad072bf4d1c": {
     "id": "c55849f9-e3c8-4033-8e05-3ad072bf4d1c",
     "prev": "031d0736-ce4d-4c6c-b211-959ca14375a0",
     "regions": {
      "8f539f7b-96b1-4d55-8e71-348047bd5c16": {
       "attrs": {
        "height": 0.8,
        "width": 0.8,
        "x": 0.1,
        "y": 0.1
       },
       "content": {
        "cell": "425ae367-1f60-4f28-87e0-133fab1330b3",
        "part": "whole"
       },
       "id": "8f539f7b-96b1-4d55-8e71-348047bd5c16"
      }
     }
    },
    "c738eb9d-7042-4268-b1dd-75b3cc70c2ee": {
     "id": "c738eb9d-7042-4268-b1dd-75b3cc70c2ee",
     "prev": "2184db11-6e25-4ed3-87aa-bf6695b0f7e2",
     "regions": {
      "b6223bab-6c6b-49cb-a970-35b7611ddb6e": {
       "attrs": {
        "height": 0.8,
        "width": 0.8,
        "x": 0.1,
        "y": 0.1
       },
       "content": {
        "cell": "8ef35f5d-ae7b-45ef-a5f8-755d5535d8b2",
        "part": "whole"
       },
       "id": "b6223bab-6c6b-49cb-a970-35b7611ddb6e"
      }
     }
    },
    "c81d470f-bfb2-400f-9a0e-5dbfd3e5fc0d": {
     "id": "c81d470f-bfb2-400f-9a0e-5dbfd3e5fc0d",
     "prev": "cab806ad-7407-49e2-8bd2-363e2b088965",
     "regions": {
      "f9938f89-016b-4fee-b107-c7f116e287c8": {
       "attrs": {
        "height": 0.8,
        "width": 0.8,
        "x": 0.1,
        "y": 0.1
       },
       "content": {
        "cell": "568e0f76-16e9-44d7-a245-e7ef0aa409b1",
        "part": "whole"
       },
       "id": "f9938f89-016b-4fee-b107-c7f116e287c8"
      }
     }
    },
    "cab806ad-7407-49e2-8bd2-363e2b088965": {
     "id": "cab806ad-7407-49e2-8bd2-363e2b088965",
     "prev": "1e843557-687d-4de2-8e7c-080e89999771",
     "regions": {
      "062dc316-ecb3-4146-accf-8496332e8dab": {
       "attrs": {
        "height": 0.8,
        "width": 0.8,
        "x": 0.1,
        "y": 0.1
       },
       "content": {
        "cell": "0c7710bb-3f01-4d51-b700-533abc0ed129",
        "part": "whole"
       },
       "id": "062dc316-ecb3-4146-accf-8496332e8dab"
      }
     }
    },
    "ce1f8e67-42e9-4bc8-b814-0d4e910968a1": {
     "id": "ce1f8e67-42e9-4bc8-b814-0d4e910968a1",
     "prev": "fb4a939c-63d6-4b36-a25b-e459e622802c",
     "regions": {
      "f80211a8-4c4a-48fd-aa52-d0a0414f82c4": {
       "attrs": {
        "height": 0.8,
        "width": 0.8,
        "x": 0.1,
        "y": 0.1
       },
       "content": {
        "cell": "0ef97dfe-2d7d-4135-9b48-3e6e1359ba3f",
        "part": "whole"
       },
       "id": "f80211a8-4c4a-48fd-aa52-d0a0414f82c4"
      }
     }
    },
    "d2db0ea8-622c-44bb-a292-e959e1f5a3e7": {
     "id": "d2db0ea8-622c-44bb-a292-e959e1f5a3e7",
     "prev": "c55849f9-e3c8-4033-8e05-3ad072bf4d1c",
     "regions": {
      "d278a5d1-1862-443b-9e5b-97b4b3cd06d2": {
       "attrs": {
        "height": 0.8,
        "width": 0.8,
        "x": 0.1,
        "y": 0.1
       },
       "content": {
        "cell": "cdac22cd-e07b-4cf3-875f-6bd3d495c3e7",
        "part": "whole"
       },
       "id": "d278a5d1-1862-443b-9e5b-97b4b3cd06d2"
      }
     }
    },
    "d4731417-12b3-4a52-b0e4-da4cdf8f06e1": {
     "id": "d4731417-12b3-4a52-b0e4-da4cdf8f06e1",
     "prev": "dee86d85-19a2-4232-b519-4d1351c8219f",
     "regions": {
      "6674f526-39b7-40b5-8a62-823b380dc087": {
       "attrs": {
        "height": 0.8,
        "width": 0.8,
        "x": 0.1,
        "y": 0.1
       },
       "content": {
        "cell": "ba5e0988-0b6c-4663-8ca8-e6273ce908d6",
        "part": "whole"
       },
       "id": "6674f526-39b7-40b5-8a62-823b380dc087"
      }
     }
    },
    "d72194e8-989e-4637-87ee-b5665b8ae5b4": {
     "id": "d72194e8-989e-4637-87ee-b5665b8ae5b4",
     "prev": "1d9ae9f7-45b1-4003-8a67-6b48272e0aab",
     "regions": {
      "02eb1b56-e3eb-40c1-b0f6-ee7a21664e08": {
       "attrs": {
        "height": 0.8,
        "width": 0.8,
        "x": 0.1,
        "y": 0.1
       },
       "content": {
        "cell": "0b29f9d3-b3b9-4472-bce3-c9e8b227bbed",
        "part": "whole"
       },
       "id": "02eb1b56-e3eb-40c1-b0f6-ee7a21664e08"
      }
     }
    },
    "dcecb9ed-db48-44b8-a925-95aea61ffcfd": {
     "id": "dcecb9ed-db48-44b8-a925-95aea61ffcfd",
     "prev": "20fef3a4-47a0-45c0-940d-0ee03f4dd6e4",
     "regions": {
      "050f9cf2-71c6-4b6f-b54d-69d9c3f319d8": {
       "attrs": {
        "height": 0.8,
        "width": 0.8,
        "x": 0.1,
        "y": 0.1
       },
       "content": {
        "cell": "ed37d275-910e-47fb-90c5-32cf33a34eb6",
        "part": "whole"
       },
       "id": "050f9cf2-71c6-4b6f-b54d-69d9c3f319d8"
      }
     }
    },
    "dd224f33-16e0-443d-8033-355b25323e5f": {
     "id": "dd224f33-16e0-443d-8033-355b25323e5f",
     "prev": "6b4669c6-1b61-46f4-a671-42d555476577",
     "regions": {
      "cffa38f8-1c0d-49e3-a88f-5fd1edaf37c5": {
       "attrs": {
        "height": 0.8,
        "width": 0.8,
        "x": 0.1,
        "y": 0.1
       },
       "content": {
        "cell": "d7d38e16-9f66-44fe-8ece-b8993d67491f",
        "part": "whole"
       },
       "id": "cffa38f8-1c0d-49e3-a88f-5fd1edaf37c5"
      }
     }
    },
    "dee86d85-19a2-4232-b519-4d1351c8219f": {
     "id": "dee86d85-19a2-4232-b519-4d1351c8219f",
     "prev": "3a9023b8-5fd1-4c3d-b13b-a8d24f6b5980",
     "regions": {
      "fd3fb76c-c0a8-4b93-b7ad-1dd817700eff": {
       "attrs": {
        "height": 0.8,
        "width": 0.8,
        "x": 0.1,
        "y": 0.1
       },
       "content": {
        "cell": "43c77e91-9cb2-450a-b6cd-292a9d610136",
        "part": "whole"
       },
       "id": "fd3fb76c-c0a8-4b93-b7ad-1dd817700eff"
      }
     }
    },
    "e6457709-67f2-43d9-898c-ef0769dda30d": {
     "id": "e6457709-67f2-43d9-898c-ef0769dda30d",
     "prev": "d72194e8-989e-4637-87ee-b5665b8ae5b4",
     "regions": {
      "9e92cea5-2b12-4a04-8894-112d5096f782": {
       "attrs": {
        "height": 0.8,
        "width": 0.8,
        "x": 0.1,
        "y": 0.1
       },
       "content": {
        "cell": "8af7035d-75a9-4217-bf97-ab1c13ef9546",
        "part": "whole"
       },
       "id": "9e92cea5-2b12-4a04-8894-112d5096f782"
      }
     }
    },
    "e6664bf9-7fed-4245-9bcd-924cc73a18aa": {
     "id": "e6664bf9-7fed-4245-9bcd-924cc73a18aa",
     "prev": "ee20f64c-fdb9-4e9d-a508-95dd01ce2b37",
     "regions": {
      "76072263-5b1f-4bd8-91be-0315ea727e9e": {
       "attrs": {
        "height": 0.8,
        "width": 0.8,
        "x": 0.1,
        "y": 0.1
       },
       "content": {
        "cell": "65e3551a-5eae-4a51-8bc8-fa17a625e92f",
        "part": "whole"
       },
       "id": "76072263-5b1f-4bd8-91be-0315ea727e9e"
      }
     }
    },
    "e79d81ff-86ae-4da5-8a6a-f227dc517476": {
     "id": "e79d81ff-86ae-4da5-8a6a-f227dc517476",
     "prev": "bacfc414-6688-4da7-921e-06a8a6547430",
     "regions": {
      "aca88620-277d-49b5-a086-c0b5ce26ca10": {
       "attrs": {
        "height": 0.8,
        "width": 0.8,
        "x": 0.1,
        "y": 0.1
       },
       "content": {
        "cell": "4210568a-022b-473f-82e0-64817e27ef14",
        "part": "whole"
       },
       "id": "aca88620-277d-49b5-a086-c0b5ce26ca10"
      }
     }
    },
    "ee20f64c-fdb9-4e9d-a508-95dd01ce2b37": {
     "id": "ee20f64c-fdb9-4e9d-a508-95dd01ce2b37",
     "prev": "b90126d4-833e-4621-8296-9f729fe9d66d",
     "regions": {
      "6811445a-79e1-41a5-bba2-9dd1d8bf5967": {
       "attrs": {
        "height": 0.8,
        "width": 0.8,
        "x": 0.1,
        "y": 0.1
       },
       "content": {
        "cell": "e084a0bf-1af1-489c-b8b7-925131bdc9b2",
        "part": "whole"
       },
       "id": "6811445a-79e1-41a5-bba2-9dd1d8bf5967"
      }
     }
    },
    "f0033f88-cc46-491d-876f-9a115e3c6075": {
     "id": "f0033f88-cc46-491d-876f-9a115e3c6075",
     "prev": "4c42f4ea-12d0-425f-a619-e2a49e8fbc2d",
     "regions": {
      "36998571-ba45-45eb-a00e-67967e5945b5": {
       "attrs": {
        "height": 0.8,
        "width": 0.8,
        "x": 0.1,
        "y": 0.1
       },
       "content": {
        "cell": "decc88f4-51bc-422c-b13f-fa9819075f4d",
        "part": "whole"
       },
       "id": "36998571-ba45-45eb-a00e-67967e5945b5"
      }
     }
    },
    "f671c35a-ca9a-4c29-8e8e-355fcf72357a": {
     "id": "f671c35a-ca9a-4c29-8e8e-355fcf72357a",
     "prev": "646683b0-78b3-4ad4-8ab9-3c28f73e06d9",
     "regions": {
      "edbf6d2e-a780-4a2e-9a01-e10d35c91623": {
       "attrs": {
        "height": 0.8,
        "width": 0.8,
        "x": 0.1,
        "y": 0.1
       },
       "content": {
        "cell": "aa1c1e23-0d1b-4832-874a-ccfcf269569b",
        "part": "whole"
       },
       "id": "edbf6d2e-a780-4a2e-9a01-e10d35c91623"
      }
     }
    },
    "fb4a939c-63d6-4b36-a25b-e459e622802c": {
     "id": "fb4a939c-63d6-4b36-a25b-e459e622802c",
     "prev": "1b6cb4b1-6d6e-4c51-bc00-4b879ef093e3",
     "regions": {
      "d6b03ddb-3cca-4309-acfd-ebef2db5173e": {
       "attrs": {
        "height": 0.8,
        "width": 0.8,
        "x": 0.1,
        "y": 0.1
       },
       "content": {
        "cell": "972cd574-31b1-47b5-971a-f1a7780c899f",
        "part": "whole"
       },
       "id": "d6b03ddb-3cca-4309-acfd-ebef2db5173e"
      }
     }
    },
    "fb8e4d46-ecb0-435c-ba9f-807e2b3658cc": {
     "id": "fb8e4d46-ecb0-435c-ba9f-807e2b3658cc",
     "prev": "3e56f71b-cb25-47de-8670-fbb0ded2e267",
     "regions": {
      "b6e0eb3c-8af9-493b-b3f4-fea76c989b5d": {
       "attrs": {
        "height": 0.8,
        "width": 0.8,
        "x": 0.1,
        "y": 0.1
       },
       "content": {
        "cell": "8d0eb6db-8b36-4836-bef4-7f7ccfce8b74",
        "part": "whole"
       },
       "id": "b6e0eb3c-8af9-493b-b3f4-fea76c989b5d"
      }
     }
    }
   },
   "themes": {
    "default": "5358a0d6-8c7f-4a2b-8083-de1892050bc6",
    "theme": {}
   }
  }
 },
 "nbformat": 4,
 "nbformat_minor": 0
}
